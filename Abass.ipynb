{
 "cells": [
  {
   "cell_type": "markdown",
   "metadata": {},
   "source": [
    "## Final Project Submission\n",
    "\n",
    "Please fill out:\n",
    "* Student name: **Abass Ibrahim**\n",
    "* Student pace: **Full time**\n",
    "* Scheduled project review date/time: \n",
    "* Instructor name: \n",
    "* Blog post URL:\n"
   ]
  },
  {
   "cell_type": "markdown",
   "metadata": {},
   "source": [
    "## Business Aim\n",
    "Our stakeholders are identified as \"Potential property investors who aim to buy and sell\". <br>\n",
    "Our aim is to create a regression model that predicts house prices based on a number of features. <br>\n",
    "For the entire process, we shall be using the **CRoss-Industry Standard Process for Data Mining (CRISP-DM)**. <br>\n",
    "As such, are target variable is **price**."
   ]
  },
  {
   "cell_type": "markdown",
   "metadata": {},
   "source": [
    "## Data Understanding"
   ]
  },
  {
   "cell_type": "markdown",
   "metadata": {},
   "source": [
    "### Import the necessary libraries"
   ]
  },
  {
   "cell_type": "code",
   "execution_count": 1,
   "metadata": {},
   "outputs": [],
   "source": [
    "import pandas as pd\n",
    "import matplotlib.pyplot as plt\n",
    "import seaborn as sns\n",
    "import numpy as np\n",
    "import statsmodels.api as sm\n",
    "from sklearn.metrics import mean_squared_error\n",
    "from sklearn.model_selection import cross_val_score\n",
    "from sklearn.model_selection import cross_validate\n",
    "from sklearn.model_selection import train_test_split\n",
    "from sklearn.preprocessing import OneHotEncoder\n",
    "from math import sin, cos, sqrt, atan2, radians"
   ]
  },
  {
   "cell_type": "markdown",
   "metadata": {},
   "source": [
    "### Import the house data csv"
   ]
  },
  {
   "cell_type": "code",
   "execution_count": 2,
   "metadata": {},
   "outputs": [
    {
     "name": "stdout",
     "output_type": "stream",
     "text": [
      "<class 'pandas.core.frame.DataFrame'>\n",
      "RangeIndex: 21597 entries, 0 to 21596\n",
      "Data columns (total 21 columns):\n",
      " #   Column         Non-Null Count  Dtype  \n",
      "---  ------         --------------  -----  \n",
      " 0   id             21597 non-null  int64  \n",
      " 1   date           21597 non-null  object \n",
      " 2   price          21597 non-null  float64\n",
      " 3   bedrooms       21597 non-null  int64  \n",
      " 4   bathrooms      21597 non-null  float64\n",
      " 5   sqft_living    21597 non-null  int64  \n",
      " 6   sqft_lot       21597 non-null  int64  \n",
      " 7   floors         21597 non-null  float64\n",
      " 8   waterfront     19221 non-null  object \n",
      " 9   view           21534 non-null  object \n",
      " 10  condition      21597 non-null  object \n",
      " 11  grade          21597 non-null  object \n",
      " 12  sqft_above     21597 non-null  int64  \n",
      " 13  sqft_basement  21597 non-null  object \n",
      " 14  yr_built       21597 non-null  int64  \n",
      " 15  yr_renovated   17755 non-null  float64\n",
      " 16  zipcode        21597 non-null  int64  \n",
      " 17  lat            21597 non-null  float64\n",
      " 18  long           21597 non-null  float64\n",
      " 19  sqft_living15  21597 non-null  int64  \n",
      " 20  sqft_lot15     21597 non-null  int64  \n",
      "dtypes: float64(6), int64(9), object(6)\n",
      "memory usage: 3.5+ MB\n"
     ]
    }
   ],
   "source": [
    "orig_data = pd.read_csv('data/kc_house_data.csv')\n",
    "\n",
    "# Firstly, we check that all of the columns to check their data types.\n",
    "orig_data.info()"
   ]
  },
  {
   "cell_type": "code",
   "execution_count": 3,
   "metadata": {},
   "outputs": [
    {
     "data": {
      "text/html": [
       "<div>\n",
       "<style scoped>\n",
       "    .dataframe tbody tr th:only-of-type {\n",
       "        vertical-align: middle;\n",
       "    }\n",
       "\n",
       "    .dataframe tbody tr th {\n",
       "        vertical-align: top;\n",
       "    }\n",
       "\n",
       "    .dataframe thead th {\n",
       "        text-align: right;\n",
       "    }\n",
       "</style>\n",
       "<table border=\"1\" class=\"dataframe\">\n",
       "  <thead>\n",
       "    <tr style=\"text-align: right;\">\n",
       "      <th></th>\n",
       "      <th>id</th>\n",
       "      <th>date</th>\n",
       "      <th>price</th>\n",
       "      <th>bedrooms</th>\n",
       "      <th>bathrooms</th>\n",
       "      <th>sqft_living</th>\n",
       "      <th>sqft_lot</th>\n",
       "      <th>floors</th>\n",
       "      <th>waterfront</th>\n",
       "      <th>view</th>\n",
       "      <th>...</th>\n",
       "      <th>grade</th>\n",
       "      <th>sqft_above</th>\n",
       "      <th>sqft_basement</th>\n",
       "      <th>yr_built</th>\n",
       "      <th>yr_renovated</th>\n",
       "      <th>zipcode</th>\n",
       "      <th>lat</th>\n",
       "      <th>long</th>\n",
       "      <th>sqft_living15</th>\n",
       "      <th>sqft_lot15</th>\n",
       "    </tr>\n",
       "  </thead>\n",
       "  <tbody>\n",
       "    <tr>\n",
       "      <th>0</th>\n",
       "      <td>7129300520</td>\n",
       "      <td>10/13/2014</td>\n",
       "      <td>221900.0</td>\n",
       "      <td>3</td>\n",
       "      <td>1.00</td>\n",
       "      <td>1180</td>\n",
       "      <td>5650</td>\n",
       "      <td>1.0</td>\n",
       "      <td>NaN</td>\n",
       "      <td>NONE</td>\n",
       "      <td>...</td>\n",
       "      <td>7 Average</td>\n",
       "      <td>1180</td>\n",
       "      <td>0.0</td>\n",
       "      <td>1955</td>\n",
       "      <td>0.0</td>\n",
       "      <td>98178</td>\n",
       "      <td>47.5112</td>\n",
       "      <td>-122.257</td>\n",
       "      <td>1340</td>\n",
       "      <td>5650</td>\n",
       "    </tr>\n",
       "    <tr>\n",
       "      <th>1</th>\n",
       "      <td>6414100192</td>\n",
       "      <td>12/9/2014</td>\n",
       "      <td>538000.0</td>\n",
       "      <td>3</td>\n",
       "      <td>2.25</td>\n",
       "      <td>2570</td>\n",
       "      <td>7242</td>\n",
       "      <td>2.0</td>\n",
       "      <td>NO</td>\n",
       "      <td>NONE</td>\n",
       "      <td>...</td>\n",
       "      <td>7 Average</td>\n",
       "      <td>2170</td>\n",
       "      <td>400.0</td>\n",
       "      <td>1951</td>\n",
       "      <td>1991.0</td>\n",
       "      <td>98125</td>\n",
       "      <td>47.7210</td>\n",
       "      <td>-122.319</td>\n",
       "      <td>1690</td>\n",
       "      <td>7639</td>\n",
       "    </tr>\n",
       "    <tr>\n",
       "      <th>2</th>\n",
       "      <td>5631500400</td>\n",
       "      <td>2/25/2015</td>\n",
       "      <td>180000.0</td>\n",
       "      <td>2</td>\n",
       "      <td>1.00</td>\n",
       "      <td>770</td>\n",
       "      <td>10000</td>\n",
       "      <td>1.0</td>\n",
       "      <td>NO</td>\n",
       "      <td>NONE</td>\n",
       "      <td>...</td>\n",
       "      <td>6 Low Average</td>\n",
       "      <td>770</td>\n",
       "      <td>0.0</td>\n",
       "      <td>1933</td>\n",
       "      <td>NaN</td>\n",
       "      <td>98028</td>\n",
       "      <td>47.7379</td>\n",
       "      <td>-122.233</td>\n",
       "      <td>2720</td>\n",
       "      <td>8062</td>\n",
       "    </tr>\n",
       "    <tr>\n",
       "      <th>3</th>\n",
       "      <td>2487200875</td>\n",
       "      <td>12/9/2014</td>\n",
       "      <td>604000.0</td>\n",
       "      <td>4</td>\n",
       "      <td>3.00</td>\n",
       "      <td>1960</td>\n",
       "      <td>5000</td>\n",
       "      <td>1.0</td>\n",
       "      <td>NO</td>\n",
       "      <td>NONE</td>\n",
       "      <td>...</td>\n",
       "      <td>7 Average</td>\n",
       "      <td>1050</td>\n",
       "      <td>910.0</td>\n",
       "      <td>1965</td>\n",
       "      <td>0.0</td>\n",
       "      <td>98136</td>\n",
       "      <td>47.5208</td>\n",
       "      <td>-122.393</td>\n",
       "      <td>1360</td>\n",
       "      <td>5000</td>\n",
       "    </tr>\n",
       "    <tr>\n",
       "      <th>4</th>\n",
       "      <td>1954400510</td>\n",
       "      <td>2/18/2015</td>\n",
       "      <td>510000.0</td>\n",
       "      <td>3</td>\n",
       "      <td>2.00</td>\n",
       "      <td>1680</td>\n",
       "      <td>8080</td>\n",
       "      <td>1.0</td>\n",
       "      <td>NO</td>\n",
       "      <td>NONE</td>\n",
       "      <td>...</td>\n",
       "      <td>8 Good</td>\n",
       "      <td>1680</td>\n",
       "      <td>0.0</td>\n",
       "      <td>1987</td>\n",
       "      <td>0.0</td>\n",
       "      <td>98074</td>\n",
       "      <td>47.6168</td>\n",
       "      <td>-122.045</td>\n",
       "      <td>1800</td>\n",
       "      <td>7503</td>\n",
       "    </tr>\n",
       "  </tbody>\n",
       "</table>\n",
       "<p>5 rows × 21 columns</p>\n",
       "</div>"
      ],
      "text/plain": [
       "           id        date     price  bedrooms  bathrooms  sqft_living  \\\n",
       "0  7129300520  10/13/2014  221900.0         3       1.00         1180   \n",
       "1  6414100192   12/9/2014  538000.0         3       2.25         2570   \n",
       "2  5631500400   2/25/2015  180000.0         2       1.00          770   \n",
       "3  2487200875   12/9/2014  604000.0         4       3.00         1960   \n",
       "4  1954400510   2/18/2015  510000.0         3       2.00         1680   \n",
       "\n",
       "   sqft_lot  floors waterfront  view  ...          grade sqft_above  \\\n",
       "0      5650     1.0        NaN  NONE  ...      7 Average       1180   \n",
       "1      7242     2.0         NO  NONE  ...      7 Average       2170   \n",
       "2     10000     1.0         NO  NONE  ...  6 Low Average        770   \n",
       "3      5000     1.0         NO  NONE  ...      7 Average       1050   \n",
       "4      8080     1.0         NO  NONE  ...         8 Good       1680   \n",
       "\n",
       "   sqft_basement yr_built  yr_renovated  zipcode      lat     long  \\\n",
       "0            0.0     1955           0.0    98178  47.5112 -122.257   \n",
       "1          400.0     1951        1991.0    98125  47.7210 -122.319   \n",
       "2            0.0     1933           NaN    98028  47.7379 -122.233   \n",
       "3          910.0     1965           0.0    98136  47.5208 -122.393   \n",
       "4            0.0     1987           0.0    98074  47.6168 -122.045   \n",
       "\n",
       "   sqft_living15  sqft_lot15  \n",
       "0           1340        5650  \n",
       "1           1690        7639  \n",
       "2           2720        8062  \n",
       "3           1360        5000  \n",
       "4           1800        7503  \n",
       "\n",
       "[5 rows x 21 columns]"
      ]
     },
     "execution_count": 3,
     "metadata": {},
     "output_type": "execute_result"
    }
   ],
   "source": [
    "orig_data.head()"
   ]
  },
  {
   "cell_type": "code",
   "execution_count": 4,
   "metadata": {},
   "outputs": [],
   "source": [
    "# We should state our target variable.\n",
    "# We'll also divide by 1,000,000 to remove scientific notation\n",
    "y = orig_data['price'] / 1000000\n",
    "\n",
    "# Of the remaining columns, all could act as features except for the id column. So this should be dropped.\n",
    "feature_df = orig_data.drop(['id', 'price'], axis=1)"
   ]
  },
  {
   "cell_type": "markdown",
   "metadata": {},
   "source": [
    "## Holdout test"
   ]
  },
  {
   "cell_type": "code",
   "execution_count": 5,
   "metadata": {},
   "outputs": [],
   "source": [
    "# We have now established our target and feature variables.\n",
    "# Before any cleaning is done, we shall split our data into test and train.\n",
    "X_train, X_test, y_train, y_test = train_test_split(\n",
    "                                                    feature_df,\n",
    "                                                    y,\n",
    "                                                    test_size=0.3,\n",
    "                                                    random_state=1\n",
    ")"
   ]
  },
  {
   "cell_type": "code",
   "execution_count": 6,
   "metadata": {},
   "outputs": [],
   "source": [
    "# From now on we'll be working mainly with X_train\n",
    "\n",
    "# From the column_names.md, we can see that these features would be our categorical variables\n",
    "cat_X = ['date','bedrooms', 'bathrooms', 'floors', 'waterfront', 'view', 'condition', 'grade', 'yr_built', 'yr_renovated', 'zipcode']\n",
    "\n",
    "# We'll isolate the categorical variables\n",
    "cat_df = X_train[cat_X]\n",
    "\n",
    "# We can drop those from the feature_df dataframe so we can have only continuous variables\n",
    "continuous_X = X_train.drop(cat_X, axis=1)\n"
   ]
  },
  {
   "cell_type": "markdown",
   "metadata": {},
   "source": [
    "## Data Cleaning\n",
    "Now we have a better idea of the data that we are dealing with, we should start cleaning it in preparation for our model."
   ]
  },
  {
   "cell_type": "code",
   "execution_count": 7,
   "metadata": {},
   "outputs": [
    {
     "name": "stdout",
     "output_type": "stream",
     "text": [
      "<class 'pandas.core.frame.DataFrame'>\n",
      "Int64Index: 15117 entries, 8093 to 235\n",
      "Data columns (total 8 columns):\n",
      " #   Column         Non-Null Count  Dtype  \n",
      "---  ------         --------------  -----  \n",
      " 0   sqft_living    15117 non-null  int64  \n",
      " 1   sqft_lot       15117 non-null  int64  \n",
      " 2   sqft_above     15117 non-null  int64  \n",
      " 3   sqft_basement  15117 non-null  object \n",
      " 4   lat            15117 non-null  float64\n",
      " 5   long           15117 non-null  float64\n",
      " 6   sqft_living15  15117 non-null  int64  \n",
      " 7   sqft_lot15     15117 non-null  int64  \n",
      "dtypes: float64(2), int64(5), object(1)\n",
      "memory usage: 1.0+ MB\n"
     ]
    }
   ],
   "source": [
    "# Let's have a look at the column values again in our continuous and categorical variables\n",
    "continuous_X.info()"
   ]
  },
  {
   "cell_type": "code",
   "execution_count": 8,
   "metadata": {
    "scrolled": false
   },
   "outputs": [
    {
     "name": "stdout",
     "output_type": "stream",
     "text": [
      "<class 'pandas.core.frame.DataFrame'>\n",
      "Int64Index: 15117 entries, 8093 to 235\n",
      "Data columns (total 11 columns):\n",
      " #   Column        Non-Null Count  Dtype  \n",
      "---  ------        --------------  -----  \n",
      " 0   date          15117 non-null  object \n",
      " 1   bedrooms      15117 non-null  int64  \n",
      " 2   bathrooms     15117 non-null  float64\n",
      " 3   floors        15117 non-null  float64\n",
      " 4   waterfront    13442 non-null  object \n",
      " 5   view          15079 non-null  object \n",
      " 6   condition     15117 non-null  object \n",
      " 7   grade         15117 non-null  object \n",
      " 8   yr_built      15117 non-null  int64  \n",
      " 9   yr_renovated  12423 non-null  float64\n",
      " 10  zipcode       15117 non-null  int64  \n",
      "dtypes: float64(3), int64(3), object(5)\n",
      "memory usage: 1.4+ MB\n"
     ]
    }
   ],
   "source": [
    "cat_df.info()"
   ]
  },
  {
   "cell_type": "code",
   "execution_count": 9,
   "metadata": {
    "scrolled": true
   },
   "outputs": [
    {
     "data": {
      "text/plain": [
       "0.0       8948\n",
       "?          329\n",
       "600.0      153\n",
       "700.0      150\n",
       "500.0      146\n",
       "          ... \n",
       "1816.0       1\n",
       "1248.0       1\n",
       "2400.0       1\n",
       "861.0        1\n",
       "2120.0       1\n",
       "Name: sqft_basement, Length: 276, dtype: int64"
      ]
     },
     "execution_count": 9,
     "metadata": {},
     "output_type": "execute_result"
    }
   ],
   "source": [
    "# Interestingly, sqft_basement is registered as an object when it should be numerical\n",
    "continuous_X['sqft_basement'].value_counts()"
   ]
  },
  {
   "cell_type": "markdown",
   "metadata": {},
   "source": [
    "When we run the value_counts we see that there is a \"?\" which has 454 counts. Evidently an NaN value."
   ]
  },
  {
   "cell_type": "code",
   "execution_count": 10,
   "metadata": {
    "scrolled": true
   },
   "outputs": [
    {
     "data": {
      "image/png": "[encoded data removed]",
      "text/plain": [
       "<Figure size 432x288 with 1 Axes>"
      ]
     },
     "metadata": {
      "needs_background": "light"
     },
     "output_type": "display_data"
    }
   ],
   "source": [
    "# We'll make a histogram to look at the distributions of the data in this column\n",
    "sns.histplot(continuous_X.loc[continuous_X['sqft_basement'] != '?']['sqft_basement'].astype(float));"
   ]
  },
  {
   "cell_type": "markdown",
   "metadata": {},
   "source": [
    "From the graph above we can see that 0 is clearly the modal value. And there are some extreme values towards 5000. <br>\n",
    "Both the mode and median are 0. In this case, we shall use the modal of 0.\n",
    "<br>\n",
    "And then we shall convert that whole column into integers."
   ]
  },
  {
   "cell_type": "code",
   "execution_count": 11,
   "metadata": {},
   "outputs": [],
   "source": [
    "# We firstly replace all values of \"?\" with 0\n",
    "continuous_X['sqft_basement'] = continuous_X['sqft_basement'].apply(lambda x: 0 if x == '?' else x)\n",
    "\n",
    "# And then we turn the values in the column to floats\n",
    "continuous_X['sqft_basement'] = continuous_X['sqft_basement'].astype(float)"
   ]
  },
  {
   "cell_type": "code",
   "execution_count": 12,
   "metadata": {},
   "outputs": [
    {
     "name": "stdout",
     "output_type": "stream",
     "text": [
      "0.1108024078851624\n",
      "0.002513726268439505\n",
      "0.17820996229410596\n"
     ]
    }
   ],
   "source": [
    "# Whilst the data types check out, we can see there are missing values in 3 columns:\n",
    "\n",
    "# waterfront, view & yr_renovated\n",
    "\n",
    "# We shall calculate the percentages of values that are na within each column\n",
    "\n",
    "print(len(cat_df[cat_df['waterfront'].isna() == True]) / len(cat_df['waterfront']))\n",
    "print(len(cat_df[cat_df['view'].isna() == True]) / len(cat_df['view']))\n",
    "print(len(cat_df[cat_df['yr_renovated'].isna() == True]) / len(cat_df['yr_renovated']))\n"
   ]
  },
  {
   "cell_type": "code",
   "execution_count": 13,
   "metadata": {},
   "outputs": [
    {
     "name": "stderr",
     "output_type": "stream",
     "text": [
      "/Users/Abass/opt/anaconda3/envs/learn-env/lib/python3.8/site-packages/pandas/core/series.py:4517: SettingWithCopyWarning: \n",
      "A value is trying to be set on a copy of a slice from a DataFrame\n",
      "\n",
      "See the caveats in the documentation: https://pandas.pydata.org/pandas-docs/stable/user_guide/indexing.html#returning-a-view-versus-a-copy\n",
      "  return super().fillna(\n"
     ]
    }
   ],
   "source": [
    "# For each of the columns, we shall simply use their modal values to fill the na values.\n",
    "\n",
    "# The largest proportion of na values is 17% so replacing values with the modal values should not be problematic.\n",
    "\n",
    "waterfront_mode = cat_df['waterfront'].mode()[0]\n",
    "view_mode = cat_df['view'].mode()[0]\n",
    "yr_renovated_mode = cat_df['yr_renovated'].mode()[0]\n",
    "\n",
    "cat_df['waterfront'].fillna(waterfront_mode, inplace = True)\n",
    "cat_df['view'].fillna(view_mode, inplace = True)\n",
    "cat_df['yr_renovated'].fillna(yr_renovated_mode, inplace = True)"
   ]
  },
  {
   "cell_type": "code",
   "execution_count": 14,
   "metadata": {},
   "outputs": [
    {
     "name": "stderr",
     "output_type": "stream",
     "text": [
      "/Users/Abass/opt/anaconda3/envs/learn-env/lib/python3.8/site-packages/pandas/core/indexing.py:1765: SettingWithCopyWarning: \n",
      "A value is trying to be set on a copy of a slice from a DataFrame.\n",
      "Try using .loc[row_indexer,col_indexer] = value instead\n",
      "\n",
      "See the caveats in the documentation: https://pandas.pydata.org/pandas-docs/stable/user_guide/indexing.html#returning-a-view-versus-a-copy\n",
      "  isetter(loc, value)\n",
      "<ipython-input-14-34bdb125763d>:13: SettingWithCopyWarning: \n",
      "A value is trying to be set on a copy of a slice from a DataFrame.\n",
      "Try using .loc[row_indexer,col_indexer] = value instead\n",
      "\n",
      "See the caveats in the documentation: https://pandas.pydata.org/pandas-docs/stable/user_guide/indexing.html#returning-a-view-versus-a-copy\n",
      "  cat_df[column_name] = cat_df[column_name].astype(int)\n"
     ]
    },
    {
     "data": {
      "text/html": [
       "<div>\n",
       "<style scoped>\n",
       "    .dataframe tbody tr th:only-of-type {\n",
       "        vertical-align: middle;\n",
       "    }\n",
       "\n",
       "    .dataframe tbody tr th {\n",
       "        vertical-align: top;\n",
       "    }\n",
       "\n",
       "    .dataframe thead th {\n",
       "        text-align: right;\n",
       "    }\n",
       "</style>\n",
       "<table border=\"1\" class=\"dataframe\">\n",
       "  <thead>\n",
       "    <tr style=\"text-align: right;\">\n",
       "      <th></th>\n",
       "      <th>date</th>\n",
       "      <th>bedrooms</th>\n",
       "      <th>bathrooms</th>\n",
       "      <th>floors</th>\n",
       "      <th>waterfront</th>\n",
       "      <th>view</th>\n",
       "      <th>condition</th>\n",
       "      <th>grade</th>\n",
       "      <th>yr_built</th>\n",
       "      <th>yr_renovated</th>\n",
       "      <th>zipcode</th>\n",
       "    </tr>\n",
       "  </thead>\n",
       "  <tbody>\n",
       "    <tr>\n",
       "      <th>8093</th>\n",
       "      <td>7/10/2014</td>\n",
       "      <td>2</td>\n",
       "      <td>2.00</td>\n",
       "      <td>1.0</td>\n",
       "      <td>0</td>\n",
       "      <td>0</td>\n",
       "      <td>4</td>\n",
       "      <td>6 Low Average</td>\n",
       "      <td>1940</td>\n",
       "      <td>0.0</td>\n",
       "      <td>98146</td>\n",
       "    </tr>\n",
       "    <tr>\n",
       "      <th>13884</th>\n",
       "      <td>11/14/2014</td>\n",
       "      <td>3</td>\n",
       "      <td>1.00</td>\n",
       "      <td>1.0</td>\n",
       "      <td>0</td>\n",
       "      <td>0</td>\n",
       "      <td>2</td>\n",
       "      <td>6 Low Average</td>\n",
       "      <td>1961</td>\n",
       "      <td>0.0</td>\n",
       "      <td>98146</td>\n",
       "    </tr>\n",
       "    <tr>\n",
       "      <th>406</th>\n",
       "      <td>8/6/2014</td>\n",
       "      <td>3</td>\n",
       "      <td>2.00</td>\n",
       "      <td>3.0</td>\n",
       "      <td>0</td>\n",
       "      <td>0</td>\n",
       "      <td>2</td>\n",
       "      <td>8 Good</td>\n",
       "      <td>2001</td>\n",
       "      <td>0.0</td>\n",
       "      <td>98103</td>\n",
       "    </tr>\n",
       "    <tr>\n",
       "      <th>21317</th>\n",
       "      <td>5/8/2015</td>\n",
       "      <td>4</td>\n",
       "      <td>3.25</td>\n",
       "      <td>2.0</td>\n",
       "      <td>0</td>\n",
       "      <td>2</td>\n",
       "      <td>2</td>\n",
       "      <td>11 Excellent</td>\n",
       "      <td>2015</td>\n",
       "      <td>0.0</td>\n",
       "      <td>98006</td>\n",
       "    </tr>\n",
       "    <tr>\n",
       "      <th>7766</th>\n",
       "      <td>10/7/2014</td>\n",
       "      <td>3</td>\n",
       "      <td>1.50</td>\n",
       "      <td>1.0</td>\n",
       "      <td>0</td>\n",
       "      <td>0</td>\n",
       "      <td>2</td>\n",
       "      <td>7 Average</td>\n",
       "      <td>1962</td>\n",
       "      <td>0.0</td>\n",
       "      <td>98198</td>\n",
       "    </tr>\n",
       "  </tbody>\n",
       "</table>\n",
       "</div>"
      ],
      "text/plain": [
       "             date  bedrooms  bathrooms  floors  waterfront  view  condition  \\\n",
       "8093    7/10/2014         2       2.00     1.0           0     0          4   \n",
       "13884  11/14/2014         3       1.00     1.0           0     0          2   \n",
       "406      8/6/2014         3       2.00     3.0           0     0          2   \n",
       "21317    5/8/2015         4       3.25     2.0           0     2          2   \n",
       "7766    10/7/2014         3       1.50     1.0           0     0          2   \n",
       "\n",
       "               grade  yr_built  yr_renovated  zipcode  \n",
       "8093   6 Low Average      1940           0.0    98146  \n",
       "13884  6 Low Average      1961           0.0    98146  \n",
       "406           8 Good      2001           0.0    98103  \n",
       "21317   11 Excellent      2015           0.0    98006  \n",
       "7766       7 Average      1962           0.0    98198  "
      ]
     },
     "execution_count": 14,
     "metadata": {},
     "output_type": "execute_result"
    }
   ],
   "source": [
    "# The values in waterfront, view and condition are all strings.\n",
    "# We can change them into numerical values based on relative rank.\n",
    "\n",
    "view_values = ['NONE', 'FAIR', 'AVERAGE', 'GOOD', 'EXCELLENT']\n",
    "condition_values = ['Poor', 'Fair', 'Average', 'Good', 'Very Good']\n",
    "waterfront_values = ['NO', 'YES']\n",
    "\n",
    "values_dict = {'view': view_values, 'condition': condition_values, 'waterfront': waterfront_values}\n",
    "\n",
    "for column_name, values_list in values_dict.items():\n",
    "    for num, value in enumerate(values_list):\n",
    "        cat_df.loc[cat_df[column_name] == value, column_name] = int(num)\n",
    "    cat_df[column_name] = cat_df[column_name].astype(int)\n",
    "cat_df.head()"
   ]
  },
  {
   "cell_type": "code",
   "execution_count": 15,
   "metadata": {
    "scrolled": true
   },
   "outputs": [
    {
     "name": "stdout",
     "output_type": "stream",
     "text": [
      "date ['6/23/2014']\n",
      "bedrooms [3]\n",
      "bathrooms [2.5]\n",
      "floors [1.0]\n",
      "waterfront [0]\n",
      "view [0]\n",
      "condition [2]\n",
      "grade ['7 Average']\n",
      "yr_built [2014]\n",
      "yr_renovated [0.0]\n",
      "zipcode [98103]\n"
     ]
    }
   ],
   "source": [
    "# We'll also check to see if any modal 0 values in any of the columns. These may actually be NaN values\n",
    "for column in cat_df.columns:\n",
    "    print(column, list(cat_df[column].mode()))\n",
    "    \n",
    "# A house may not have a basement thus has a 0 value."
   ]
  },
  {
   "cell_type": "markdown",
   "metadata": {},
   "source": [
    "For categorical variables, only yr_renovated has modal 0 values. <br>\n",
    "However, in context this is fine. A house may not have been revovated thus has a 0 value."
   ]
  },
  {
   "cell_type": "code",
   "execution_count": 16,
   "metadata": {},
   "outputs": [
    {
     "name": "stdout",
     "output_type": "stream",
     "text": [
      "sqft_living [1400]\n",
      "sqft_lot [5000]\n",
      "sqft_above [1300]\n",
      "sqft_basement [0.0]\n",
      "lat [47.6955]\n",
      "long [-122.29]\n",
      "sqft_living15 [1440]\n",
      "sqft_lot15 [5000]\n"
     ]
    }
   ],
   "source": [
    "for column in continuous_X.columns:\n",
    "    print(column, list(continuous_X[column].mode()))"
   ]
  },
  {
   "cell_type": "markdown",
   "metadata": {},
   "source": [
    "For continuous variables, only sqft_basement has modal 0 values. <br>\n",
    "However, in context this is fine. A house may not have a basement thus has a 0 value."
   ]
  },
  {
   "cell_type": "code",
   "execution_count": 17,
   "metadata": {},
   "outputs": [
    {
     "data": {
      "image/png": "[encoded data removed]",
      "text/plain": [
       "<Figure size 1296x720 with 8 Axes>"
      ]
     },
     "metadata": {
      "needs_background": "light"
     },
     "output_type": "display_data"
    }
   ],
   "source": [
    "# Now we can plot a matrix of the continuous variables against the target variable\n",
    "# The graph gives us a good idea of the distributions between each variable and the target variable.\n",
    "\n",
    "fig, axes = plt.subplots(nrows = 2, ncols = 4, figsize = (18,10))\n",
    "for column, ax in zip(continuous_X.columns, axes.flatten()):\n",
    "    \n",
    "    # We'll also check the correlations of price against each variable\n",
    "    corr = round(pd.concat([continuous_X[column], y_train], axis=1).corr().iloc[0,1], 3)\n",
    "    ax.scatter(continuous_X[column], y_train, label = f'correlation: {corr}')\n",
    "    ax.set_title(f'price vs {column}')\n",
    "    ax.legend()"
   ]
  },
  {
   "cell_type": "markdown",
   "metadata": {},
   "source": [
    "Clearly sqft_living is the best correlated and longitude is the worst. <br>\n",
    "In addition, lot15 is very uncorrelated with price."
   ]
  },
  {
   "cell_type": "code",
   "execution_count": 18,
   "metadata": {},
   "outputs": [
    {
     "data": {
      "image/png": "[encoded data removed]",
      "text/plain": [
       "<Figure size 1080x720 with 9 Axes>"
      ]
     },
     "metadata": {
      "needs_background": "light"
     },
     "output_type": "display_data"
    }
   ],
   "source": [
    "# We'll also take a look at the distributions of each continuous variable\n",
    "continuous_X.hist(figsize=(15,10));"
   ]
  },
  {
   "cell_type": "markdown",
   "metadata": {},
   "source": [
    "We can immediately see skewed distributions in all cases besides sqft_lot15 and sqft_lot <br>\n",
    "To normalise these, we can take the log of their values <br>\n",
    "But we should be mindful. long has negetaive values so should not be used <br>\n",
    "Sqft_basement has many 0 values so cannot be used. <br>\n",
    "We will also run this code later on once we've removed all 0 values in all columns <br>\n"
   ]
  },
  {
   "cell_type": "code",
   "execution_count": 19,
   "metadata": {},
   "outputs": [
    {
     "data": {
      "text/html": [
       "<div>\n",
       "<style scoped>\n",
       "    .dataframe tbody tr th:only-of-type {\n",
       "        vertical-align: middle;\n",
       "    }\n",
       "\n",
       "    .dataframe tbody tr th {\n",
       "        vertical-align: top;\n",
       "    }\n",
       "\n",
       "    .dataframe thead th {\n",
       "        text-align: right;\n",
       "    }\n",
       "</style>\n",
       "<table border=\"1\" class=\"dataframe\">\n",
       "  <thead>\n",
       "    <tr style=\"text-align: right;\">\n",
       "      <th></th>\n",
       "      <th>sqft_living</th>\n",
       "      <th>sqft_lot</th>\n",
       "      <th>sqft_above</th>\n",
       "      <th>sqft_basement</th>\n",
       "      <th>lat</th>\n",
       "      <th>long</th>\n",
       "      <th>sqft_living15</th>\n",
       "      <th>sqft_lot15</th>\n",
       "    </tr>\n",
       "  </thead>\n",
       "  <tbody>\n",
       "    <tr>\n",
       "      <th>8093</th>\n",
       "      <td>970</td>\n",
       "      <td>9750</td>\n",
       "      <td>970</td>\n",
       "      <td>0.0</td>\n",
       "      <td>47.5073</td>\n",
       "      <td>-122.372</td>\n",
       "      <td>1850</td>\n",
       "      <td>9000</td>\n",
       "    </tr>\n",
       "    <tr>\n",
       "      <th>13884</th>\n",
       "      <td>940</td>\n",
       "      <td>7980</td>\n",
       "      <td>940</td>\n",
       "      <td>0.0</td>\n",
       "      <td>47.5107</td>\n",
       "      <td>-122.345</td>\n",
       "      <td>1050</td>\n",
       "      <td>7980</td>\n",
       "    </tr>\n",
       "    <tr>\n",
       "      <th>406</th>\n",
       "      <td>1290</td>\n",
       "      <td>1213</td>\n",
       "      <td>1290</td>\n",
       "      <td>0.0</td>\n",
       "      <td>47.6609</td>\n",
       "      <td>-122.344</td>\n",
       "      <td>1290</td>\n",
       "      <td>3235</td>\n",
       "    </tr>\n",
       "    <tr>\n",
       "      <th>21317</th>\n",
       "      <td>5640</td>\n",
       "      <td>35006</td>\n",
       "      <td>4900</td>\n",
       "      <td>740.0</td>\n",
       "      <td>47.5491</td>\n",
       "      <td>-122.104</td>\n",
       "      <td>4920</td>\n",
       "      <td>35033</td>\n",
       "    </tr>\n",
       "    <tr>\n",
       "      <th>7766</th>\n",
       "      <td>1230</td>\n",
       "      <td>7500</td>\n",
       "      <td>1230</td>\n",
       "      <td>0.0</td>\n",
       "      <td>47.4202</td>\n",
       "      <td>-122.331</td>\n",
       "      <td>1260</td>\n",
       "      <td>7800</td>\n",
       "    </tr>\n",
       "    <tr>\n",
       "      <th>...</th>\n",
       "      <td>...</td>\n",
       "      <td>...</td>\n",
       "      <td>...</td>\n",
       "      <td>...</td>\n",
       "      <td>...</td>\n",
       "      <td>...</td>\n",
       "      <td>...</td>\n",
       "      <td>...</td>\n",
       "    </tr>\n",
       "    <tr>\n",
       "      <th>10955</th>\n",
       "      <td>2420</td>\n",
       "      <td>7548</td>\n",
       "      <td>1370</td>\n",
       "      <td>1050.0</td>\n",
       "      <td>47.3112</td>\n",
       "      <td>-122.376</td>\n",
       "      <td>2150</td>\n",
       "      <td>8000</td>\n",
       "    </tr>\n",
       "    <tr>\n",
       "      <th>17289</th>\n",
       "      <td>1060</td>\n",
       "      <td>5750</td>\n",
       "      <td>1060</td>\n",
       "      <td>0.0</td>\n",
       "      <td>47.5532</td>\n",
       "      <td>-122.372</td>\n",
       "      <td>1060</td>\n",
       "      <td>5750</td>\n",
       "    </tr>\n",
       "    <tr>\n",
       "      <th>5192</th>\n",
       "      <td>1540</td>\n",
       "      <td>13002</td>\n",
       "      <td>1200</td>\n",
       "      <td>0.0</td>\n",
       "      <td>47.6231</td>\n",
       "      <td>-122.044</td>\n",
       "      <td>1620</td>\n",
       "      <td>10098</td>\n",
       "    </tr>\n",
       "    <tr>\n",
       "      <th>12172</th>\n",
       "      <td>2420</td>\n",
       "      <td>49928</td>\n",
       "      <td>1860</td>\n",
       "      <td>560.0</td>\n",
       "      <td>47.4630</td>\n",
       "      <td>-122.008</td>\n",
       "      <td>2620</td>\n",
       "      <td>37301</td>\n",
       "    </tr>\n",
       "    <tr>\n",
       "      <th>235</th>\n",
       "      <td>3760</td>\n",
       "      <td>28040</td>\n",
       "      <td>3760</td>\n",
       "      <td>0.0</td>\n",
       "      <td>47.6489</td>\n",
       "      <td>-122.183</td>\n",
       "      <td>3430</td>\n",
       "      <td>35096</td>\n",
       "    </tr>\n",
       "  </tbody>\n",
       "</table>\n",
       "<p>15117 rows × 8 columns</p>\n",
       "</div>"
      ],
      "text/plain": [
       "       sqft_living  sqft_lot  sqft_above  sqft_basement      lat     long  \\\n",
       "8093           970      9750         970            0.0  47.5073 -122.372   \n",
       "13884          940      7980         940            0.0  47.5107 -122.345   \n",
       "406           1290      1213        1290            0.0  47.6609 -122.344   \n",
       "21317         5640     35006        4900          740.0  47.5491 -122.104   \n",
       "7766          1230      7500        1230            0.0  47.4202 -122.331   \n",
       "...            ...       ...         ...            ...      ...      ...   \n",
       "10955         2420      7548        1370         1050.0  47.3112 -122.376   \n",
       "17289         1060      5750        1060            0.0  47.5532 -122.372   \n",
       "5192          1540     13002        1200            0.0  47.6231 -122.044   \n",
       "12172         2420     49928        1860          560.0  47.4630 -122.008   \n",
       "235           3760     28040        3760            0.0  47.6489 -122.183   \n",
       "\n",
       "       sqft_living15  sqft_lot15  \n",
       "8093            1850        9000  \n",
       "13884           1050        7980  \n",
       "406             1290        3235  \n",
       "21317           4920       35033  \n",
       "7766            1260        7800  \n",
       "...              ...         ...  \n",
       "10955           2150        8000  \n",
       "17289           1060        5750  \n",
       "5192            1620       10098  \n",
       "12172           2620       37301  \n",
       "235             3430       35096  \n",
       "\n",
       "[15117 rows x 8 columns]"
      ]
     },
     "execution_count": 19,
     "metadata": {},
     "output_type": "execute_result"
    }
   ],
   "source": [
    "continuous_X"
   ]
  },
  {
   "cell_type": "code",
   "execution_count": 20,
   "metadata": {},
   "outputs": [
    {
     "data": {
      "image/png": "[encoded data removed]",
      "text/plain": [
       "<Figure size 432x288 with 2 Axes>"
      ]
     },
     "metadata": {
      "needs_background": "light"
     },
     "output_type": "display_data"
    }
   ],
   "source": [
    "# We'll also create a heatmap to see which variables are highly correlated with each other.\n",
    "# This is to avoid multicolinearity when making a model\n",
    "sns.heatmap(continuous_X.corr());"
   ]
  },
  {
   "cell_type": "markdown",
   "metadata": {},
   "source": [
    "We can filter out all variables that have a high correlation."
   ]
  },
  {
   "cell_type": "code",
   "execution_count": 21,
   "metadata": {},
   "outputs": [
    {
     "data": {
      "text/html": [
       "<div>\n",
       "<style scoped>\n",
       "    .dataframe tbody tr th:only-of-type {\n",
       "        vertical-align: middle;\n",
       "    }\n",
       "\n",
       "    .dataframe tbody tr th {\n",
       "        vertical-align: top;\n",
       "    }\n",
       "\n",
       "    .dataframe thead th {\n",
       "        text-align: right;\n",
       "    }\n",
       "</style>\n",
       "<table border=\"1\" class=\"dataframe\">\n",
       "  <thead>\n",
       "    <tr style=\"text-align: right;\">\n",
       "      <th></th>\n",
       "      <th>correlation</th>\n",
       "    </tr>\n",
       "    <tr>\n",
       "      <th>pairs</th>\n",
       "      <th></th>\n",
       "    </tr>\n",
       "  </thead>\n",
       "  <tbody>\n",
       "    <tr>\n",
       "      <th>(sqft_above, sqft_living)</th>\n",
       "      <td>0.877115</td>\n",
       "    </tr>\n",
       "    <tr>\n",
       "      <th>(sqft_living15, sqft_living)</th>\n",
       "      <td>0.759246</td>\n",
       "    </tr>\n",
       "  </tbody>\n",
       "</table>\n",
       "</div>"
      ],
      "text/plain": [
       "                              correlation\n",
       "pairs                                    \n",
       "(sqft_above, sqft_living)        0.877115\n",
       "(sqft_living15, sqft_living)     0.759246"
      ]
     },
     "execution_count": 21,
     "metadata": {},
     "output_type": "execute_result"
    }
   ],
   "source": [
    "# First we'll create a dataframe based on the absolute correalation values\n",
    "corr_df = continuous_X.corr().abs().stack().reset_index()\n",
    "\n",
    "# Level_0 and level_1 refer to the variable names\n",
    "# We then create a new column that is a tuple of the variable names\n",
    "corr_df['pairs'] = list(zip(corr_df['level_0'], corr_df['level_1']))\n",
    "\n",
    "# We'll make the pairs column the index\n",
    "corr_df.set_index(['pairs'], inplace = True)\n",
    "\n",
    "# We can then drop the level_0 and level_1 columns\n",
    "corr_df.drop(columns = ['level_0', 'level_1'], inplace = True)\n",
    "\n",
    "# We can then rename the '0' column to 'correlation'\n",
    "corr_df.columns = ['correlation']\n",
    "\n",
    "# From our heat map we can see that the only perfectly correlation variables are 2 of the same variables\n",
    "# So we can drop rows that have a correlation of 1\n",
    "corr_df = corr_df[corr_df['correlation'] != 1]\n",
    "\n",
    "# Finally, we sort these values by correlation in descending order\n",
    "corr_df.sort_values(by=['correlation'], ascending = False, inplace = True)\n",
    "\n",
    "# We also need to get rid of duplicate values e.g. A and B is the same as B and A\n",
    "corr_df.drop_duplicates(inplace = True)\n",
    "\n",
    "# Now we can isolate those which are highly correlated\n",
    "corr_df[corr_df['correlation'] >=0.75]"
   ]
  },
  {
   "cell_type": "markdown",
   "metadata": {},
   "source": [
    "We see that there are only 2 sets of highly correlated variables.\n"
   ]
  },
  {
   "cell_type": "markdown",
   "metadata": {},
   "source": [
    "### Feature engineering"
   ]
  },
  {
   "cell_type": "code",
   "execution_count": 22,
   "metadata": {},
   "outputs": [],
   "source": [
    "# Interestingly, we have both longitude and latitude so this opens room for creativity\n",
    "\n",
    "# We'll create this function to help us calculate the distance between 2 points\n",
    "\n",
    "def get_distance(point1, point2):\n",
    "    R = 6370\n",
    "    lat1 = radians(point1[0])  #insert value\n",
    "    lon1 = radians(point1[1])\n",
    "    lat2 = radians(point2[0])\n",
    "    lon2 = radians(point2[1])\n",
    "\n",
    "    dlon = lon2 - lon1\n",
    "    dlat = lat2- lat1\n",
    "\n",
    "    a = sin(dlat / 2)**2 + cos(lat1) * cos(lat2) * sin(dlon / 2)**2\n",
    "    c = 2 * atan2(sqrt(a), sqrt(1-a))\n",
    "    distance = R * c\n",
    "    return distance\n",
    "\n",
    "# We will have to points of interest are the Centre of Seattle: (47.60457618602064, -122.32993003068658),\n",
    "# and the centre of Redmond: (47.679328831807894, -122.13055895937767)\n",
    "# For each record, we will calculate the distance from those points of interests and place them in a new column\n",
    "\n",
    "continuous_X['lat_long'] = list(zip(continuous_X['lat'], continuous_X['long']))\n",
    "continuous_X['Seattle_dist_km'] = continuous_X['lat_long'].apply(lambda x: get_distance(x, (47.60457618602064, -122.32993003068658)))\n",
    "continuous_X['Redmond_dist_km'] = continuous_X['lat_long'].apply(lambda x: get_distance(x, (47.679328831807894, -122.13055895937767)))\n",
    "\n",
    "# The lat long column was temporary and only needed for the calculation. As it is a tuple, it is incompatible with sklearn\n",
    "# As such we shall drop it\n",
    "\n",
    "continuous_X.drop(columns=['lat_long'], inplace=True)"
   ]
  },
  {
   "cell_type": "code",
   "execution_count": 23,
   "metadata": {},
   "outputs": [
    {
     "data": {
      "image/png": "[encoded data removed]",
      "text/plain": [
       "<Figure size 432x288 with 1 Axes>"
      ]
     },
     "metadata": {
      "needs_background": "light"
     },
     "output_type": "display_data"
    }
   ],
   "source": [
    "# Now we'll plot a graph of price against Seattle dist and Redmond dist\n",
    "plt.scatter(continuous_X['Seattle_dist_km'], y_train);"
   ]
  },
  {
   "cell_type": "code",
   "execution_count": 24,
   "metadata": {},
   "outputs": [
    {
     "data": {
      "image/png": "[encoded data removed]",
      "text/plain": [
       "<Figure size 432x288 with 1 Axes>"
      ]
     },
     "metadata": {
      "needs_background": "light"
     },
     "output_type": "display_data"
    }
   ],
   "source": [
    "plt.scatter(continuous_X['Redmond_dist_km'], y_train);"
   ]
  },
  {
   "cell_type": "code",
   "execution_count": 25,
   "metadata": {},
   "outputs": [],
   "source": [
    "# We can also include another feature: \"average room size\"\n",
    "continuous_X['average_room_size'] = continuous_X['sqft_living'] / (cat_df['bathrooms'] + cat_df['bedrooms'])\n",
    "\n",
    "# Another useful metric could be the Floor Area Ratio\n",
    "continuous_X['floor_area_ratio'] = continuous_X['sqft_living'] / continuous_X['sqft_lot']\n"
   ]
  },
  {
   "cell_type": "markdown",
   "metadata": {},
   "source": [
    "**We'll now draw our attention to the categorical variables**"
   ]
  },
  {
   "cell_type": "code",
   "execution_count": 26,
   "metadata": {},
   "outputs": [
    {
     "data": {
      "text/html": [
       "<div>\n",
       "<style scoped>\n",
       "    .dataframe tbody tr th:only-of-type {\n",
       "        vertical-align: middle;\n",
       "    }\n",
       "\n",
       "    .dataframe tbody tr th {\n",
       "        vertical-align: top;\n",
       "    }\n",
       "\n",
       "    .dataframe thead th {\n",
       "        text-align: right;\n",
       "    }\n",
       "</style>\n",
       "<table border=\"1\" class=\"dataframe\">\n",
       "  <thead>\n",
       "    <tr style=\"text-align: right;\">\n",
       "      <th></th>\n",
       "      <th>date</th>\n",
       "      <th>bedrooms</th>\n",
       "      <th>bathrooms</th>\n",
       "      <th>floors</th>\n",
       "      <th>waterfront</th>\n",
       "      <th>view</th>\n",
       "      <th>condition</th>\n",
       "      <th>grade</th>\n",
       "      <th>yr_built</th>\n",
       "      <th>yr_renovated</th>\n",
       "      <th>zipcode</th>\n",
       "    </tr>\n",
       "  </thead>\n",
       "  <tbody>\n",
       "    <tr>\n",
       "      <th>8093</th>\n",
       "      <td>7/10/2014</td>\n",
       "      <td>2</td>\n",
       "      <td>2.00</td>\n",
       "      <td>1.0</td>\n",
       "      <td>0</td>\n",
       "      <td>0</td>\n",
       "      <td>4</td>\n",
       "      <td>6 Low Average</td>\n",
       "      <td>1940</td>\n",
       "      <td>0.0</td>\n",
       "      <td>98146</td>\n",
       "    </tr>\n",
       "    <tr>\n",
       "      <th>13884</th>\n",
       "      <td>11/14/2014</td>\n",
       "      <td>3</td>\n",
       "      <td>1.00</td>\n",
       "      <td>1.0</td>\n",
       "      <td>0</td>\n",
       "      <td>0</td>\n",
       "      <td>2</td>\n",
       "      <td>6 Low Average</td>\n",
       "      <td>1961</td>\n",
       "      <td>0.0</td>\n",
       "      <td>98146</td>\n",
       "    </tr>\n",
       "    <tr>\n",
       "      <th>406</th>\n",
       "      <td>8/6/2014</td>\n",
       "      <td>3</td>\n",
       "      <td>2.00</td>\n",
       "      <td>3.0</td>\n",
       "      <td>0</td>\n",
       "      <td>0</td>\n",
       "      <td>2</td>\n",
       "      <td>8 Good</td>\n",
       "      <td>2001</td>\n",
       "      <td>0.0</td>\n",
       "      <td>98103</td>\n",
       "    </tr>\n",
       "    <tr>\n",
       "      <th>21317</th>\n",
       "      <td>5/8/2015</td>\n",
       "      <td>4</td>\n",
       "      <td>3.25</td>\n",
       "      <td>2.0</td>\n",
       "      <td>0</td>\n",
       "      <td>2</td>\n",
       "      <td>2</td>\n",
       "      <td>11 Excellent</td>\n",
       "      <td>2015</td>\n",
       "      <td>0.0</td>\n",
       "      <td>98006</td>\n",
       "    </tr>\n",
       "    <tr>\n",
       "      <th>7766</th>\n",
       "      <td>10/7/2014</td>\n",
       "      <td>3</td>\n",
       "      <td>1.50</td>\n",
       "      <td>1.0</td>\n",
       "      <td>0</td>\n",
       "      <td>0</td>\n",
       "      <td>2</td>\n",
       "      <td>7 Average</td>\n",
       "      <td>1962</td>\n",
       "      <td>0.0</td>\n",
       "      <td>98198</td>\n",
       "    </tr>\n",
       "    <tr>\n",
       "      <th>...</th>\n",
       "      <td>...</td>\n",
       "      <td>...</td>\n",
       "      <td>...</td>\n",
       "      <td>...</td>\n",
       "      <td>...</td>\n",
       "      <td>...</td>\n",
       "      <td>...</td>\n",
       "      <td>...</td>\n",
       "      <td>...</td>\n",
       "      <td>...</td>\n",
       "      <td>...</td>\n",
       "    </tr>\n",
       "    <tr>\n",
       "      <th>10955</th>\n",
       "      <td>9/17/2014</td>\n",
       "      <td>3</td>\n",
       "      <td>2.25</td>\n",
       "      <td>1.0</td>\n",
       "      <td>0</td>\n",
       "      <td>0</td>\n",
       "      <td>3</td>\n",
       "      <td>8 Good</td>\n",
       "      <td>1967</td>\n",
       "      <td>0.0</td>\n",
       "      <td>98023</td>\n",
       "    </tr>\n",
       "    <tr>\n",
       "      <th>17289</th>\n",
       "      <td>1/5/2015</td>\n",
       "      <td>3</td>\n",
       "      <td>1.50</td>\n",
       "      <td>1.0</td>\n",
       "      <td>0</td>\n",
       "      <td>0</td>\n",
       "      <td>1</td>\n",
       "      <td>7 Average</td>\n",
       "      <td>1981</td>\n",
       "      <td>0.0</td>\n",
       "      <td>98126</td>\n",
       "    </tr>\n",
       "    <tr>\n",
       "      <th>5192</th>\n",
       "      <td>8/1/2014</td>\n",
       "      <td>3</td>\n",
       "      <td>1.75</td>\n",
       "      <td>1.0</td>\n",
       "      <td>0</td>\n",
       "      <td>0</td>\n",
       "      <td>1</td>\n",
       "      <td>8 Good</td>\n",
       "      <td>1984</td>\n",
       "      <td>0.0</td>\n",
       "      <td>98074</td>\n",
       "    </tr>\n",
       "    <tr>\n",
       "      <th>12172</th>\n",
       "      <td>5/21/2014</td>\n",
       "      <td>3</td>\n",
       "      <td>2.50</td>\n",
       "      <td>2.0</td>\n",
       "      <td>0</td>\n",
       "      <td>0</td>\n",
       "      <td>2</td>\n",
       "      <td>8 Good</td>\n",
       "      <td>1985</td>\n",
       "      <td>0.0</td>\n",
       "      <td>98027</td>\n",
       "    </tr>\n",
       "    <tr>\n",
       "      <th>235</th>\n",
       "      <td>6/10/2014</td>\n",
       "      <td>5</td>\n",
       "      <td>4.00</td>\n",
       "      <td>2.0</td>\n",
       "      <td>0</td>\n",
       "      <td>0</td>\n",
       "      <td>2</td>\n",
       "      <td>10 Very Good</td>\n",
       "      <td>1983</td>\n",
       "      <td>0.0</td>\n",
       "      <td>98033</td>\n",
       "    </tr>\n",
       "  </tbody>\n",
       "</table>\n",
       "<p>15117 rows × 11 columns</p>\n",
       "</div>"
      ],
      "text/plain": [
       "             date  bedrooms  bathrooms  floors  waterfront  view  condition  \\\n",
       "8093    7/10/2014         2       2.00     1.0           0     0          4   \n",
       "13884  11/14/2014         3       1.00     1.0           0     0          2   \n",
       "406      8/6/2014         3       2.00     3.0           0     0          2   \n",
       "21317    5/8/2015         4       3.25     2.0           0     2          2   \n",
       "7766    10/7/2014         3       1.50     1.0           0     0          2   \n",
       "...           ...       ...        ...     ...         ...   ...        ...   \n",
       "10955   9/17/2014         3       2.25     1.0           0     0          3   \n",
       "17289    1/5/2015         3       1.50     1.0           0     0          1   \n",
       "5192     8/1/2014         3       1.75     1.0           0     0          1   \n",
       "12172   5/21/2014         3       2.50     2.0           0     0          2   \n",
       "235     6/10/2014         5       4.00     2.0           0     0          2   \n",
       "\n",
       "               grade  yr_built  yr_renovated  zipcode  \n",
       "8093   6 Low Average      1940           0.0    98146  \n",
       "13884  6 Low Average      1961           0.0    98146  \n",
       "406           8 Good      2001           0.0    98103  \n",
       "21317   11 Excellent      2015           0.0    98006  \n",
       "7766       7 Average      1962           0.0    98198  \n",
       "...              ...       ...           ...      ...  \n",
       "10955         8 Good      1967           0.0    98023  \n",
       "17289      7 Average      1981           0.0    98126  \n",
       "5192          8 Good      1984           0.0    98074  \n",
       "12172         8 Good      1985           0.0    98027  \n",
       "235     10 Very Good      1983           0.0    98033  \n",
       "\n",
       "[15117 rows x 11 columns]"
      ]
     },
     "execution_count": 26,
     "metadata": {},
     "output_type": "execute_result"
    }
   ],
   "source": [
    "cat_df"
   ]
  },
  {
   "cell_type": "markdown",
   "metadata": {},
   "source": [
    "From a quick glance, there a few things to clean up. <br>\n",
    "We can strip the string values from the grades to get only numerical values. <br>\n",
    "For date, we can turn the values into years. From there, we can calculate **year sold - year built** <br>\n",
    "There also appears to be a house with 33 bedrooms which seems very unlikely."
   ]
  },
  {
   "cell_type": "code",
   "execution_count": 27,
   "metadata": {},
   "outputs": [
    {
     "data": {
      "text/html": [
       "<div>\n",
       "<style scoped>\n",
       "    .dataframe tbody tr th:only-of-type {\n",
       "        vertical-align: middle;\n",
       "    }\n",
       "\n",
       "    .dataframe tbody tr th {\n",
       "        vertical-align: top;\n",
       "    }\n",
       "\n",
       "    .dataframe thead th {\n",
       "        text-align: right;\n",
       "    }\n",
       "</style>\n",
       "<table border=\"1\" class=\"dataframe\">\n",
       "  <thead>\n",
       "    <tr style=\"text-align: right;\">\n",
       "      <th></th>\n",
       "      <th>date</th>\n",
       "      <th>bedrooms</th>\n",
       "      <th>bathrooms</th>\n",
       "      <th>floors</th>\n",
       "      <th>waterfront</th>\n",
       "      <th>view</th>\n",
       "      <th>condition</th>\n",
       "      <th>grade</th>\n",
       "      <th>yr_built</th>\n",
       "      <th>yr_renovated</th>\n",
       "      <th>zipcode</th>\n",
       "    </tr>\n",
       "  </thead>\n",
       "  <tbody>\n",
       "    <tr>\n",
       "      <th>15856</th>\n",
       "      <td>6/25/2014</td>\n",
       "      <td>33</td>\n",
       "      <td>1.75</td>\n",
       "      <td>1.0</td>\n",
       "      <td>0</td>\n",
       "      <td>0</td>\n",
       "      <td>4</td>\n",
       "      <td>7 Average</td>\n",
       "      <td>1947</td>\n",
       "      <td>0.0</td>\n",
       "      <td>98103</td>\n",
       "    </tr>\n",
       "    <tr>\n",
       "      <th>8748</th>\n",
       "      <td>8/21/2014</td>\n",
       "      <td>11</td>\n",
       "      <td>3.00</td>\n",
       "      <td>2.0</td>\n",
       "      <td>0</td>\n",
       "      <td>0</td>\n",
       "      <td>2</td>\n",
       "      <td>7 Average</td>\n",
       "      <td>1918</td>\n",
       "      <td>1999.0</td>\n",
       "      <td>98106</td>\n",
       "    </tr>\n",
       "    <tr>\n",
       "      <th>4231</th>\n",
       "      <td>1/6/2015</td>\n",
       "      <td>9</td>\n",
       "      <td>3.00</td>\n",
       "      <td>2.0</td>\n",
       "      <td>0</td>\n",
       "      <td>0</td>\n",
       "      <td>2</td>\n",
       "      <td>7 Average</td>\n",
       "      <td>1908</td>\n",
       "      <td>0.0</td>\n",
       "      <td>98102</td>\n",
       "    </tr>\n",
       "    <tr>\n",
       "      <th>16830</th>\n",
       "      <td>3/17/2015</td>\n",
       "      <td>9</td>\n",
       "      <td>4.00</td>\n",
       "      <td>2.5</td>\n",
       "      <td>0</td>\n",
       "      <td>0</td>\n",
       "      <td>2</td>\n",
       "      <td>11 Excellent</td>\n",
       "      <td>1915</td>\n",
       "      <td>0.0</td>\n",
       "      <td>98105</td>\n",
       "    </tr>\n",
       "    <tr>\n",
       "      <th>4092</th>\n",
       "      <td>5/7/2014</td>\n",
       "      <td>9</td>\n",
       "      <td>4.50</td>\n",
       "      <td>2.5</td>\n",
       "      <td>0</td>\n",
       "      <td>0</td>\n",
       "      <td>2</td>\n",
       "      <td>7 Average</td>\n",
       "      <td>1938</td>\n",
       "      <td>0.0</td>\n",
       "      <td>98103</td>\n",
       "    </tr>\n",
       "    <tr>\n",
       "      <th>...</th>\n",
       "      <td>...</td>\n",
       "      <td>...</td>\n",
       "      <td>...</td>\n",
       "      <td>...</td>\n",
       "      <td>...</td>\n",
       "      <td>...</td>\n",
       "      <td>...</td>\n",
       "      <td>...</td>\n",
       "      <td>...</td>\n",
       "      <td>...</td>\n",
       "      <td>...</td>\n",
       "    </tr>\n",
       "    <tr>\n",
       "      <th>12197</th>\n",
       "      <td>11/25/2014</td>\n",
       "      <td>1</td>\n",
       "      <td>2.00</td>\n",
       "      <td>1.0</td>\n",
       "      <td>0</td>\n",
       "      <td>0</td>\n",
       "      <td>3</td>\n",
       "      <td>7 Average</td>\n",
       "      <td>1962</td>\n",
       "      <td>0.0</td>\n",
       "      <td>98001</td>\n",
       "    </tr>\n",
       "    <tr>\n",
       "      <th>11488</th>\n",
       "      <td>3/31/2015</td>\n",
       "      <td>1</td>\n",
       "      <td>1.00</td>\n",
       "      <td>1.0</td>\n",
       "      <td>0</td>\n",
       "      <td>0</td>\n",
       "      <td>3</td>\n",
       "      <td>4 Low</td>\n",
       "      <td>1949</td>\n",
       "      <td>0.0</td>\n",
       "      <td>98136</td>\n",
       "    </tr>\n",
       "    <tr>\n",
       "      <th>5577</th>\n",
       "      <td>9/8/2014</td>\n",
       "      <td>1</td>\n",
       "      <td>2.25</td>\n",
       "      <td>1.5</td>\n",
       "      <td>0</td>\n",
       "      <td>0</td>\n",
       "      <td>2</td>\n",
       "      <td>7 Average</td>\n",
       "      <td>1927</td>\n",
       "      <td>1983.0</td>\n",
       "      <td>98003</td>\n",
       "    </tr>\n",
       "    <tr>\n",
       "      <th>16938</th>\n",
       "      <td>6/4/2014</td>\n",
       "      <td>1</td>\n",
       "      <td>1.00</td>\n",
       "      <td>1.0</td>\n",
       "      <td>0</td>\n",
       "      <td>0</td>\n",
       "      <td>3</td>\n",
       "      <td>5 Fair</td>\n",
       "      <td>1967</td>\n",
       "      <td>0.0</td>\n",
       "      <td>98042</td>\n",
       "    </tr>\n",
       "    <tr>\n",
       "      <th>7612</th>\n",
       "      <td>8/25/2014</td>\n",
       "      <td>1</td>\n",
       "      <td>1.00</td>\n",
       "      <td>1.5</td>\n",
       "      <td>0</td>\n",
       "      <td>0</td>\n",
       "      <td>2</td>\n",
       "      <td>6 Low Average</td>\n",
       "      <td>1929</td>\n",
       "      <td>0.0</td>\n",
       "      <td>98115</td>\n",
       "    </tr>\n",
       "  </tbody>\n",
       "</table>\n",
       "<p>15117 rows × 11 columns</p>\n",
       "</div>"
      ],
      "text/plain": [
       "             date  bedrooms  bathrooms  floors  waterfront  view  condition  \\\n",
       "15856   6/25/2014        33       1.75     1.0           0     0          4   \n",
       "8748    8/21/2014        11       3.00     2.0           0     0          2   \n",
       "4231     1/6/2015         9       3.00     2.0           0     0          2   \n",
       "16830   3/17/2015         9       4.00     2.5           0     0          2   \n",
       "4092     5/7/2014         9       4.50     2.5           0     0          2   \n",
       "...           ...       ...        ...     ...         ...   ...        ...   \n",
       "12197  11/25/2014         1       2.00     1.0           0     0          3   \n",
       "11488   3/31/2015         1       1.00     1.0           0     0          3   \n",
       "5577     9/8/2014         1       2.25     1.5           0     0          2   \n",
       "16938    6/4/2014         1       1.00     1.0           0     0          3   \n",
       "7612    8/25/2014         1       1.00     1.5           0     0          2   \n",
       "\n",
       "               grade  yr_built  yr_renovated  zipcode  \n",
       "15856      7 Average      1947           0.0    98103  \n",
       "8748       7 Average      1918        1999.0    98106  \n",
       "4231       7 Average      1908           0.0    98102  \n",
       "16830   11 Excellent      1915           0.0    98105  \n",
       "4092       7 Average      1938           0.0    98103  \n",
       "...              ...       ...           ...      ...  \n",
       "12197      7 Average      1962           0.0    98001  \n",
       "11488          4 Low      1949           0.0    98136  \n",
       "5577       7 Average      1927        1983.0    98003  \n",
       "16938         5 Fair      1967           0.0    98042  \n",
       "7612   6 Low Average      1929           0.0    98115  \n",
       "\n",
       "[15117 rows x 11 columns]"
      ]
     },
     "execution_count": 27,
     "metadata": {},
     "output_type": "execute_result"
    }
   ],
   "source": [
    "# There appears to be a house with 33 bedrooms. When we inspect it we see that this is probably due to a typo.\n",
    "# Keeping its price in mind, we can assume that the entry was meant to be a \"3\"\n",
    "cat_df.sort_values(by='bedrooms', ascending=False)"
   ]
  },
  {
   "cell_type": "code",
   "execution_count": 28,
   "metadata": {},
   "outputs": [
    {
     "name": "stderr",
     "output_type": "stream",
     "text": [
      "<ipython-input-28-d10bbacc0fcf>:2: SettingWithCopyWarning: \n",
      "A value is trying to be set on a copy of a slice from a DataFrame.\n",
      "Try using .loc[row_indexer,col_indexer] = value instead\n",
      "\n",
      "See the caveats in the documentation: https://pandas.pydata.org/pandas-docs/stable/user_guide/indexing.html#returning-a-view-versus-a-copy\n",
      "  cat_df['bedrooms'] = cat_df['bedrooms'].apply(lambda x: 3 if x == 33 else x)\n"
     ]
    }
   ],
   "source": [
    "# We'll simply correct this error and replace the value with a 3.\n",
    "cat_df['bedrooms'] = cat_df['bedrooms'].apply(lambda x: 3 if x == 33 else x)"
   ]
  },
  {
   "cell_type": "code",
   "execution_count": 29,
   "metadata": {},
   "outputs": [
    {
     "name": "stderr",
     "output_type": "stream",
     "text": [
      "<ipython-input-29-af3fe945f0cd>:8: SettingWithCopyWarning: \n",
      "A value is trying to be set on a copy of a slice from a DataFrame.\n",
      "Try using .loc[row_indexer,col_indexer] = value instead\n",
      "\n",
      "See the caveats in the documentation: https://pandas.pydata.org/pandas-docs/stable/user_guide/indexing.html#returning-a-view-versus-a-copy\n",
      "  cat_df['grade'] = cat_df['grade'].apply(lambda x: get_digit(x))\n"
     ]
    },
    {
     "data": {
      "text/plain": [
       "<AxesSubplot:xlabel='grade', ylabel='price'>"
      ]
     },
     "execution_count": 29,
     "metadata": {},
     "output_type": "execute_result"
    },
    {
     "data": {
      "image/png": "[encoded data removed]",
      "text/plain": [
       "<Figure size 432x288 with 1 Axes>"
      ]
     },
     "metadata": {
      "needs_background": "light"
     },
     "output_type": "display_data"
    }
   ],
   "source": [
    "# We'll strip the letters from grade values using a simple function\n",
    "def get_digit(string):\n",
    "    for s in string.split():\n",
    "        if s.isdigit():\n",
    "            return int(s)\n",
    "\n",
    "# And then apply this to the grade column.\n",
    "cat_df['grade'] = cat_df['grade'].apply(lambda x: get_digit(x))\n",
    "\n",
    "#Once we plot the graph again, we can see a clear correlation between price and grade\n",
    "sns.boxplot(x=cat_df['grade'], y=y_train)"
   ]
  },
  {
   "cell_type": "code",
   "execution_count": 30,
   "metadata": {},
   "outputs": [
    {
     "name": "stderr",
     "output_type": "stream",
     "text": [
      "<ipython-input-30-72e703a2defe>:2: SettingWithCopyWarning: \n",
      "A value is trying to be set on a copy of a slice from a DataFrame.\n",
      "Try using .loc[row_indexer,col_indexer] = value instead\n",
      "\n",
      "See the caveats in the documentation: https://pandas.pydata.org/pandas-docs/stable/user_guide/indexing.html#returning-a-view-versus-a-copy\n",
      "  cat_df['date'] = cat_df['date'].apply(lambda x: int(x[-4:]))\n"
     ]
    }
   ],
   "source": [
    "# For the date sold, we shall turn that into years\n",
    "cat_df['date'] = cat_df['date'].apply(lambda x: int(x[-4:]))\n",
    "\n",
    "# From there, we shall make a new column called year sell_build_year_dff\n",
    "# This is now arguably a continuous variable so can be placed in the continuous_X dataframe\n",
    "continuous_X['sell_build_year_dff'] = abs(cat_df['date'] - cat_df['yr_built'])"
   ]
  },
  {
   "cell_type": "code",
   "execution_count": 31,
   "metadata": {},
   "outputs": [
    {
     "name": "stderr",
     "output_type": "stream",
     "text": [
      "<ipython-input-31-3296e2e2c176>:19: SettingWithCopyWarning: \n",
      "A value is trying to be set on a copy of a slice from a DataFrame.\n",
      "Try using .loc[row_indexer,col_indexer] = value instead\n",
      "\n",
      "See the caveats in the documentation: https://pandas.pydata.org/pandas-docs/stable/user_guide/indexing.html#returning-a-view-versus-a-copy\n",
      "  cat_df['bathroom_rate'] = cat_df['bathrooms'].apply(lambda x: bathroom_rank(x))\n"
     ]
    },
    {
     "data": {
      "image/png": "[encoded data removed]",
      "text/plain": [
       "<Figure size 432x288 with 1 Axes>"
      ]
     },
     "metadata": {
      "needs_background": "light"
     },
     "output_type": "display_data"
    }
   ],
   "source": [
    "# If we look at the distributions of values in the bathrooms column, we can see that there are only a few bathrooms\n",
    "# that exceed the IQR range\n",
    "\n",
    "sns.boxplot(x=cat_df['bathrooms']);\n",
    "\n",
    "# When modelling, the model will be greatly affected by these values, thus a way to resolve this is by grouping them\n",
    "\n",
    "# We shall state houses with less than 2 bathrooms are \"1\", 2-4 are 2-3.5 are \"2\" and greater than 3.5 are \"3\"\n",
    "# This will then be placed in a new column called \"bathroom_rating\"\n",
    "\n",
    "def bathroom_rank(value):\n",
    "    if value <= 2.00:\n",
    "        return 1\n",
    "    elif value > 2.00 and value <= 3.50:\n",
    "        return 2\n",
    "    else:\n",
    "        return 3\n",
    "    \n",
    "cat_df['bathroom_rate'] = cat_df['bathrooms'].apply(lambda x: bathroom_rank(x))\n",
    "\n",
    "# We shall still use the bathrooms to feature engineer a new variable.\n",
    "continuous_X['bathroom_bedroom_ratio'] = cat_df['bathrooms'] / cat_df['bedrooms']\n"
   ]
  },
  {
   "cell_type": "code",
   "execution_count": 32,
   "metadata": {},
   "outputs": [
    {
     "name": "stderr",
     "output_type": "stream",
     "text": [
      "/Users/Abass/opt/anaconda3/envs/learn-env/lib/python3.8/site-packages/pandas/core/frame.py:4163: SettingWithCopyWarning: \n",
      "A value is trying to be set on a copy of a slice from a DataFrame\n",
      "\n",
      "See the caveats in the documentation: https://pandas.pydata.org/pandas-docs/stable/user_guide/indexing.html#returning-a-view-versus-a-copy\n",
      "  return super().drop(\n"
     ]
    }
   ],
   "source": [
    "# We'll drop the date column to avoid data leakage\n",
    "cat_df.drop(columns=['date'], inplace=True)"
   ]
  },
  {
   "cell_type": "markdown",
   "metadata": {},
   "source": [
    "Let's have another look at our continuous_X distributions."
   ]
  },
  {
   "cell_type": "code",
   "execution_count": 33,
   "metadata": {},
   "outputs": [
    {
     "data": {
      "image/png": "[encoded data removed]",
      "text/plain": [
       "<Figure size 1080x720 with 16 Axes>"
      ]
     },
     "metadata": {
      "needs_background": "light"
     },
     "output_type": "display_data"
    }
   ],
   "source": [
    "continuous_X.hist(figsize=(15,10));"
   ]
  },
  {
   "cell_type": "markdown",
   "metadata": {},
   "source": [
    "We can again see skewed distributions. <br>\n",
    "We also cannot include sell_build_year_diff as it includes a 0 value.\n"
   ]
  },
  {
   "cell_type": "code",
   "execution_count": 34,
   "metadata": {},
   "outputs": [],
   "source": [
    "# Now we can return back to our log transformations\n",
    "for column in list(continuous_X.drop(['sqft_lot', 'sqft_lot15', 'long', 'sqft_basement', 'sell_build_year_dff'], axis=1).columns):\n",
    "    continuous_X[f'{column}_log'] = np.log(continuous_X[column])"
   ]
  },
  {
   "cell_type": "code",
   "execution_count": 35,
   "metadata": {},
   "outputs": [
    {
     "data": {
      "image/png": "[encoded data removed]",
      "text/plain": [
       "<Figure size 1440x1080 with 25 Axes>"
      ]
     },
     "metadata": {
      "needs_background": "light"
     },
     "output_type": "display_data"
    }
   ],
   "source": [
    "# When creating our visuals again, we see some log transformations did better than others.\n",
    "continuous_X.hist(figsize=(20,15));"
   ]
  },
  {
   "cell_type": "code",
   "execution_count": 36,
   "metadata": {
    "scrolled": true
   },
   "outputs": [],
   "source": [
    "# In any case, we should make dummy variables of the majority of our categorical variables.\n",
    "#dummies = pd.get_dummies(data=cat_df, columns=['waterfront', 'view', 'condition', 'grade', 'bedrooms', 'zipcode', 'bathrooms', 'floors', 'bathroom_rate'], drop_first = True)\n"
   ]
  },
  {
   "cell_type": "code",
   "execution_count": 38,
   "metadata": {},
   "outputs": [],
   "source": [
    "# And then we shall concat the continuous features with the categorical features and this shall be our X_train\n",
    "#X_train = pd.concat([continuous_X, dummies, cat_df.drop(columns=['waterfront', 'view', 'condition', 'grade', 'bedrooms', 'zipcode', 'bathrooms', 'floors', 'bathroom_rate'])], axis=1)\n",
    "X_train = pd.concat([continuous_X, cat_df], axis=1)"
   ]
  },
  {
   "cell_type": "markdown",
   "metadata": {},
   "source": [
    "## X_test alterations"
   ]
  },
  {
   "cell_type": "markdown",
   "metadata": {},
   "source": [
    "Now that we have completed the feature engineering on **X_train**, we must do the same transformations to **X_test** so they may be compared against each other."
   ]
  },
  {
   "cell_type": "code",
   "execution_count": 44,
   "metadata": {},
   "outputs": [],
   "source": [
    "# This is a function that summarizes all of our transformations\n",
    "def X_test_alter(X_test):\n",
    "    cat_X = ['date','bedrooms', 'bathrooms', 'floors', 'waterfront', 'view', 'condition', 'grade', 'yr_built', 'yr_renovated', 'zipcode']\n",
    "    cat_df = X_test[cat_X]\n",
    "    continuous_X = X_test.drop(cat_X, axis=1)\n",
    "    \n",
    "    continuous_X['sqft_basement'] = continuous_X['sqft_basement'].apply(lambda x: 0 if x == '?' else x)\n",
    "    continuous_X['sqft_basement'] = continuous_X['sqft_basement'].astype(float)\n",
    "    \n",
    "    # We fill na values with the same values used from the X_train dataframe\n",
    "    cat_df['waterfront'].fillna(waterfront_mode, inplace = True)\n",
    "    cat_df['view'].fillna(view_mode, inplace = True)\n",
    "    cat_df['yr_renovated'].fillna(yr_renovated_mode, inplace = True)\n",
    "    \n",
    "    # We then replace these string values with numerical values\n",
    "    view_values = ['NONE', 'FAIR', 'AVERAGE', 'GOOD', 'EXCELLENT']\n",
    "    condition_values = ['Poor', 'Fair', 'Average', 'Good', 'Very Good']\n",
    "    waterfront_values = ['NO', 'YES']\n",
    "\n",
    "    values_dict = {'view': view_values, 'condition': condition_values, 'waterfront': waterfront_values}\n",
    "\n",
    "    for column_name, values_list in values_dict.items():\n",
    "        for num, value in enumerate(values_list):\n",
    "            cat_df.loc[cat_df[column_name] == value, column_name] = int(num)\n",
    "        cat_df[column_name] = cat_df[column_name].astype(int)\n",
    "        \n",
    "    # We then focus on feature engineering    \n",
    "    # Here, we calculate distances using latitude and longitude\n",
    "    \n",
    "    continuous_X['lat_long'] = list(zip(continuous_X['lat'], continuous_X['long']))\n",
    "    continuous_X['Seattle_dist_km'] = continuous_X['lat_long'].apply(lambda x: get_distance(x, (47.60457618602064, -122.32993003068658)))\n",
    "    continuous_X['Redmond_dist_km'] = continuous_X['lat_long'].apply(lambda x: get_distance(x, (47.679328831807894, -122.13055895937767)))\n",
    "\n",
    "    continuous_X.drop(columns=['lat_long'], inplace=True)\n",
    "    \n",
    "    # The features regarding sqft_living\n",
    "    continuous_X['average_room_size'] = continuous_X['sqft_living'] / (cat_df['bathrooms'] + cat_df['bedrooms'])\n",
    "    continuous_X['floor_area_ratio'] = continuous_X['sqft_living'] / continuous_X['sqft_lot']\n",
    "    \n",
    "    # Convert the grade string values into numerical values\n",
    "    cat_df['grade'] = cat_df['grade'].apply(lambda x: get_digit(x))\n",
    "    \n",
    "    # Computations for sell_build_year_dff\n",
    "    cat_df['date'] = cat_df['date'].apply(lambda x: int(x[-4:]))\n",
    "    continuous_X['sell_build_year_dff'] = abs(cat_df['date'] - cat_df['yr_built'])\n",
    "    \n",
    "    # Grouping bathrooms and calculating ratios\n",
    "    cat_df['bathroom_rate'] = cat_df['bathrooms'].apply(lambda x: bathroom_rank(x))\n",
    "    continuous_X['bathroom_bedroom_ratio'] = cat_df['bathrooms'] / cat_df['bedrooms']\n",
    "    \n",
    "    # We'll drop the date column to avoid data leakage\n",
    "    cat_df.drop(columns=['date'], inplace=True)\n",
    "    \n",
    "    # Log transformations\n",
    "    for column in list(continuous_X.drop(['sqft_lot', 'sqft_lot15', 'long', 'sqft_basement', 'sell_build_year_dff'], axis=1).columns):\n",
    "        continuous_X[f'{column}_log'] = np.log(continuous_X[column])\n",
    "    \n",
    "    # Creating our dummy variables\n",
    "    # dummies = pd.get_dummies(data=cat_df, columns=['waterfront', 'view', 'condition', 'grade', 'bedrooms', 'zipcode', 'bathrooms', 'floors', 'bathroom_rate'], drop_first = True)\n",
    "\n",
    "    # Finally concatinating all features\n",
    "    # X_test_alt = pd.concat([continuous_X, dummies, cat_df.drop(columns=['waterfront', 'view', 'condition', 'grade', 'bedrooms', 'zipcode', 'bathrooms', 'floors', 'bathroom_rate'])], axis=1)\n",
    "    X_test_alt = pd.concat([continuous_X, cat_df], axis = 1)\n",
    "    \n",
    "    return X_test_alt\n"
   ]
  },
  {
   "cell_type": "code",
   "execution_count": 46,
   "metadata": {},
   "outputs": [
    {
     "name": "stderr",
     "output_type": "stream",
     "text": [
      "/Users/Abass/opt/anaconda3/envs/learn-env/lib/python3.8/site-packages/pandas/core/series.py:4517: SettingWithCopyWarning: \n",
      "A value is trying to be set on a copy of a slice from a DataFrame\n",
      "\n",
      "See the caveats in the documentation: https://pandas.pydata.org/pandas-docs/stable/user_guide/indexing.html#returning-a-view-versus-a-copy\n",
      "  return super().fillna(\n",
      "/Users/Abass/opt/anaconda3/envs/learn-env/lib/python3.8/site-packages/pandas/core/indexing.py:1765: SettingWithCopyWarning: \n",
      "A value is trying to be set on a copy of a slice from a DataFrame.\n",
      "Try using .loc[row_indexer,col_indexer] = value instead\n",
      "\n",
      "See the caveats in the documentation: https://pandas.pydata.org/pandas-docs/stable/user_guide/indexing.html#returning-a-view-versus-a-copy\n",
      "  isetter(loc, value)\n",
      "<ipython-input-44-cb9ea8caed20>:25: SettingWithCopyWarning: \n",
      "A value is trying to be set on a copy of a slice from a DataFrame.\n",
      "Try using .loc[row_indexer,col_indexer] = value instead\n",
      "\n",
      "See the caveats in the documentation: https://pandas.pydata.org/pandas-docs/stable/user_guide/indexing.html#returning-a-view-versus-a-copy\n",
      "  cat_df[column_name] = cat_df[column_name].astype(int)\n",
      "<ipython-input-44-cb9ea8caed20>:41: SettingWithCopyWarning: \n",
      "A value is trying to be set on a copy of a slice from a DataFrame.\n",
      "Try using .loc[row_indexer,col_indexer] = value instead\n",
      "\n",
      "See the caveats in the documentation: https://pandas.pydata.org/pandas-docs/stable/user_guide/indexing.html#returning-a-view-versus-a-copy\n",
      "  cat_df['grade'] = cat_df['grade'].apply(lambda x: get_digit(x))\n",
      "<ipython-input-44-cb9ea8caed20>:44: SettingWithCopyWarning: \n",
      "A value is trying to be set on a copy of a slice from a DataFrame.\n",
      "Try using .loc[row_indexer,col_indexer] = value instead\n",
      "\n",
      "See the caveats in the documentation: https://pandas.pydata.org/pandas-docs/stable/user_guide/indexing.html#returning-a-view-versus-a-copy\n",
      "  cat_df['date'] = cat_df['date'].apply(lambda x: int(x[-4:]))\n",
      "<ipython-input-44-cb9ea8caed20>:48: SettingWithCopyWarning: \n",
      "A value is trying to be set on a copy of a slice from a DataFrame.\n",
      "Try using .loc[row_indexer,col_indexer] = value instead\n",
      "\n",
      "See the caveats in the documentation: https://pandas.pydata.org/pandas-docs/stable/user_guide/indexing.html#returning-a-view-versus-a-copy\n",
      "  cat_df['bathroom_rate'] = cat_df['bathrooms'].apply(lambda x: bathroom_rank(x))\n",
      "/Users/Abass/opt/anaconda3/envs/learn-env/lib/python3.8/site-packages/pandas/core/frame.py:4163: SettingWithCopyWarning: \n",
      "A value is trying to be set on a copy of a slice from a DataFrame\n",
      "\n",
      "See the caveats in the documentation: https://pandas.pydata.org/pandas-docs/stable/user_guide/indexing.html#returning-a-view-versus-a-copy\n",
      "  return super().drop(\n"
     ]
    }
   ],
   "source": [
    "X_test = X_test_alter(X_test)"
   ]
  },
  {
   "cell_type": "markdown",
   "metadata": {},
   "source": [
    "# Model Building"
   ]
  },
  {
   "cell_type": "markdown",
   "metadata": {},
   "source": [
    "## Model 1 - { Baseline Model }\n",
    "This initial model will be extremely basic. It will simply take the price data and the continuous variables **without** the columns we features we engineered. <br>\n",
    "We will be validating our predictions using the k fold validation method. <br> <br>\n",
    "**Summary:** <br>\n",
    "> *Train R squared* = **0.584** <br>\n",
    "> *Test R squared* = **0.579** <br>\n",
    "<br>\n",
    "> *RMSE_test* = **0.579** <br>"
   ]
  },
  {
   "cell_type": "code",
   "execution_count": 47,
   "metadata": {},
   "outputs": [],
   "source": [
    "from sklearn.linear_model import LinearRegression\n",
    "model1_linreg = LinearRegression()\n",
    "\n",
    "model1_scores = cross_validate(\n",
    "                        model1_linreg, X_train[list(continuous_X.columns)].iloc[:, 0:8], y_train, cv=20,\n",
    "                        scoring = ['neg_mean_squared_error', 'r2'],\n",
    "                        return_train_score=True\n",
    ")"
   ]
  },
  {
   "cell_type": "code",
   "execution_count": 48,
   "metadata": {},
   "outputs": [
    {
     "name": "stdout",
     "output_type": "stream",
     "text": [
      "Train R squared: 0.584 | Test R squared: 0.579\n",
      "Train RMSE: 0.24 | Test RMSE: 0.241\n"
     ]
    }
   ],
   "source": [
    "model1_train_r2 = np.mean(model1_scores['train_r2'])\n",
    "model1_test_r2 = np.mean(model1_scores['test_r2'])\n",
    "model1_test_RMSE = np.mean(abs((model1_scores['test_neg_mean_squared_error'])))**0.5\n",
    "model1_train_RMSE = np.mean(abs((model1_scores['train_neg_mean_squared_error'])))**0.5\n",
    "\n",
    "print(f'Train R squared: {round(model1_train_r2, 3)} | Test R squared: {round(model1_test_r2, 3)}')\n",
    "print(f'Train RMSE: {round(model1_train_RMSE, 3)} | Test RMSE: {round(model1_test_RMSE, 3)}')"
   ]
  },
  {
   "cell_type": "code",
   "execution_count": 49,
   "metadata": {},
   "outputs": [
    {
     "data": {
      "text/plain": [
       "LinearRegression()"
      ]
     },
     "execution_count": 49,
     "metadata": {},
     "output_type": "execute_result"
    }
   ],
   "source": [
    "model1_linreg.fit(X_train[list(continuous_X.columns)].iloc[:, 0:8], y_train)"
   ]
  },
  {
   "cell_type": "markdown",
   "metadata": {},
   "source": [
    "**Analysis** <br>\n",
    "An R squared value of 0.58 is a good position to start. <br>\n",
    "We also see a small difference between the test and training sets which suggests no under or overfitting."
   ]
  },
  {
   "cell_type": "markdown",
   "metadata": {},
   "source": [
    "## Model 2"
   ]
  },
  {
   "cell_type": "markdown",
   "metadata": {},
   "source": [
    "Now we'll incorporate all of the continuous variables that were used."
   ]
  },
  {
   "cell_type": "code",
   "execution_count": 50,
   "metadata": {},
   "outputs": [],
   "source": [
    "from sklearn.linear_model import LinearRegression\n",
    "model2_linreg = LinearRegression()\n",
    "\n",
    "model2_scores = cross_validate(\n",
    "                        model2_linreg, X_train[list(continuous_X.columns)], y_train, cv=20,\n",
    "                        scoring = ['neg_mean_squared_error', 'r2'],\n",
    "                        return_train_score=True\n",
    ")"
   ]
  },
  {
   "cell_type": "code",
   "execution_count": 51,
   "metadata": {
    "scrolled": true
   },
   "outputs": [
    {
     "name": "stdout",
     "output_type": "stream",
     "text": [
      "Train R squared: 0.69 | Test R squared: 0.681\n",
      "Train RMSE: 0.208 | Test RMSE: 0.209\n"
     ]
    }
   ],
   "source": [
    "model2_train_r2 = np.mean(model2_scores['train_r2'])\n",
    "model2_test_r2 = np.mean(model2_scores['test_r2'])\n",
    "model2_test_RMSE = np.mean(abs((model2_scores['test_neg_mean_squared_error'])))**0.5\n",
    "model2_train_RMSE = np.mean(abs((model2_scores['train_neg_mean_squared_error'])))**0.5\n",
    "\n",
    "print(f'Train R squared: {round(model2_train_r2, 3)} | Test R squared: {round(model2_test_r2, 3)}')\n",
    "print(f'Train RMSE: {round(model2_train_RMSE, 3)} | Test RMSE: {round(model2_test_RMSE, 3)}')"
   ]
  },
  {
   "cell_type": "code",
   "execution_count": 65,
   "metadata": {},
   "outputs": [
    {
     "data": {
      "text/plain": [
       "LinearRegression()"
      ]
     },
     "execution_count": 65,
     "metadata": {},
     "output_type": "execute_result"
    }
   ],
   "source": [
    "model2_linreg.fit(X_train[list(continuous_X.columns)], y_train)"
   ]
  },
  {
   "cell_type": "markdown",
   "metadata": {},
   "source": [
    "## Model 3"
   ]
  },
  {
   "cell_type": "markdown",
   "metadata": {},
   "source": [
    "We'll now include both our continuous and categorical features which have **NOT** been dummied."
   ]
  },
  {
   "cell_type": "code",
   "execution_count": 52,
   "metadata": {},
   "outputs": [],
   "source": [
    "from sklearn.linear_model import LinearRegression\n",
    "model3_linreg = LinearRegression()\n",
    "\n",
    "model3_scores = cross_validate(\n",
    "                        model3_linreg, X_train, y_train, cv=20,\n",
    "                        scoring = ['neg_mean_squared_error', 'r2'],\n",
    "                        return_train_score=True\n",
    ")"
   ]
  },
  {
   "cell_type": "code",
   "execution_count": 53,
   "metadata": {},
   "outputs": [
    {
     "name": "stdout",
     "output_type": "stream",
     "text": [
      "Train R squared: 0.767 | Test R squared: 0.758\n",
      "Train RMSE: 0.18 | Test RMSE: 0.181\n"
     ]
    }
   ],
   "source": [
    "model3_train_r2 = np.mean(model3_scores['train_r2'])\n",
    "model3_test_r2 = np.mean(model3_scores['test_r2'])\n",
    "model3_test_RMSE = np.mean(abs((model3_scores['test_neg_mean_squared_error'])))**0.5\n",
    "model3_train_RMSE = np.mean(abs((model3_scores['train_neg_mean_squared_error'])))**0.5\n",
    "\n",
    "print(f'Train R squared: {round(model3_train_r2, 3)} | Test R squared: {round(model3_test_r2, 3)}')\n",
    "print(f'Train RMSE: {round(model3_train_RMSE, 3)} | Test RMSE: {round(model3_test_RMSE, 3)}')"
   ]
  },
  {
   "cell_type": "code",
   "execution_count": 57,
   "metadata": {},
   "outputs": [
    {
     "data": {
      "text/plain": [
       "LinearRegression()"
      ]
     },
     "execution_count": 57,
     "metadata": {},
     "output_type": "execute_result"
    }
   ],
   "source": [
    "model3_linreg.fit(X_train, y_train)"
   ]
  },
  {
   "cell_type": "markdown",
   "metadata": {},
   "source": [
    "So far, model 3 seems to be our best model."
   ]
  },
  {
   "cell_type": "markdown",
   "metadata": {},
   "source": [
    "## Testing against X_test"
   ]
  },
  {
   "cell_type": "markdown",
   "metadata": {},
   "source": [
    "Now that we have our best model, it is time to test it against the unseen X_test and y_test."
   ]
  },
  {
   "cell_type": "code",
   "execution_count": 63,
   "metadata": {},
   "outputs": [
    {
     "data": {
      "text/plain": [
       "0.6095387709675011"
      ]
     },
     "execution_count": 63,
     "metadata": {},
     "output_type": "execute_result"
    }
   ],
   "source": [
    "# Model 1\n",
    "model1_linreg.score(X_test[list(continuous_X.columns)].iloc[:, 0:8], y_test)"
   ]
  },
  {
   "cell_type": "code",
   "execution_count": 66,
   "metadata": {},
   "outputs": [
    {
     "data": {
      "text/plain": [
       "0.6942127732051736"
      ]
     },
     "execution_count": 66,
     "metadata": {},
     "output_type": "execute_result"
    }
   ],
   "source": [
    "# Model 2\n",
    "model2_linreg.score(X_test[list(continuous_X.columns)], y_test)"
   ]
  },
  {
   "cell_type": "code",
   "execution_count": 67,
   "metadata": {},
   "outputs": [
    {
     "data": {
      "text/plain": [
       "0.7713889460720328"
      ]
     },
     "execution_count": 67,
     "metadata": {},
     "output_type": "execute_result"
    }
   ],
   "source": [
    "# Model 3\n",
    "model3_linreg.score(X_test, y_test)"
   ]
  },
  {
   "cell_type": "code",
   "execution_count": 54,
   "metadata": {},
   "outputs": [],
   "source": [
    "# Clearly, model 3 is our best model\n",
    "best_model = model3_linreg"
   ]
  },
  {
   "cell_type": "markdown",
   "metadata": {},
   "source": [
    "<br>"
   ]
  },
  {
   "cell_type": "markdown",
   "metadata": {},
   "source": [
    "<br>"
   ]
  },
  {
   "cell_type": "markdown",
   "metadata": {},
   "source": [
    "<br>"
   ]
  },
  {
   "cell_type": "markdown",
   "metadata": {},
   "source": [
    "# Experimentation"
   ]
  },
  {
   "cell_type": "markdown",
   "metadata": {},
   "source": [
    "## Model 4"
   ]
  },
  {
   "cell_type": "code",
   "execution_count": 68,
   "metadata": {},
   "outputs": [],
   "source": [
    "from sklearn.linear_model import LinearRegression\n",
    "model4_linreg = LinearRegression()\n",
    "\n",
    "model4_scores = cross_validate(\n",
    "                        model4_linreg, X_train.drop(['long', 'sqft_lot15', 'sell_build_year_dff'], axis=1), y_train, cv=20,\n",
    "                        scoring = ['neg_mean_squared_error', 'r2'],\n",
    "                        return_train_score=True\n",
    ")"
   ]
  },
  {
   "cell_type": "code",
   "execution_count": 69,
   "metadata": {
    "scrolled": true
   },
   "outputs": [
    {
     "name": "stdout",
     "output_type": "stream",
     "text": [
      "Train R squared: 0.763 | Test R squared: 0.754\n",
      "Train RMSE: 0.181 | Test RMSE: 0.183\n"
     ]
    }
   ],
   "source": [
    "model4_train_r2 = np.mean(model4_scores['train_r2'])\n",
    "model4_test_r2 = np.mean(model4_scores['test_r2'])\n",
    "model4_test_RMSE = np.mean(abs((model4_scores['test_neg_mean_squared_error'])))**0.5\n",
    "model4_train_RMSE = np.mean(abs((model4_scores['train_neg_mean_squared_error'])))**0.5\n",
    "\n",
    "print(f'Train R squared: {round(model4_train_r2, 3)} | Test R squared: {round(model4_test_r2, 3)}')\n",
    "print(f'Train RMSE: {round(model4_train_RMSE, 3)} | Test RMSE: {round(model4_test_RMSE, 3)}')"
   ]
  },
  {
   "cell_type": "code",
   "execution_count": 72,
   "metadata": {},
   "outputs": [
    {
     "data": {
      "text/plain": [
       "LinearRegression()"
      ]
     },
     "execution_count": 72,
     "metadata": {},
     "output_type": "execute_result"
    }
   ],
   "source": [
    "model4_linreg.fit(X_train.drop(['long', 'sqft_lot15', 'sell_build_year_dff'], axis=1), y_train)"
   ]
  },
  {
   "cell_type": "code",
   "execution_count": 74,
   "metadata": {},
   "outputs": [
    {
     "data": {
      "text/plain": [
       "0.7679025910207574"
      ]
     },
     "execution_count": 74,
     "metadata": {},
     "output_type": "execute_result"
    }
   ],
   "source": [
    "model4_linreg.score(X_test.drop(['long', 'sqft_lot15', 'sell_build_year_dff'], axis=1), y_test)"
   ]
  },
  {
   "cell_type": "markdown",
   "metadata": {},
   "source": [
    "<br>"
   ]
  },
  {
   "cell_type": "markdown",
   "metadata": {},
   "source": [
    "<br>"
   ]
  },
  {
   "cell_type": "markdown",
   "metadata": {},
   "source": [
    "<br>"
   ]
  },
  {
   "cell_type": "code",
   "execution_count": 30,
   "metadata": {},
   "outputs": [],
   "source": [
    "from sklearn.cluster import KMeans"
   ]
  },
  {
   "cell_type": "code",
   "execution_count": 31,
   "metadata": {},
   "outputs": [
    {
     "data": {
      "image/png": "[encoded data removed]",
      "text/plain": [
       "<Figure size 432x288 with 1 Axes>"
      ]
     },
     "metadata": {
      "needs_background": "light"
     },
     "output_type": "display_data"
    }
   ],
   "source": [
    "K_clusters = range(1,10)\n",
    "kmeans = [KMeans(n_clusters=i) for i in K_clusters]\n",
    "Y_axis = continuous_X[['lat']]\n",
    "X_axis = continuous_X[['long']]\n",
    "score = [kmeans[i].fit(Y_axis).score(Y_axis) for i in range(len(kmeans))]\n",
    "\n",
    "# Visualize\n",
    "plt.plot(K_clusters, score)\n",
    "plt.xlabel('Number of Clusters')\n",
    "plt.ylabel('Score')\n",
    "plt.title('Elbow Curve')\n",
    "plt.show()"
   ]
  },
  {
   "cell_type": "markdown",
   "metadata": {},
   "source": [
    "We can see that the rate of change of score decreases significantly after 3 clusters. The **elbow point** i.e. 3/4"
   ]
  },
  {
   "cell_type": "code",
   "execution_count": 32,
   "metadata": {},
   "outputs": [
    {
     "name": "stderr",
     "output_type": "stream",
     "text": [
      "<ipython-input-32-bf1f88d98c11>:9: SettingWithCopyWarning: \n",
      "A value is trying to be set on a copy of a slice from a DataFrame.\n",
      "Try using .loc[row_indexer,col_indexer] = value instead\n",
      "\n",
      "See the caveats in the documentation: https://pandas.pydata.org/pandas-docs/stable/user_guide/indexing.html#returning-a-view-versus-a-copy\n",
      "  cat_df['area_group'] = kmeans.fit_predict(continuous_X[['lat', 'long']])\n"
     ]
    },
    {
     "data": {
      "text/html": [
       "<div>\n",
       "<style scoped>\n",
       "    .dataframe tbody tr th:only-of-type {\n",
       "        vertical-align: middle;\n",
       "    }\n",
       "\n",
       "    .dataframe tbody tr th {\n",
       "        vertical-align: top;\n",
       "    }\n",
       "\n",
       "    .dataframe thead th {\n",
       "        text-align: right;\n",
       "    }\n",
       "</style>\n",
       "<table border=\"1\" class=\"dataframe\">\n",
       "  <thead>\n",
       "    <tr style=\"text-align: right;\">\n",
       "      <th></th>\n",
       "      <th>date</th>\n",
       "      <th>bedrooms</th>\n",
       "      <th>bathrooms</th>\n",
       "      <th>floors</th>\n",
       "      <th>waterfront</th>\n",
       "      <th>view</th>\n",
       "      <th>condition</th>\n",
       "      <th>grade</th>\n",
       "      <th>yr_built</th>\n",
       "      <th>yr_renovated</th>\n",
       "      <th>zipcode</th>\n",
       "      <th>area_group</th>\n",
       "    </tr>\n",
       "  </thead>\n",
       "  <tbody>\n",
       "    <tr>\n",
       "      <th>8093</th>\n",
       "      <td>2014</td>\n",
       "      <td>2</td>\n",
       "      <td>2.00</td>\n",
       "      <td>1.0</td>\n",
       "      <td>0</td>\n",
       "      <td>0</td>\n",
       "      <td>4</td>\n",
       "      <td>6</td>\n",
       "      <td>1940</td>\n",
       "      <td>0.0</td>\n",
       "      <td>98146</td>\n",
       "      <td>2</td>\n",
       "    </tr>\n",
       "    <tr>\n",
       "      <th>13884</th>\n",
       "      <td>2014</td>\n",
       "      <td>3</td>\n",
       "      <td>1.00</td>\n",
       "      <td>1.0</td>\n",
       "      <td>0</td>\n",
       "      <td>0</td>\n",
       "      <td>2</td>\n",
       "      <td>6</td>\n",
       "      <td>1961</td>\n",
       "      <td>0.0</td>\n",
       "      <td>98146</td>\n",
       "      <td>2</td>\n",
       "    </tr>\n",
       "    <tr>\n",
       "      <th>406</th>\n",
       "      <td>2014</td>\n",
       "      <td>3</td>\n",
       "      <td>2.00</td>\n",
       "      <td>3.0</td>\n",
       "      <td>0</td>\n",
       "      <td>0</td>\n",
       "      <td>2</td>\n",
       "      <td>8</td>\n",
       "      <td>2001</td>\n",
       "      <td>0.0</td>\n",
       "      <td>98103</td>\n",
       "      <td>1</td>\n",
       "    </tr>\n",
       "    <tr>\n",
       "      <th>21317</th>\n",
       "      <td>2015</td>\n",
       "      <td>4</td>\n",
       "      <td>3.25</td>\n",
       "      <td>2.0</td>\n",
       "      <td>0</td>\n",
       "      <td>2</td>\n",
       "      <td>2</td>\n",
       "      <td>11</td>\n",
       "      <td>2015</td>\n",
       "      <td>0.0</td>\n",
       "      <td>98006</td>\n",
       "      <td>3</td>\n",
       "    </tr>\n",
       "    <tr>\n",
       "      <th>7766</th>\n",
       "      <td>2014</td>\n",
       "      <td>3</td>\n",
       "      <td>1.50</td>\n",
       "      <td>1.0</td>\n",
       "      <td>0</td>\n",
       "      <td>0</td>\n",
       "      <td>2</td>\n",
       "      <td>7</td>\n",
       "      <td>1962</td>\n",
       "      <td>0.0</td>\n",
       "      <td>98198</td>\n",
       "      <td>2</td>\n",
       "    </tr>\n",
       "  </tbody>\n",
       "</table>\n",
       "</div>"
      ],
      "text/plain": [
       "       date  bedrooms  bathrooms  floors  waterfront  view  condition  grade  \\\n",
       "8093   2014         2       2.00     1.0           0     0          4      6   \n",
       "13884  2014         3       1.00     1.0           0     0          2      6   \n",
       "406    2014         3       2.00     3.0           0     0          2      8   \n",
       "21317  2015         4       3.25     2.0           0     2          2     11   \n",
       "7766   2014         3       1.50     1.0           0     0          2      7   \n",
       "\n",
       "       yr_built  yr_renovated  zipcode  area_group  \n",
       "8093       1940           0.0    98146           2  \n",
       "13884      1961           0.0    98146           2  \n",
       "406        2001           0.0    98103           1  \n",
       "21317      2015           0.0    98006           3  \n",
       "7766       1962           0.0    98198           2  "
      ]
     },
     "execution_count": 32,
     "metadata": {},
     "output_type": "execute_result"
    }
   ],
   "source": [
    "# For our analysis, we'll form 4 clusters.\n",
    "kmeans = KMeans(n_clusters = 4, init ='k-means++')\n",
    "\n",
    "# Compute k-means clustering.\n",
    "kmeans.fit(continuous_X[['lat', 'long']]) \n",
    "\n",
    "# We then create a column which assings a label of 0 to 3 to each record where each label refers to a cluster.\n",
    "# As this is a categorical variable, we should include it into the cat_df dataframe\n",
    "cat_df['area_group'] = kmeans.fit_predict(continuous_X[['lat', 'long']])\n",
    "\n",
    "# Coordinates of cluster centers.\n",
    "centers = kmeans.cluster_centers_ \n",
    "\n",
    "# Labels of each point\n",
    "labels = cat_df['area_group']  \n",
    "\n",
    "# We can now see the new column\n",
    "cat_df.head()"
   ]
  },
  {
   "cell_type": "code",
   "execution_count": 33,
   "metadata": {},
   "outputs": [
    {
     "data": {
      "image/png": "[encoded data removed]",
      "text/plain": [
       "<Figure size 432x288 with 2 Axes>"
      ]
     },
     "metadata": {
      "needs_background": "light"
     },
     "output_type": "display_data"
    }
   ],
   "source": [
    "# We can visualise the 4 areas\n",
    "continuous_X.plot.scatter(x = 'lat', y = 'long', c=labels, s=50, cmap='viridis')\n",
    "\n",
    "plt.scatter(centers[:, 0], centers[:, 1], c='black', s=200, alpha=0.5);"
   ]
  },
  {
   "cell_type": "code",
   "execution_count": 34,
   "metadata": {},
   "outputs": [
    {
     "name": "stderr",
     "output_type": "stream",
     "text": [
      "/Users/Abass/opt/anaconda3/envs/learn-env/lib/python3.8/site-packages/seaborn/_decorators.py:36: FutureWarning: Pass the following variables as keyword args: x, y. From version 0.12, the only valid positional argument will be `data`, and passing other arguments without an explicit keyword will result in an error or misinterpretation.\n",
      "  warnings.warn(\n"
     ]
    },
    {
     "data": {
      "image/png": "[encoded data removed]",
      "text/plain": [
       "<Figure size 432x288 with 1 Axes>"
      ]
     },
     "metadata": {
      "needs_background": "light"
     },
     "output_type": "display_data"
    }
   ],
   "source": [
    "# We can then visualise the average price per area\n",
    "sns.barplot(cat_df['area_group'], y_train);"
   ]
  },
  {
   "cell_type": "markdown",
   "metadata": {},
   "source": [
    "<br>"
   ]
  },
  {
   "cell_type": "markdown",
   "metadata": {},
   "source": [
    "<br>"
   ]
  },
  {
   "cell_type": "markdown",
   "metadata": {},
   "source": [
    "We'll attempt the same for **zipcodes**. However, K means clusters do not work in 1 Dimension so we must pair zipcodes with another variable."
   ]
  },
  {
   "cell_type": "code",
   "execution_count": 35,
   "metadata": {
    "scrolled": true
   },
   "outputs": [
    {
     "data": {
      "image/png": "[encoded data removed]",
      "text/plain": [
       "<Figure size 432x288 with 1 Axes>"
      ]
     },
     "metadata": {
      "needs_background": "light"
     },
     "output_type": "display_data"
    }
   ],
   "source": [
    "K_clusters = range(1,10)\n",
    "kmeans = [KMeans(n_clusters=i) for i in K_clusters]\n",
    "Y_axis = pd.DataFrame(y_train)\n",
    "X_axis = cat_df['zipcode']\n",
    "score = [kmeans[i].fit(Y_axis).score(Y_axis) for i in range(len(kmeans))]\n",
    "\n",
    "# Visualize\n",
    "plt.plot(K_clusters, score)\n",
    "plt.xlabel('Number of Clusters')\n",
    "plt.ylabel('Score')\n",
    "plt.title('Elbow Curve')\n",
    "plt.show()"
   ]
  },
  {
   "cell_type": "markdown",
   "metadata": {},
   "source": [
    "This time we get around 4 for the optimal number of clusters."
   ]
  },
  {
   "cell_type": "code",
   "execution_count": 36,
   "metadata": {},
   "outputs": [
    {
     "name": "stderr",
     "output_type": "stream",
     "text": [
      "<ipython-input-36-2cfb045b6394>:8: SettingWithCopyWarning: \n",
      "A value is trying to be set on a copy of a slice from a DataFrame.\n",
      "Try using .loc[row_indexer,col_indexer] = value instead\n",
      "\n",
      "See the caveats in the documentation: https://pandas.pydata.org/pandas-docs/stable/user_guide/indexing.html#returning-a-view-versus-a-copy\n",
      "  cat_df['area_wealth'] = kmeans.fit_predict(pd.concat([y_train, cat_df['zipcode']], axis=1))\n"
     ]
    },
    {
     "data": {
      "text/html": [
       "<div>\n",
       "<style scoped>\n",
       "    .dataframe tbody tr th:only-of-type {\n",
       "        vertical-align: middle;\n",
       "    }\n",
       "\n",
       "    .dataframe tbody tr th {\n",
       "        vertical-align: top;\n",
       "    }\n",
       "\n",
       "    .dataframe thead th {\n",
       "        text-align: right;\n",
       "    }\n",
       "</style>\n",
       "<table border=\"1\" class=\"dataframe\">\n",
       "  <thead>\n",
       "    <tr style=\"text-align: right;\">\n",
       "      <th></th>\n",
       "      <th>date</th>\n",
       "      <th>bedrooms</th>\n",
       "      <th>bathrooms</th>\n",
       "      <th>floors</th>\n",
       "      <th>waterfront</th>\n",
       "      <th>view</th>\n",
       "      <th>condition</th>\n",
       "      <th>grade</th>\n",
       "      <th>yr_built</th>\n",
       "      <th>yr_renovated</th>\n",
       "      <th>zipcode</th>\n",
       "      <th>area_group</th>\n",
       "      <th>area_wealth</th>\n",
       "    </tr>\n",
       "  </thead>\n",
       "  <tbody>\n",
       "    <tr>\n",
       "      <th>8093</th>\n",
       "      <td>2014</td>\n",
       "      <td>2</td>\n",
       "      <td>2.00</td>\n",
       "      <td>1.0</td>\n",
       "      <td>0</td>\n",
       "      <td>0</td>\n",
       "      <td>4</td>\n",
       "      <td>6</td>\n",
       "      <td>1940</td>\n",
       "      <td>0.0</td>\n",
       "      <td>98146</td>\n",
       "      <td>1</td>\n",
       "      <td>1</td>\n",
       "    </tr>\n",
       "    <tr>\n",
       "      <th>13884</th>\n",
       "      <td>2014</td>\n",
       "      <td>3</td>\n",
       "      <td>1.00</td>\n",
       "      <td>1.0</td>\n",
       "      <td>0</td>\n",
       "      <td>0</td>\n",
       "      <td>2</td>\n",
       "      <td>6</td>\n",
       "      <td>1961</td>\n",
       "      <td>0.0</td>\n",
       "      <td>98146</td>\n",
       "      <td>1</td>\n",
       "      <td>1</td>\n",
       "    </tr>\n",
       "    <tr>\n",
       "      <th>406</th>\n",
       "      <td>2014</td>\n",
       "      <td>3</td>\n",
       "      <td>2.00</td>\n",
       "      <td>3.0</td>\n",
       "      <td>0</td>\n",
       "      <td>0</td>\n",
       "      <td>2</td>\n",
       "      <td>8</td>\n",
       "      <td>2001</td>\n",
       "      <td>0.0</td>\n",
       "      <td>98103</td>\n",
       "      <td>1</td>\n",
       "      <td>3</td>\n",
       "    </tr>\n",
       "    <tr>\n",
       "      <th>21317</th>\n",
       "      <td>2015</td>\n",
       "      <td>4</td>\n",
       "      <td>3.25</td>\n",
       "      <td>2.0</td>\n",
       "      <td>0</td>\n",
       "      <td>2</td>\n",
       "      <td>2</td>\n",
       "      <td>11</td>\n",
       "      <td>2015</td>\n",
       "      <td>0.0</td>\n",
       "      <td>98006</td>\n",
       "      <td>0</td>\n",
       "      <td>2</td>\n",
       "    </tr>\n",
       "    <tr>\n",
       "      <th>7766</th>\n",
       "      <td>2014</td>\n",
       "      <td>3</td>\n",
       "      <td>1.50</td>\n",
       "      <td>1.0</td>\n",
       "      <td>0</td>\n",
       "      <td>0</td>\n",
       "      <td>2</td>\n",
       "      <td>7</td>\n",
       "      <td>1962</td>\n",
       "      <td>0.0</td>\n",
       "      <td>98198</td>\n",
       "      <td>2</td>\n",
       "      <td>1</td>\n",
       "    </tr>\n",
       "  </tbody>\n",
       "</table>\n",
       "</div>"
      ],
      "text/plain": [
       "       date  bedrooms  bathrooms  floors  waterfront  view  condition  grade  \\\n",
       "8093   2014         2       2.00     1.0           0     0          4      6   \n",
       "13884  2014         3       1.00     1.0           0     0          2      6   \n",
       "406    2014         3       2.00     3.0           0     0          2      8   \n",
       "21317  2015         4       3.25     2.0           0     2          2     11   \n",
       "7766   2014         3       1.50     1.0           0     0          2      7   \n",
       "\n",
       "       yr_built  yr_renovated  zipcode  area_group  area_wealth  \n",
       "8093       1940           0.0    98146           1            1  \n",
       "13884      1961           0.0    98146           1            1  \n",
       "406        2001           0.0    98103           1            3  \n",
       "21317      2015           0.0    98006           0            2  \n",
       "7766       1962           0.0    98198           2            1  "
      ]
     },
     "execution_count": 36,
     "metadata": {},
     "output_type": "execute_result"
    }
   ],
   "source": [
    "# For our analysis, we'll form 4 clusters.\n",
    "kmeans = KMeans(n_clusters = 4, init ='k-means++')\n",
    "\n",
    "# Compute k-means clustering.\n",
    "kmeans.fit(pd.concat([y_train, cat_df['zipcode']], axis=1)) \n",
    "\n",
    "# We then create a column which assings a label of 0 to 3 to each record where each label refers to a cluster.\n",
    "cat_df['area_wealth'] = kmeans.fit_predict(pd.concat([y_train, cat_df['zipcode']], axis=1))\n",
    "\n",
    "# Coordinates of cluster centers.\n",
    "centers = kmeans.cluster_centers_ \n",
    "\n",
    "# Labels of each point\n",
    "labels = kmeans.predict(pd.concat([y_train, cat_df['area_wealth']], axis=1)) \n",
    "cat_df.head()"
   ]
  },
  {
   "cell_type": "code",
   "execution_count": 51,
   "metadata": {
    "scrolled": false
   },
   "outputs": [
    {
     "name": "stderr",
     "output_type": "stream",
     "text": [
      "/Users/Abass/opt/anaconda3/envs/learn-env/lib/python3.8/site-packages/seaborn/_decorators.py:36: FutureWarning: Pass the following variables as keyword args: x, y. From version 0.12, the only valid positional argument will be `data`, and passing other arguments without an explicit keyword will result in an error or misinterpretation.\n",
      "  warnings.warn(\n"
     ]
    },
    {
     "data": {
      "image/png": "[encoded data removed]",
      "text/plain": [
       "<Figure size 432x288 with 1 Axes>"
      ]
     },
     "metadata": {
      "needs_background": "light"
     },
     "output_type": "display_data"
    }
   ],
   "source": [
    "sns.barplot(cat_df['area_wealth'], y_train);"
   ]
  }
 ],
 "metadata": {
  "kernelspec": {
   "display_name": "Python (learn-env)",
   "language": "python",
   "name": "learn-env"
  },
  "language_info": {
   "codemirror_mode": {
    "name": "ipython",
    "version": 3
   },
   "file_extension": ".py",
   "mimetype": "text/x-python",
   "name": "python",
   "nbconvert_exporter": "python",
   "pygments_lexer": "ipython3",
   "version": "3.8.5"
  }
 },
 "nbformat": 4,
 "nbformat_minor": 2
}

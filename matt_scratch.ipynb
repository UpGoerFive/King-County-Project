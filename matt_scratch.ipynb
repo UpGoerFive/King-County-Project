{
 "cells": [
  {
   "cell_type": "code",
   "execution_count": 73,
   "metadata": {
    "execution": {
     "iopub.execute_input": "2022-01-06T03:49:44.705150Z",
     "iopub.status.busy": "2022-01-06T03:49:44.704683Z",
     "iopub.status.idle": "2022-01-06T03:49:44.716924Z",
     "shell.execute_reply": "2022-01-06T03:49:44.715677Z",
     "shell.execute_reply.started": "2022-01-06T03:49:44.705019Z"
    }
   },
   "outputs": [],
   "source": [
    "import numpy as np\n",
    "import pandas as pd\n",
    "import matplotlib.pyplot as plt\n",
    "import seaborn as sns\n",
    "import scipy.stats as stats\n",
    "import statsmodels.api as sm\n",
    "from sklearn.impute import SimpleImputer\n",
    "from sklearn.linear_model import LinearRegression\n",
    "from sklearn.metrics import mean_squared_error\n",
    "from sklearn.preprocessing import PolynomialFeatures\n",
    "from sklearn.model_selection import train_test_split\n",
    "from sklearn.model_selection import cross_validate\n",
    "from sklearn.model_selection import cross_val_score\n",
    "from math import sin, cos, sqrt, atan2, radians\n",
    "\n",
    "%matplotlib inline"
   ]
  },
  {
   "cell_type": "code",
   "execution_count": 74,
   "metadata": {
    "execution": {
     "iopub.execute_input": "2022-01-06T03:49:44.983678Z",
     "iopub.status.busy": "2022-01-06T03:49:44.980634Z",
     "iopub.status.idle": "2022-01-06T03:49:45.105570Z",
     "shell.execute_reply": "2022-01-06T03:49:45.104871Z",
     "shell.execute_reply.started": "2022-01-06T03:49:44.983489Z"
    }
   },
   "outputs": [],
   "source": [
    "housing_df = pd.read_csv('data/kc_house_data.csv', index_col='id')"
   ]
  },
  {
   "cell_type": "markdown",
   "metadata": {},
   "source": [
    "# Column Names and Descriptions for King County Data Set\n",
    "* `id` - Unique identifier for a house\n",
    "* `date` - Date house was sold\n",
    "* `price` - Sale price (prediction target)\n",
    "* `bedrooms` - Number of bedrooms\n",
    "* `bathrooms` - Number of bathrooms\n",
    "* `sqft_living` - Square footage of living space in the home\n",
    "* `sqft_lot` - Square footage of the lot\n",
    "* `floors` - Number of floors (levels) in house\n",
    "* `waterfront` - Whether the house is on a waterfront\n",
    "  * Includes Duwamish, Elliott Bay, Puget Sound, Lake Union, Ship Canal, Lake Washington, Lake Sammamish, other lake, and river/slough waterfronts\n",
    "* `view` - Quality of view from house\n",
    "  * Includes views of Mt. Rainier, Olympics, Cascades, Territorial, Seattle Skyline, Puget Sound, Lake Washington, Lake Sammamish, small lake / river / creek, and other\n",
    "* `condition` - How good the overall condition of the house is. Related to maintenance of house.\n",
    "  * See the [King County Assessor Website](https://info.kingcounty.gov/assessor/esales/Glossary.aspx?type=r) for further explanation of each condition code\n",
    "* `grade` - Overall grade of the house. Related to the construction and design of the house.\n",
    "  * See the [King County Assessor Website](https://info.kingcounty.gov/assessor/esales/Glossary.aspx?type=r) for further explanation of each building grade code\n",
    "* `sqft_above` - Square footage of house apart from basement\n",
    "* `sqft_basement` - Square footage of the basement\n",
    "* `yr_built` - Year when house was built\n",
    "* `yr_renovated` - Year when house was renovated\n",
    "* `zipcode` - ZIP Code used by the United States Postal Service\n",
    "* `lat` - Latitude coordinate\n",
    "* `long` - Longitude coordinate\n",
    "* `sqft_living15` - The square footage of interior housing living space for the nearest 15 neighbors\n",
    "* `sqft_lot15` - The square footage of the land lots of the nearest 15 neighbors\n"
   ]
  },
  {
   "cell_type": "markdown",
   "metadata": {},
   "source": [
    "### First look at the data\n",
    "\n",
    "What does the data look like in a dataframe and a pairplot?"
   ]
  },
  {
   "cell_type": "code",
   "execution_count": 75,
   "metadata": {
    "execution": {
     "iopub.execute_input": "2022-01-06T03:49:46.055568Z",
     "iopub.status.busy": "2022-01-06T03:49:46.055317Z",
     "iopub.status.idle": "2022-01-06T03:49:46.085343Z",
     "shell.execute_reply": "2022-01-06T03:49:46.084152Z",
     "shell.execute_reply.started": "2022-01-06T03:49:46.055539Z"
    }
   },
   "outputs": [
    {
     "data": {
      "text/html": [
       "<div>\n",
       "<style scoped>\n",
       "    .dataframe tbody tr th:only-of-type {\n",
       "        vertical-align: middle;\n",
       "    }\n",
       "\n",
       "    .dataframe tbody tr th {\n",
       "        vertical-align: top;\n",
       "    }\n",
       "\n",
       "    .dataframe thead th {\n",
       "        text-align: right;\n",
       "    }\n",
       "</style>\n",
       "<table border=\"1\" class=\"dataframe\">\n",
       "  <thead>\n",
       "    <tr style=\"text-align: right;\">\n",
       "      <th></th>\n",
       "      <th>date</th>\n",
       "      <th>price</th>\n",
       "      <th>bedrooms</th>\n",
       "      <th>bathrooms</th>\n",
       "      <th>sqft_living</th>\n",
       "      <th>sqft_lot</th>\n",
       "      <th>floors</th>\n",
       "      <th>waterfront</th>\n",
       "      <th>view</th>\n",
       "      <th>condition</th>\n",
       "      <th>grade</th>\n",
       "      <th>sqft_above</th>\n",
       "      <th>sqft_basement</th>\n",
       "      <th>yr_built</th>\n",
       "      <th>yr_renovated</th>\n",
       "      <th>zipcode</th>\n",
       "      <th>lat</th>\n",
       "      <th>long</th>\n",
       "      <th>sqft_living15</th>\n",
       "      <th>sqft_lot15</th>\n",
       "    </tr>\n",
       "    <tr>\n",
       "      <th>id</th>\n",
       "      <th></th>\n",
       "      <th></th>\n",
       "      <th></th>\n",
       "      <th></th>\n",
       "      <th></th>\n",
       "      <th></th>\n",
       "      <th></th>\n",
       "      <th></th>\n",
       "      <th></th>\n",
       "      <th></th>\n",
       "      <th></th>\n",
       "      <th></th>\n",
       "      <th></th>\n",
       "      <th></th>\n",
       "      <th></th>\n",
       "      <th></th>\n",
       "      <th></th>\n",
       "      <th></th>\n",
       "      <th></th>\n",
       "      <th></th>\n",
       "    </tr>\n",
       "  </thead>\n",
       "  <tbody>\n",
       "    <tr>\n",
       "      <th>7129300520</th>\n",
       "      <td>10/13/2014</td>\n",
       "      <td>221900.0</td>\n",
       "      <td>3</td>\n",
       "      <td>1.00</td>\n",
       "      <td>1180</td>\n",
       "      <td>5650</td>\n",
       "      <td>1.0</td>\n",
       "      <td>NaN</td>\n",
       "      <td>NONE</td>\n",
       "      <td>Average</td>\n",
       "      <td>7 Average</td>\n",
       "      <td>1180</td>\n",
       "      <td>0.0</td>\n",
       "      <td>1955</td>\n",
       "      <td>0.0</td>\n",
       "      <td>98178</td>\n",
       "      <td>47.5112</td>\n",
       "      <td>-122.257</td>\n",
       "      <td>1340</td>\n",
       "      <td>5650</td>\n",
       "    </tr>\n",
       "    <tr>\n",
       "      <th>6414100192</th>\n",
       "      <td>12/9/2014</td>\n",
       "      <td>538000.0</td>\n",
       "      <td>3</td>\n",
       "      <td>2.25</td>\n",
       "      <td>2570</td>\n",
       "      <td>7242</td>\n",
       "      <td>2.0</td>\n",
       "      <td>NO</td>\n",
       "      <td>NONE</td>\n",
       "      <td>Average</td>\n",
       "      <td>7 Average</td>\n",
       "      <td>2170</td>\n",
       "      <td>400.0</td>\n",
       "      <td>1951</td>\n",
       "      <td>1991.0</td>\n",
       "      <td>98125</td>\n",
       "      <td>47.7210</td>\n",
       "      <td>-122.319</td>\n",
       "      <td>1690</td>\n",
       "      <td>7639</td>\n",
       "    </tr>\n",
       "    <tr>\n",
       "      <th>5631500400</th>\n",
       "      <td>2/25/2015</td>\n",
       "      <td>180000.0</td>\n",
       "      <td>2</td>\n",
       "      <td>1.00</td>\n",
       "      <td>770</td>\n",
       "      <td>10000</td>\n",
       "      <td>1.0</td>\n",
       "      <td>NO</td>\n",
       "      <td>NONE</td>\n",
       "      <td>Average</td>\n",
       "      <td>6 Low Average</td>\n",
       "      <td>770</td>\n",
       "      <td>0.0</td>\n",
       "      <td>1933</td>\n",
       "      <td>NaN</td>\n",
       "      <td>98028</td>\n",
       "      <td>47.7379</td>\n",
       "      <td>-122.233</td>\n",
       "      <td>2720</td>\n",
       "      <td>8062</td>\n",
       "    </tr>\n",
       "    <tr>\n",
       "      <th>2487200875</th>\n",
       "      <td>12/9/2014</td>\n",
       "      <td>604000.0</td>\n",
       "      <td>4</td>\n",
       "      <td>3.00</td>\n",
       "      <td>1960</td>\n",
       "      <td>5000</td>\n",
       "      <td>1.0</td>\n",
       "      <td>NO</td>\n",
       "      <td>NONE</td>\n",
       "      <td>Very Good</td>\n",
       "      <td>7 Average</td>\n",
       "      <td>1050</td>\n",
       "      <td>910.0</td>\n",
       "      <td>1965</td>\n",
       "      <td>0.0</td>\n",
       "      <td>98136</td>\n",
       "      <td>47.5208</td>\n",
       "      <td>-122.393</td>\n",
       "      <td>1360</td>\n",
       "      <td>5000</td>\n",
       "    </tr>\n",
       "    <tr>\n",
       "      <th>1954400510</th>\n",
       "      <td>2/18/2015</td>\n",
       "      <td>510000.0</td>\n",
       "      <td>3</td>\n",
       "      <td>2.00</td>\n",
       "      <td>1680</td>\n",
       "      <td>8080</td>\n",
       "      <td>1.0</td>\n",
       "      <td>NO</td>\n",
       "      <td>NONE</td>\n",
       "      <td>Average</td>\n",
       "      <td>8 Good</td>\n",
       "      <td>1680</td>\n",
       "      <td>0.0</td>\n",
       "      <td>1987</td>\n",
       "      <td>0.0</td>\n",
       "      <td>98074</td>\n",
       "      <td>47.6168</td>\n",
       "      <td>-122.045</td>\n",
       "      <td>1800</td>\n",
       "      <td>7503</td>\n",
       "    </tr>\n",
       "  </tbody>\n",
       "</table>\n",
       "</div>"
      ],
      "text/plain": [
       "                  date     price  bedrooms  bathrooms  sqft_living  sqft_lot  \\\n",
       "id                                                                             \n",
       "7129300520  10/13/2014  221900.0         3       1.00         1180      5650   \n",
       "6414100192   12/9/2014  538000.0         3       2.25         2570      7242   \n",
       "5631500400   2/25/2015  180000.0         2       1.00          770     10000   \n",
       "2487200875   12/9/2014  604000.0         4       3.00         1960      5000   \n",
       "1954400510   2/18/2015  510000.0         3       2.00         1680      8080   \n",
       "\n",
       "            floors waterfront  view  condition          grade  sqft_above  \\\n",
       "id                                                                          \n",
       "7129300520     1.0        NaN  NONE    Average      7 Average        1180   \n",
       "6414100192     2.0         NO  NONE    Average      7 Average        2170   \n",
       "5631500400     1.0         NO  NONE    Average  6 Low Average         770   \n",
       "2487200875     1.0         NO  NONE  Very Good      7 Average        1050   \n",
       "1954400510     1.0         NO  NONE    Average         8 Good        1680   \n",
       "\n",
       "           sqft_basement  yr_built  yr_renovated  zipcode      lat     long  \\\n",
       "id                                                                            \n",
       "7129300520           0.0      1955           0.0    98178  47.5112 -122.257   \n",
       "6414100192         400.0      1951        1991.0    98125  47.7210 -122.319   \n",
       "5631500400           0.0      1933           NaN    98028  47.7379 -122.233   \n",
       "2487200875         910.0      1965           0.0    98136  47.5208 -122.393   \n",
       "1954400510           0.0      1987           0.0    98074  47.6168 -122.045   \n",
       "\n",
       "            sqft_living15  sqft_lot15  \n",
       "id                                     \n",
       "7129300520           1340        5650  \n",
       "6414100192           1690        7639  \n",
       "5631500400           2720        8062  \n",
       "2487200875           1360        5000  \n",
       "1954400510           1800        7503  "
      ]
     },
     "execution_count": 75,
     "metadata": {},
     "output_type": "execute_result"
    }
   ],
   "source": [
    "housing_df.head()"
   ]
  },
  {
   "cell_type": "markdown",
   "metadata": {},
   "source": [
    "There's at least one obviously errant data point wherein a certain house is purported to have 33 bedrooms. This is 3 times more than any other house in the dataset and the house's other features don't seem to be in line with this assertion, so we'll just fix that one data point (changing 33 to 3) before going further."
   ]
  },
  {
   "cell_type": "code",
   "execution_count": 76,
   "metadata": {
    "execution": {
     "iopub.execute_input": "2022-01-06T03:49:47.814901Z",
     "iopub.status.busy": "2022-01-06T03:49:47.813362Z",
     "iopub.status.idle": "2022-01-06T03:49:47.864552Z",
     "shell.execute_reply": "2022-01-06T03:49:47.863010Z",
     "shell.execute_reply.started": "2022-01-06T03:49:47.814687Z"
    }
   },
   "outputs": [],
   "source": [
    "housing_df['bedrooms'] = housing_df['bedrooms'].apply(lambda x: 3 if x == 33 else x)"
   ]
  },
  {
   "cell_type": "code",
   "execution_count": null,
   "metadata": {},
   "outputs": [],
   "source": [
    "sns.pairplot(housing_df);"
   ]
  },
  {
   "cell_type": "markdown",
   "metadata": {},
   "source": [
    "### Making a Train-Test Split\n",
    "Before we go any further with any cleaning or other types of adjustments, we'll make a train-test split for later model evaluation."
   ]
  },
  {
   "cell_type": "code",
   "execution_count": 77,
   "metadata": {
    "execution": {
     "iopub.execute_input": "2022-01-06T03:49:49.965399Z",
     "iopub.status.busy": "2022-01-06T03:49:49.964346Z",
     "iopub.status.idle": "2022-01-06T03:49:49.985543Z",
     "shell.execute_reply": "2022-01-06T03:49:49.981725Z",
     "shell.execute_reply.started": "2022-01-06T03:49:49.965276Z"
    }
   },
   "outputs": [],
   "source": [
    "X = housing_df.drop(['price'], axis=1)\n",
    "y = housing_df['price']"
   ]
  },
  {
   "cell_type": "code",
   "execution_count": 78,
   "metadata": {
    "execution": {
     "iopub.execute_input": "2022-01-06T03:49:50.125380Z",
     "iopub.status.busy": "2022-01-06T03:49:50.125119Z",
     "iopub.status.idle": "2022-01-06T03:49:50.136575Z",
     "shell.execute_reply": "2022-01-06T03:49:50.135379Z",
     "shell.execute_reply.started": "2022-01-06T03:49:50.125350Z"
    }
   },
   "outputs": [],
   "source": [
    "X_train, X_test, y_train, y_test = train_test_split(X, y,\n",
    "                                                    test_size=.2,\n",
    "                                                    random_state=1)"
   ]
  },
  {
   "cell_type": "markdown",
   "metadata": {},
   "source": [
    "From now on, any cleaning we do or models we build will use X_train and y_train instead of X and y."
   ]
  },
  {
   "cell_type": "markdown",
   "metadata": {},
   "source": [
    "### Filling in NaNs\n",
    "\n",
    "Linear regression models will not run on dataframes which contain NaNs. These need to either be filled in with some sort of value or dropped. After looking at the proportions of missing data and in which columns they occur, we've decided to mostly replace NaNs with the mode of that column."
   ]
  },
  {
   "cell_type": "code",
   "execution_count": 79,
   "metadata": {
    "execution": {
     "iopub.execute_input": "2022-01-06T03:49:50.633614Z",
     "iopub.status.busy": "2022-01-06T03:49:50.633354Z",
     "iopub.status.idle": "2022-01-06T03:49:50.648063Z",
     "shell.execute_reply": "2022-01-06T03:49:50.646866Z",
     "shell.execute_reply.started": "2022-01-06T03:49:50.633586Z"
    }
   },
   "outputs": [
    {
     "data": {
      "text/plain": [
       "date                0\n",
       "bedrooms            0\n",
       "bathrooms           0\n",
       "sqft_living         0\n",
       "sqft_lot            0\n",
       "floors              0\n",
       "waterfront       1898\n",
       "view               45\n",
       "condition           0\n",
       "grade               0\n",
       "sqft_above          0\n",
       "sqft_basement       0\n",
       "yr_built            0\n",
       "yr_renovated     3095\n",
       "zipcode             0\n",
       "lat                 0\n",
       "long                0\n",
       "sqft_living15       0\n",
       "sqft_lot15          0\n",
       "dtype: int64"
      ]
     },
     "execution_count": 79,
     "metadata": {},
     "output_type": "execute_result"
    }
   ],
   "source": [
    "X_train.isna().sum()"
   ]
  },
  {
   "cell_type": "code",
   "execution_count": 80,
   "metadata": {
    "execution": {
     "iopub.execute_input": "2022-01-06T03:49:50.818459Z",
     "iopub.status.busy": "2022-01-06T03:49:50.817673Z",
     "iopub.status.idle": "2022-01-06T03:49:50.977853Z",
     "shell.execute_reply": "2022-01-06T03:49:50.976852Z",
     "shell.execute_reply.started": "2022-01-06T03:49:50.818365Z"
    }
   },
   "outputs": [
    {
     "name": "stderr",
     "output_type": "stream",
     "text": [
      "<ipython-input-80-d14811629064>:5: SettingWithCopyWarning: \n",
      "A value is trying to be set on a copy of a slice from a DataFrame.\n",
      "Try using .loc[row_indexer,col_indexer] = value instead\n",
      "\n",
      "See the caveats in the documentation: https://pandas.pydata.org/pandas-docs/stable/user_guide/indexing.html#returning-a-view-versus-a-copy\n",
      "  X_train[column_name] = imputer.fit_transform(X_train[column_name].values.reshape(-1,1))[:,0]\n",
      "<ipython-input-80-d14811629064>:5: SettingWithCopyWarning: \n",
      "A value is trying to be set on a copy of a slice from a DataFrame.\n",
      "Try using .loc[row_indexer,col_indexer] = value instead\n",
      "\n",
      "See the caveats in the documentation: https://pandas.pydata.org/pandas-docs/stable/user_guide/indexing.html#returning-a-view-versus-a-copy\n",
      "  X_train[column_name] = imputer.fit_transform(X_train[column_name].values.reshape(-1,1))[:,0]\n",
      "<ipython-input-80-d14811629064>:5: SettingWithCopyWarning: \n",
      "A value is trying to be set on a copy of a slice from a DataFrame.\n",
      "Try using .loc[row_indexer,col_indexer] = value instead\n",
      "\n",
      "See the caveats in the documentation: https://pandas.pydata.org/pandas-docs/stable/user_guide/indexing.html#returning-a-view-versus-a-copy\n",
      "  X_train[column_name] = imputer.fit_transform(X_train[column_name].values.reshape(-1,1))[:,0]\n",
      "<ipython-input-80-d14811629064>:5: SettingWithCopyWarning: \n",
      "A value is trying to be set on a copy of a slice from a DataFrame.\n",
      "Try using .loc[row_indexer,col_indexer] = value instead\n",
      "\n",
      "See the caveats in the documentation: https://pandas.pydata.org/pandas-docs/stable/user_guide/indexing.html#returning-a-view-versus-a-copy\n",
      "  X_train[column_name] = imputer.fit_transform(X_train[column_name].values.reshape(-1,1))[:,0]\n"
     ]
    }
   ],
   "source": [
    "column_missing_values_dict = {'waterfront': np.NaN, 'view': np.NaN, 'sqft_basement': '?', 'yr_renovated': np.NaN}\n",
    "\n",
    "for column_name, missing_value in column_missing_values_dict.items():\n",
    "    imputer = SimpleImputer(missing_values=missing_value, strategy='most_frequent')\n",
    "    X_train[column_name] = imputer.fit_transform(X_train[column_name].values.reshape(-1,1))[:,0]"
   ]
  },
  {
   "cell_type": "code",
   "execution_count": 81,
   "metadata": {
    "execution": {
     "iopub.execute_input": "2022-01-06T03:49:51.000034Z",
     "iopub.status.busy": "2022-01-06T03:49:50.999637Z",
     "iopub.status.idle": "2022-01-06T03:49:51.028372Z",
     "shell.execute_reply": "2022-01-06T03:49:51.027331Z",
     "shell.execute_reply.started": "2022-01-06T03:49:50.999990Z"
    }
   },
   "outputs": [
    {
     "name": "stderr",
     "output_type": "stream",
     "text": [
      "<ipython-input-81-981770c6a3d7>:5: SettingWithCopyWarning: \n",
      "A value is trying to be set on a copy of a slice from a DataFrame.\n",
      "Try using .loc[row_indexer,col_indexer] = value instead\n",
      "\n",
      "See the caveats in the documentation: https://pandas.pydata.org/pandas-docs/stable/user_guide/indexing.html#returning-a-view-versus-a-copy\n",
      "  X_test[column_name] = imputer.fit_transform(X_test[column_name].values.reshape(-1,1))[:,0]\n",
      "<ipython-input-81-981770c6a3d7>:5: SettingWithCopyWarning: \n",
      "A value is trying to be set on a copy of a slice from a DataFrame.\n",
      "Try using .loc[row_indexer,col_indexer] = value instead\n",
      "\n",
      "See the caveats in the documentation: https://pandas.pydata.org/pandas-docs/stable/user_guide/indexing.html#returning-a-view-versus-a-copy\n",
      "  X_test[column_name] = imputer.fit_transform(X_test[column_name].values.reshape(-1,1))[:,0]\n",
      "<ipython-input-81-981770c6a3d7>:5: SettingWithCopyWarning: \n",
      "A value is trying to be set on a copy of a slice from a DataFrame.\n",
      "Try using .loc[row_indexer,col_indexer] = value instead\n",
      "\n",
      "See the caveats in the documentation: https://pandas.pydata.org/pandas-docs/stable/user_guide/indexing.html#returning-a-view-versus-a-copy\n",
      "  X_test[column_name] = imputer.fit_transform(X_test[column_name].values.reshape(-1,1))[:,0]\n",
      "<ipython-input-81-981770c6a3d7>:5: SettingWithCopyWarning: \n",
      "A value is trying to be set on a copy of a slice from a DataFrame.\n",
      "Try using .loc[row_indexer,col_indexer] = value instead\n",
      "\n",
      "See the caveats in the documentation: https://pandas.pydata.org/pandas-docs/stable/user_guide/indexing.html#returning-a-view-versus-a-copy\n",
      "  X_test[column_name] = imputer.fit_transform(X_test[column_name].values.reshape(-1,1))[:,0]\n"
     ]
    }
   ],
   "source": [
    "column_missing_values_dict = {'waterfront': np.NaN, 'view': np.NaN, 'sqft_basement': '?', 'yr_renovated': np.NaN}\n",
    "\n",
    "for column_name, missing_value in column_missing_values_dict.items():\n",
    "    imputer = SimpleImputer(missing_values=missing_value, strategy='most_frequent')\n",
    "    X_test[column_name] = imputer.fit_transform(X_test[column_name].values.reshape(-1,1))[:,0]"
   ]
  },
  {
   "cell_type": "code",
   "execution_count": 82,
   "metadata": {
    "execution": {
     "iopub.execute_input": "2022-01-06T03:49:51.169569Z",
     "iopub.status.busy": "2022-01-06T03:49:51.169263Z",
     "iopub.status.idle": "2022-01-06T03:49:51.193689Z",
     "shell.execute_reply": "2022-01-06T03:49:51.192667Z",
     "shell.execute_reply.started": "2022-01-06T03:49:51.169536Z"
    }
   },
   "outputs": [
    {
     "name": "stdout",
     "output_type": "stream",
     "text": [
      "<class 'pandas.core.frame.DataFrame'>\n",
      "Int64Index: 17277 entries, 185000161 to 1762600320\n",
      "Data columns (total 19 columns):\n",
      " #   Column         Non-Null Count  Dtype  \n",
      "---  ------         --------------  -----  \n",
      " 0   date           17277 non-null  object \n",
      " 1   bedrooms       17277 non-null  int64  \n",
      " 2   bathrooms      17277 non-null  float64\n",
      " 3   sqft_living    17277 non-null  int64  \n",
      " 4   sqft_lot       17277 non-null  int64  \n",
      " 5   floors         17277 non-null  float64\n",
      " 6   waterfront     17277 non-null  object \n",
      " 7   view           17277 non-null  object \n",
      " 8   condition      17277 non-null  object \n",
      " 9   grade          17277 non-null  object \n",
      " 10  sqft_above     17277 non-null  int64  \n",
      " 11  sqft_basement  17277 non-null  object \n",
      " 12  yr_built       17277 non-null  int64  \n",
      " 13  yr_renovated   17277 non-null  float64\n",
      " 14  zipcode        17277 non-null  int64  \n",
      " 15  lat            17277 non-null  float64\n",
      " 16  long           17277 non-null  float64\n",
      " 17  sqft_living15  17277 non-null  int64  \n",
      " 18  sqft_lot15     17277 non-null  int64  \n",
      "dtypes: float64(5), int64(8), object(6)\n",
      "memory usage: 2.6+ MB\n"
     ]
    }
   ],
   "source": [
    "X_train.info()"
   ]
  },
  {
   "cell_type": "markdown",
   "metadata": {},
   "source": [
    "### Fitting a model\n",
    "\n",
    "Now we'll fit a basic multiple linear regression to the data, dropping any columns that we have yet to convert to numerical data."
   ]
  },
  {
   "cell_type": "code",
   "execution_count": 83,
   "metadata": {
    "execution": {
     "iopub.execute_input": "2022-01-06T03:49:51.682197Z",
     "iopub.status.busy": "2022-01-06T03:49:51.679546Z",
     "iopub.status.idle": "2022-01-06T03:49:51.712506Z",
     "shell.execute_reply": "2022-01-06T03:49:51.709516Z",
     "shell.execute_reply.started": "2022-01-06T03:49:51.682010Z"
    }
   },
   "outputs": [],
   "source": [
    "X_mod = X_train.drop(['date', 'waterfront', 'view', 'condition', 'grade', 'sqft_basement'], axis=1)\n",
    "y_mod = y_train"
   ]
  },
  {
   "cell_type": "code",
   "execution_count": 84,
   "metadata": {
    "execution": {
     "iopub.execute_input": "2022-01-06T03:49:51.889980Z",
     "iopub.status.busy": "2022-01-06T03:49:51.888759Z",
     "iopub.status.idle": "2022-01-06T03:49:52.002660Z",
     "shell.execute_reply": "2022-01-06T03:49:52.001673Z",
     "shell.execute_reply.started": "2022-01-06T03:49:51.889855Z"
    }
   },
   "outputs": [
    {
     "name": "stdout",
     "output_type": "stream",
     "text": [
      "RMSE = 225585 \n",
      "R^2 = 0.627\n"
     ]
    }
   ],
   "source": [
    "regression = LinearRegression()\n",
    "regression.fit(X_mod, y_mod)\n",
    "\n",
    "y_hat = regression.predict(X_mod)\n",
    "rmse = np.sqrt(mean_squared_error(y_mod, y_hat))\n",
    "r2 = regression.score(X_mod, y_mod)\n",
    "\n",
    "print(f'RMSE = {int(round(rmse))} \\nR^2 = {round(r2, 3)}')"
   ]
  },
  {
   "cell_type": "code",
   "execution_count": 85,
   "metadata": {
    "execution": {
     "iopub.execute_input": "2022-01-06T03:49:52.111954Z",
     "iopub.status.busy": "2022-01-06T03:49:52.111634Z",
     "iopub.status.idle": "2022-01-06T03:49:52.133866Z",
     "shell.execute_reply": "2022-01-06T03:49:52.132755Z",
     "shell.execute_reply.started": "2022-01-06T03:49:52.111924Z"
    }
   },
   "outputs": [
    {
     "data": {
      "text/plain": [
       "0.6370192434534647"
      ]
     },
     "execution_count": 85,
     "metadata": {},
     "output_type": "execute_result"
    }
   ],
   "source": [
    "regression.score(X_test.drop(['date', 'waterfront', 'view', 'condition', 'grade', 'sqft_basement'], axis=1), y_test)"
   ]
  },
  {
   "cell_type": "markdown",
   "metadata": {},
   "source": [
    "And we'll run a summary in statsmodels just to see some other metrics."
   ]
  },
  {
   "cell_type": "code",
   "execution_count": 86,
   "metadata": {
    "execution": {
     "iopub.execute_input": "2022-01-06T03:49:52.521146Z",
     "iopub.status.busy": "2022-01-06T03:49:52.520499Z",
     "iopub.status.idle": "2022-01-06T03:49:52.799611Z",
     "shell.execute_reply": "2022-01-06T03:49:52.798655Z",
     "shell.execute_reply.started": "2022-01-06T03:49:52.521075Z"
    }
   },
   "outputs": [
    {
     "data": {
      "text/html": [
       "<table class=\"simpletable\">\n",
       "<caption>OLS Regression Results</caption>\n",
       "<tr>\n",
       "  <th>Dep. Variable:</th>          <td>price</td>      <th>  R-squared:         </th>  <td>   0.627</td>  \n",
       "</tr>\n",
       "<tr>\n",
       "  <th>Model:</th>                   <td>OLS</td>       <th>  Adj. R-squared:    </th>  <td>   0.627</td>  \n",
       "</tr>\n",
       "<tr>\n",
       "  <th>Method:</th>             <td>Least Squares</td>  <th>  F-statistic:       </th>  <td>   2235.</td>  \n",
       "</tr>\n",
       "<tr>\n",
       "  <th>Date:</th>             <td>Wed, 05 Jan 2022</td> <th>  Prob (F-statistic):</th>   <td>  0.00</td>   \n",
       "</tr>\n",
       "<tr>\n",
       "  <th>Time:</th>                 <td>22:49:52</td>     <th>  Log-Likelihood:    </th> <td>-2.3748e+05</td>\n",
       "</tr>\n",
       "<tr>\n",
       "  <th>No. Observations:</th>      <td> 17277</td>      <th>  AIC:               </th>  <td>4.750e+05</td> \n",
       "</tr>\n",
       "<tr>\n",
       "  <th>Df Residuals:</th>          <td> 17263</td>      <th>  BIC:               </th>  <td>4.751e+05</td> \n",
       "</tr>\n",
       "<tr>\n",
       "  <th>Df Model:</th>              <td>    13</td>      <th>                     </th>      <td> </td>     \n",
       "</tr>\n",
       "<tr>\n",
       "  <th>Covariance Type:</th>      <td>nonrobust</td>    <th>                     </th>      <td> </td>     \n",
       "</tr>\n",
       "</table>\n",
       "<table class=\"simpletable\">\n",
       "<tr>\n",
       "        <td></td>           <th>coef</th>     <th>std err</th>      <th>t</th>      <th>P>|t|</th>  <th>[0.025</th>    <th>0.975]</th>  \n",
       "</tr>\n",
       "<tr>\n",
       "  <th>const</th>         <td> -1.07e+07</td> <td> 3.59e+06</td> <td>   -2.985</td> <td> 0.003</td> <td>-1.77e+07</td> <td>-3.67e+06</td>\n",
       "</tr>\n",
       "<tr>\n",
       "  <th>bedrooms</th>      <td>-6.508e+04</td> <td> 2446.118</td> <td>  -26.606</td> <td> 0.000</td> <td>-6.99e+04</td> <td>-6.03e+04</td>\n",
       "</tr>\n",
       "<tr>\n",
       "  <th>bathrooms</th>     <td> 5.888e+04</td> <td> 4058.132</td> <td>   14.510</td> <td> 0.000</td> <td> 5.09e+04</td> <td> 6.68e+04</td>\n",
       "</tr>\n",
       "<tr>\n",
       "  <th>sqft_living</th>   <td>  232.3347</td> <td>    5.330</td> <td>   43.586</td> <td> 0.000</td> <td>  221.886</td> <td>  242.783</td>\n",
       "</tr>\n",
       "<tr>\n",
       "  <th>sqft_lot</th>      <td>    0.1730</td> <td>    0.059</td> <td>    2.938</td> <td> 0.003</td> <td>    0.058</td> <td>    0.288</td>\n",
       "</tr>\n",
       "<tr>\n",
       "  <th>floors</th>        <td> 2.468e+04</td> <td> 4488.482</td> <td>    5.498</td> <td> 0.000</td> <td> 1.59e+04</td> <td> 3.35e+04</td>\n",
       "</tr>\n",
       "<tr>\n",
       "  <th>sqft_above</th>    <td>   34.0002</td> <td>    5.345</td> <td>    6.362</td> <td> 0.000</td> <td>   23.524</td> <td>   44.476</td>\n",
       "</tr>\n",
       "<tr>\n",
       "  <th>yr_built</th>      <td>-2498.2269</td> <td>   82.979</td> <td>  -30.107</td> <td> 0.000</td> <td>-2660.875</td> <td>-2335.579</td>\n",
       "</tr>\n",
       "<tr>\n",
       "  <th>yr_renovated</th>  <td>   34.7034</td> <td>    4.926</td> <td>    7.045</td> <td> 0.000</td> <td>   25.049</td> <td>   44.358</td>\n",
       "</tr>\n",
       "<tr>\n",
       "  <th>zipcode</th>       <td> -589.8496</td> <td>   40.742</td> <td>  -14.478</td> <td> 0.000</td> <td> -669.707</td> <td> -509.992</td>\n",
       "</tr>\n",
       "<tr>\n",
       "  <th>lat</th>           <td> 6.227e+05</td> <td> 1.32e+04</td> <td>   47.352</td> <td> 0.000</td> <td> 5.97e+05</td> <td> 6.48e+05</td>\n",
       "</tr>\n",
       "<tr>\n",
       "  <th>long</th>          <td> -3.58e+05</td> <td> 1.63e+04</td> <td>  -21.935</td> <td> 0.000</td> <td> -3.9e+05</td> <td>-3.26e+05</td>\n",
       "</tr>\n",
       "<tr>\n",
       "  <th>sqft_living15</th> <td>   81.5261</td> <td>    4.071</td> <td>   20.024</td> <td> 0.000</td> <td>   73.546</td> <td>   89.506</td>\n",
       "</tr>\n",
       "<tr>\n",
       "  <th>sqft_lot15</th>    <td>   -0.4269</td> <td>    0.089</td> <td>   -4.812</td> <td> 0.000</td> <td>   -0.601</td> <td>   -0.253</td>\n",
       "</tr>\n",
       "</table>\n",
       "<table class=\"simpletable\">\n",
       "<tr>\n",
       "  <th>Omnibus:</th>       <td>14170.132</td> <th>  Durbin-Watson:     </th>  <td>   1.996</td>  \n",
       "</tr>\n",
       "<tr>\n",
       "  <th>Prob(Omnibus):</th>  <td> 0.000</td>   <th>  Jarque-Bera (JB):  </th> <td>1008941.718</td>\n",
       "</tr>\n",
       "<tr>\n",
       "  <th>Skew:</th>           <td> 3.476</td>   <th>  Prob(JB):          </th>  <td>    0.00</td>  \n",
       "</tr>\n",
       "<tr>\n",
       "  <th>Kurtosis:</th>       <td>39.786</td>   <th>  Cond. No.          </th>  <td>2.10e+08</td>  \n",
       "</tr>\n",
       "</table><br/><br/>Notes:<br/>[1] Standard Errors assume that the covariance matrix of the errors is correctly specified.<br/>[2] The condition number is large, 2.1e+08. This might indicate that there are<br/>strong multicollinearity or other numerical problems."
      ],
      "text/plain": [
       "<class 'statsmodels.iolib.summary.Summary'>\n",
       "\"\"\"\n",
       "                            OLS Regression Results                            \n",
       "==============================================================================\n",
       "Dep. Variable:                  price   R-squared:                       0.627\n",
       "Model:                            OLS   Adj. R-squared:                  0.627\n",
       "Method:                 Least Squares   F-statistic:                     2235.\n",
       "Date:                Wed, 05 Jan 2022   Prob (F-statistic):               0.00\n",
       "Time:                        22:49:52   Log-Likelihood:            -2.3748e+05\n",
       "No. Observations:               17277   AIC:                         4.750e+05\n",
       "Df Residuals:                   17263   BIC:                         4.751e+05\n",
       "Df Model:                          13                                         \n",
       "Covariance Type:            nonrobust                                         \n",
       "=================================================================================\n",
       "                    coef    std err          t      P>|t|      [0.025      0.975]\n",
       "---------------------------------------------------------------------------------\n",
       "const          -1.07e+07   3.59e+06     -2.985      0.003   -1.77e+07   -3.67e+06\n",
       "bedrooms      -6.508e+04   2446.118    -26.606      0.000   -6.99e+04   -6.03e+04\n",
       "bathrooms      5.888e+04   4058.132     14.510      0.000    5.09e+04    6.68e+04\n",
       "sqft_living     232.3347      5.330     43.586      0.000     221.886     242.783\n",
       "sqft_lot          0.1730      0.059      2.938      0.003       0.058       0.288\n",
       "floors         2.468e+04   4488.482      5.498      0.000    1.59e+04    3.35e+04\n",
       "sqft_above       34.0002      5.345      6.362      0.000      23.524      44.476\n",
       "yr_built      -2498.2269     82.979    -30.107      0.000   -2660.875   -2335.579\n",
       "yr_renovated     34.7034      4.926      7.045      0.000      25.049      44.358\n",
       "zipcode        -589.8496     40.742    -14.478      0.000    -669.707    -509.992\n",
       "lat            6.227e+05   1.32e+04     47.352      0.000    5.97e+05    6.48e+05\n",
       "long           -3.58e+05   1.63e+04    -21.935      0.000    -3.9e+05   -3.26e+05\n",
       "sqft_living15    81.5261      4.071     20.024      0.000      73.546      89.506\n",
       "sqft_lot15       -0.4269      0.089     -4.812      0.000      -0.601      -0.253\n",
       "==============================================================================\n",
       "Omnibus:                    14170.132   Durbin-Watson:                   1.996\n",
       "Prob(Omnibus):                  0.000   Jarque-Bera (JB):          1008941.718\n",
       "Skew:                           3.476   Prob(JB):                         0.00\n",
       "Kurtosis:                      39.786   Cond. No.                     2.10e+08\n",
       "==============================================================================\n",
       "\n",
       "Notes:\n",
       "[1] Standard Errors assume that the covariance matrix of the errors is correctly specified.\n",
       "[2] The condition number is large, 2.1e+08. This might indicate that there are\n",
       "strong multicollinearity or other numerical problems.\n",
       "\"\"\""
      ]
     },
     "execution_count": 86,
     "metadata": {},
     "output_type": "execute_result"
    }
   ],
   "source": [
    "sm.OLS(y_mod, sm.add_constant(X_mod)).fit().summary()"
   ]
  },
  {
   "cell_type": "markdown",
   "metadata": {},
   "source": [
    "### Cleaning up important columns\n",
    "\n",
    "The waterfront, view, condition, and grade columns should all be numeric. We'll clean those up with a few assorted in-place adjustments."
   ]
  },
  {
   "cell_type": "code",
   "execution_count": 87,
   "metadata": {
    "execution": {
     "iopub.execute_input": "2022-01-06T03:49:53.231563Z",
     "iopub.status.busy": "2022-01-06T03:49:53.230811Z",
     "iopub.status.idle": "2022-01-06T03:49:53.272385Z",
     "shell.execute_reply": "2022-01-06T03:49:53.270804Z",
     "shell.execute_reply.started": "2022-01-06T03:49:53.231476Z"
    }
   },
   "outputs": [
    {
     "data": {
      "text/plain": [
       "7 Average        7145\n",
       "8 Good           4850\n",
       "9 Better         2101\n",
       "6 Low Average    1632\n",
       "10 Very Good      924\n",
       "11 Excellent      322\n",
       "5 Fair            202\n",
       "12 Luxury          67\n",
       "4 Low              21\n",
       "13 Mansion         12\n",
       "3 Poor              1\n",
       "Name: grade, dtype: int64"
      ]
     },
     "execution_count": 87,
     "metadata": {},
     "output_type": "execute_result"
    }
   ],
   "source": [
    "X_train['grade'].value_counts()"
   ]
  },
  {
   "cell_type": "code",
   "execution_count": 88,
   "metadata": {
    "execution": {
     "iopub.execute_input": "2022-01-06T03:49:53.553308Z",
     "iopub.status.busy": "2022-01-06T03:49:53.552156Z",
     "iopub.status.idle": "2022-01-06T03:49:53.620056Z",
     "shell.execute_reply": "2022-01-06T03:49:53.618193Z",
     "shell.execute_reply.started": "2022-01-06T03:49:53.553172Z"
    }
   },
   "outputs": [
    {
     "name": "stderr",
     "output_type": "stream",
     "text": [
      "/home/matt/anaconda3/envs/learn-env/lib/python3.8/site-packages/pandas/core/indexing.py:1745: SettingWithCopyWarning: \n",
      "A value is trying to be set on a copy of a slice from a DataFrame.\n",
      "Try using .loc[row_indexer,col_indexer] = value instead\n",
      "\n",
      "See the caveats in the documentation: https://pandas.pydata.org/pandas-docs/stable/user_guide/indexing.html#returning-a-view-versus-a-copy\n",
      "  isetter(ilocs[0], value)\n"
     ]
    },
    {
     "data": {
      "text/plain": [
       "7    7145\n",
       "8    4850\n",
       "9    2101\n",
       "6    1632\n",
       "1    1325\n",
       "5     202\n",
       "4      21\n",
       "3       1\n",
       "Name: grade, dtype: int64"
      ]
     },
     "execution_count": 88,
     "metadata": {},
     "output_type": "execute_result"
    }
   ],
   "source": [
    "X_train.loc[:,'grade'] = X_train.copy().loc[:,'grade'].apply(lambda x: int(x[0]))\n",
    "X_train['grade'].value_counts()"
   ]
  },
  {
   "cell_type": "code",
   "execution_count": 89,
   "metadata": {
    "execution": {
     "iopub.execute_input": "2022-01-06T03:49:54.343210Z",
     "iopub.status.busy": "2022-01-06T03:49:54.342273Z",
     "iopub.status.idle": "2022-01-06T03:49:54.353895Z",
     "shell.execute_reply": "2022-01-06T03:49:54.352920Z",
     "shell.execute_reply.started": "2022-01-06T03:49:54.343122Z"
    }
   },
   "outputs": [],
   "source": [
    "X_test.loc[:,'grade'] = X_test.copy().loc[:,'grade'].apply(lambda x: int(x[0]))"
   ]
  },
  {
   "cell_type": "code",
   "execution_count": 90,
   "metadata": {
    "execution": {
     "iopub.execute_input": "2022-01-06T03:49:54.367286Z",
     "iopub.status.busy": "2022-01-06T03:49:54.366918Z",
     "iopub.status.idle": "2022-01-06T03:49:54.391507Z",
     "shell.execute_reply": "2022-01-06T03:49:54.390573Z",
     "shell.execute_reply.started": "2022-01-06T03:49:54.367243Z"
    }
   },
   "outputs": [
    {
     "name": "stdout",
     "output_type": "stream",
     "text": [
      "NONE         15555\n",
      "AVERAGE        783\n",
      "GOOD           410\n",
      "FAIR           279\n",
      "EXCELLENT      250\n",
      "Name: view, dtype: int64\n",
      "Average      11206\n",
      "Good          4542\n",
      "Very Good     1378\n",
      "Fair           130\n",
      "Poor            21\n",
      "Name: condition, dtype: int64\n",
      "NO     17160\n",
      "YES      117\n",
      "Name: waterfront, dtype: int64\n"
     ]
    }
   ],
   "source": [
    "print(X_train['view'].value_counts())\n",
    "print(X_train['condition'].value_counts())\n",
    "print(X_train['waterfront'].value_counts())"
   ]
  },
  {
   "cell_type": "code",
   "execution_count": 91,
   "metadata": {
    "execution": {
     "iopub.execute_input": "2022-01-06T03:49:54.436817Z",
     "iopub.status.busy": "2022-01-06T03:49:54.436531Z",
     "iopub.status.idle": "2022-01-06T03:49:54.516452Z",
     "shell.execute_reply": "2022-01-06T03:49:54.515412Z",
     "shell.execute_reply.started": "2022-01-06T03:49:54.436770Z"
    }
   },
   "outputs": [
    {
     "name": "stderr",
     "output_type": "stream",
     "text": [
      "/home/matt/anaconda3/envs/learn-env/lib/python3.8/site-packages/pandas/core/indexing.py:1765: SettingWithCopyWarning: \n",
      "A value is trying to be set on a copy of a slice from a DataFrame.\n",
      "Try using .loc[row_indexer,col_indexer] = value instead\n",
      "\n",
      "See the caveats in the documentation: https://pandas.pydata.org/pandas-docs/stable/user_guide/indexing.html#returning-a-view-versus-a-copy\n",
      "  isetter(loc, value)\n",
      "<ipython-input-91-13b30b42aeb7>:10: SettingWithCopyWarning: \n",
      "A value is trying to be set on a copy of a slice from a DataFrame.\n",
      "Try using .loc[row_indexer,col_indexer] = value instead\n",
      "\n",
      "See the caveats in the documentation: https://pandas.pydata.org/pandas-docs/stable/user_guide/indexing.html#returning-a-view-versus-a-copy\n",
      "  X_train[column_name] = X_train[column_name].astype(int)\n"
     ]
    },
    {
     "data": {
      "text/html": [
       "<div>\n",
       "<style scoped>\n",
       "    .dataframe tbody tr th:only-of-type {\n",
       "        vertical-align: middle;\n",
       "    }\n",
       "\n",
       "    .dataframe tbody tr th {\n",
       "        vertical-align: top;\n",
       "    }\n",
       "\n",
       "    .dataframe thead th {\n",
       "        text-align: right;\n",
       "    }\n",
       "</style>\n",
       "<table border=\"1\" class=\"dataframe\">\n",
       "  <thead>\n",
       "    <tr style=\"text-align: right;\">\n",
       "      <th></th>\n",
       "      <th>date</th>\n",
       "      <th>bedrooms</th>\n",
       "      <th>bathrooms</th>\n",
       "      <th>sqft_living</th>\n",
       "      <th>sqft_lot</th>\n",
       "      <th>floors</th>\n",
       "      <th>waterfront</th>\n",
       "      <th>view</th>\n",
       "      <th>condition</th>\n",
       "      <th>grade</th>\n",
       "      <th>sqft_above</th>\n",
       "      <th>sqft_basement</th>\n",
       "      <th>yr_built</th>\n",
       "      <th>yr_renovated</th>\n",
       "      <th>zipcode</th>\n",
       "      <th>lat</th>\n",
       "      <th>long</th>\n",
       "      <th>sqft_living15</th>\n",
       "      <th>sqft_lot15</th>\n",
       "    </tr>\n",
       "    <tr>\n",
       "      <th>id</th>\n",
       "      <th></th>\n",
       "      <th></th>\n",
       "      <th></th>\n",
       "      <th></th>\n",
       "      <th></th>\n",
       "      <th></th>\n",
       "      <th></th>\n",
       "      <th></th>\n",
       "      <th></th>\n",
       "      <th></th>\n",
       "      <th></th>\n",
       "      <th></th>\n",
       "      <th></th>\n",
       "      <th></th>\n",
       "      <th></th>\n",
       "      <th></th>\n",
       "      <th></th>\n",
       "      <th></th>\n",
       "      <th></th>\n",
       "    </tr>\n",
       "  </thead>\n",
       "  <tbody>\n",
       "    <tr>\n",
       "      <th>185000161</th>\n",
       "      <td>10/15/2014</td>\n",
       "      <td>3</td>\n",
       "      <td>1.00</td>\n",
       "      <td>1780</td>\n",
       "      <td>7800</td>\n",
       "      <td>1.0</td>\n",
       "      <td>0</td>\n",
       "      <td>0</td>\n",
       "      <td>2</td>\n",
       "      <td>7</td>\n",
       "      <td>1060</td>\n",
       "      <td>720.0</td>\n",
       "      <td>1957</td>\n",
       "      <td>0.0</td>\n",
       "      <td>98178</td>\n",
       "      <td>47.4932</td>\n",
       "      <td>-122.263</td>\n",
       "      <td>1450</td>\n",
       "      <td>7800</td>\n",
       "    </tr>\n",
       "    <tr>\n",
       "      <th>2767601311</th>\n",
       "      <td>10/24/2014</td>\n",
       "      <td>3</td>\n",
       "      <td>2.50</td>\n",
       "      <td>1260</td>\n",
       "      <td>1102</td>\n",
       "      <td>3.0</td>\n",
       "      <td>0</td>\n",
       "      <td>0</td>\n",
       "      <td>2</td>\n",
       "      <td>8</td>\n",
       "      <td>1260</td>\n",
       "      <td>0.0</td>\n",
       "      <td>2007</td>\n",
       "      <td>0.0</td>\n",
       "      <td>98107</td>\n",
       "      <td>47.6750</td>\n",
       "      <td>-122.387</td>\n",
       "      <td>1320</td>\n",
       "      <td>2500</td>\n",
       "    </tr>\n",
       "    <tr>\n",
       "      <th>7131300063</th>\n",
       "      <td>4/29/2015</td>\n",
       "      <td>4</td>\n",
       "      <td>1.75</td>\n",
       "      <td>2140</td>\n",
       "      <td>4959</td>\n",
       "      <td>1.0</td>\n",
       "      <td>0</td>\n",
       "      <td>0</td>\n",
       "      <td>2</td>\n",
       "      <td>7</td>\n",
       "      <td>1080</td>\n",
       "      <td>1060.0</td>\n",
       "      <td>1965</td>\n",
       "      <td>0.0</td>\n",
       "      <td>98118</td>\n",
       "      <td>47.5166</td>\n",
       "      <td>-122.266</td>\n",
       "      <td>1590</td>\n",
       "      <td>5250</td>\n",
       "    </tr>\n",
       "    <tr>\n",
       "      <th>8910500226</th>\n",
       "      <td>4/9/2015</td>\n",
       "      <td>3</td>\n",
       "      <td>3.50</td>\n",
       "      <td>1340</td>\n",
       "      <td>1168</td>\n",
       "      <td>2.0</td>\n",
       "      <td>0</td>\n",
       "      <td>2</td>\n",
       "      <td>2</td>\n",
       "      <td>8</td>\n",
       "      <td>1080</td>\n",
       "      <td>260.0</td>\n",
       "      <td>2002</td>\n",
       "      <td>0.0</td>\n",
       "      <td>98133</td>\n",
       "      <td>47.7110</td>\n",
       "      <td>-122.356</td>\n",
       "      <td>1650</td>\n",
       "      <td>1378</td>\n",
       "    </tr>\n",
       "    <tr>\n",
       "      <th>5230300210</th>\n",
       "      <td>12/10/2014</td>\n",
       "      <td>3</td>\n",
       "      <td>1.00</td>\n",
       "      <td>1040</td>\n",
       "      <td>9514</td>\n",
       "      <td>1.0</td>\n",
       "      <td>0</td>\n",
       "      <td>0</td>\n",
       "      <td>3</td>\n",
       "      <td>7</td>\n",
       "      <td>1040</td>\n",
       "      <td>0.0</td>\n",
       "      <td>1969</td>\n",
       "      <td>0.0</td>\n",
       "      <td>98059</td>\n",
       "      <td>47.4936</td>\n",
       "      <td>-122.102</td>\n",
       "      <td>1040</td>\n",
       "      <td>9514</td>\n",
       "    </tr>\n",
       "  </tbody>\n",
       "</table>\n",
       "</div>"
      ],
      "text/plain": [
       "                  date  bedrooms  bathrooms  sqft_living  sqft_lot  floors  \\\n",
       "id                                                                           \n",
       "185000161   10/15/2014         3       1.00         1780      7800     1.0   \n",
       "2767601311  10/24/2014         3       2.50         1260      1102     3.0   \n",
       "7131300063   4/29/2015         4       1.75         2140      4959     1.0   \n",
       "8910500226    4/9/2015         3       3.50         1340      1168     2.0   \n",
       "5230300210  12/10/2014         3       1.00         1040      9514     1.0   \n",
       "\n",
       "            waterfront  view  condition  grade  sqft_above sqft_basement  \\\n",
       "id                                                                         \n",
       "185000161            0     0          2      7        1060         720.0   \n",
       "2767601311           0     0          2      8        1260           0.0   \n",
       "7131300063           0     0          2      7        1080        1060.0   \n",
       "8910500226           0     2          2      8        1080         260.0   \n",
       "5230300210           0     0          3      7        1040           0.0   \n",
       "\n",
       "            yr_built  yr_renovated  zipcode      lat     long  sqft_living15  \\\n",
       "id                                                                             \n",
       "185000161       1957           0.0    98178  47.4932 -122.263           1450   \n",
       "2767601311      2007           0.0    98107  47.6750 -122.387           1320   \n",
       "7131300063      1965           0.0    98118  47.5166 -122.266           1590   \n",
       "8910500226      2002           0.0    98133  47.7110 -122.356           1650   \n",
       "5230300210      1969           0.0    98059  47.4936 -122.102           1040   \n",
       "\n",
       "            sqft_lot15  \n",
       "id                      \n",
       "185000161         7800  \n",
       "2767601311        2500  \n",
       "7131300063        5250  \n",
       "8910500226        1378  \n",
       "5230300210        9514  "
      ]
     },
     "execution_count": 91,
     "metadata": {},
     "output_type": "execute_result"
    }
   ],
   "source": [
    "view_values = ['NONE', 'FAIR', 'AVERAGE', 'GOOD', 'EXCELLENT']\n",
    "condition_values = ['Poor', 'Fair', 'Average', 'Good', 'Very Good']\n",
    "waterfront_values = ['NO', 'YES']\n",
    "\n",
    "values_dict = {'view': view_values, 'condition': condition_values, 'waterfront': waterfront_values}\n",
    "\n",
    "for column_name, values_list in values_dict.items():    \n",
    "    for num, value in enumerate(values_list):\n",
    "        X_train.loc[X_train[column_name] == value, column_name] = int(num)\n",
    "    X_train[column_name] = X_train[column_name].astype(int)\n",
    "\n",
    "X_train.head()"
   ]
  },
  {
   "cell_type": "code",
   "execution_count": 92,
   "metadata": {
    "execution": {
     "iopub.execute_input": "2022-01-06T03:49:54.665928Z",
     "iopub.status.busy": "2022-01-06T03:49:54.665606Z",
     "iopub.status.idle": "2022-01-06T03:49:54.694061Z",
     "shell.execute_reply": "2022-01-06T03:49:54.693271Z",
     "shell.execute_reply.started": "2022-01-06T03:49:54.665890Z"
    }
   },
   "outputs": [
    {
     "name": "stderr",
     "output_type": "stream",
     "text": [
      "/home/matt/anaconda3/envs/learn-env/lib/python3.8/site-packages/pandas/core/indexing.py:1765: SettingWithCopyWarning: \n",
      "A value is trying to be set on a copy of a slice from a DataFrame.\n",
      "Try using .loc[row_indexer,col_indexer] = value instead\n",
      "\n",
      "See the caveats in the documentation: https://pandas.pydata.org/pandas-docs/stable/user_guide/indexing.html#returning-a-view-versus-a-copy\n",
      "  isetter(loc, value)\n",
      "<ipython-input-92-09a6e84bacdf>:10: SettingWithCopyWarning: \n",
      "A value is trying to be set on a copy of a slice from a DataFrame.\n",
      "Try using .loc[row_indexer,col_indexer] = value instead\n",
      "\n",
      "See the caveats in the documentation: https://pandas.pydata.org/pandas-docs/stable/user_guide/indexing.html#returning-a-view-versus-a-copy\n",
      "  X_test[column_name] = X_test[column_name].astype(int)\n"
     ]
    }
   ],
   "source": [
    "view_values = ['NONE', 'FAIR', 'AVERAGE', 'GOOD', 'EXCELLENT']\n",
    "condition_values = ['Poor', 'Fair', 'Average', 'Good', 'Very Good']\n",
    "waterfront_values = ['NO', 'YES']\n",
    "\n",
    "values_dict = {'view': view_values, 'condition': condition_values, 'waterfront': waterfront_values}\n",
    "\n",
    "for column_name, values_list in values_dict.items():    \n",
    "    for num, value in enumerate(values_list):\n",
    "        X_test.loc[X_test[column_name] == value, column_name] = int(num)\n",
    "    X_test[column_name] = X_test[column_name].astype(int)"
   ]
  },
  {
   "cell_type": "markdown",
   "metadata": {},
   "source": [
    "We'll also convert the date column to pandas datetime values and the sqft_basement and grade columns into numeric columns."
   ]
  },
  {
   "cell_type": "code",
   "execution_count": 93,
   "metadata": {
    "execution": {
     "iopub.execute_input": "2022-01-06T03:49:55.164871Z",
     "iopub.status.busy": "2022-01-06T03:49:55.164598Z",
     "iopub.status.idle": "2022-01-06T03:49:55.232564Z",
     "shell.execute_reply": "2022-01-06T03:49:55.231476Z",
     "shell.execute_reply.started": "2022-01-06T03:49:55.164842Z"
    }
   },
   "outputs": [
    {
     "name": "stderr",
     "output_type": "stream",
     "text": [
      "/home/matt/anaconda3/envs/learn-env/lib/python3.8/site-packages/pandas/core/indexing.py:1745: SettingWithCopyWarning: \n",
      "A value is trying to be set on a copy of a slice from a DataFrame.\n",
      "Try using .loc[row_indexer,col_indexer] = value instead\n",
      "\n",
      "See the caveats in the documentation: https://pandas.pydata.org/pandas-docs/stable/user_guide/indexing.html#returning-a-view-versus-a-copy\n",
      "  isetter(ilocs[0], value)\n"
     ]
    },
    {
     "data": {
      "text/html": [
       "<div>\n",
       "<style scoped>\n",
       "    .dataframe tbody tr th:only-of-type {\n",
       "        vertical-align: middle;\n",
       "    }\n",
       "\n",
       "    .dataframe tbody tr th {\n",
       "        vertical-align: top;\n",
       "    }\n",
       "\n",
       "    .dataframe thead th {\n",
       "        text-align: right;\n",
       "    }\n",
       "</style>\n",
       "<table border=\"1\" class=\"dataframe\">\n",
       "  <thead>\n",
       "    <tr style=\"text-align: right;\">\n",
       "      <th></th>\n",
       "      <th>date</th>\n",
       "      <th>bedrooms</th>\n",
       "      <th>bathrooms</th>\n",
       "      <th>sqft_living</th>\n",
       "      <th>sqft_lot</th>\n",
       "      <th>floors</th>\n",
       "      <th>waterfront</th>\n",
       "      <th>view</th>\n",
       "      <th>condition</th>\n",
       "      <th>grade</th>\n",
       "      <th>sqft_above</th>\n",
       "      <th>sqft_basement</th>\n",
       "      <th>yr_built</th>\n",
       "      <th>yr_renovated</th>\n",
       "      <th>zipcode</th>\n",
       "      <th>lat</th>\n",
       "      <th>long</th>\n",
       "      <th>sqft_living15</th>\n",
       "      <th>sqft_lot15</th>\n",
       "    </tr>\n",
       "    <tr>\n",
       "      <th>id</th>\n",
       "      <th></th>\n",
       "      <th></th>\n",
       "      <th></th>\n",
       "      <th></th>\n",
       "      <th></th>\n",
       "      <th></th>\n",
       "      <th></th>\n",
       "      <th></th>\n",
       "      <th></th>\n",
       "      <th></th>\n",
       "      <th></th>\n",
       "      <th></th>\n",
       "      <th></th>\n",
       "      <th></th>\n",
       "      <th></th>\n",
       "      <th></th>\n",
       "      <th></th>\n",
       "      <th></th>\n",
       "      <th></th>\n",
       "    </tr>\n",
       "  </thead>\n",
       "  <tbody>\n",
       "    <tr>\n",
       "      <th>185000161</th>\n",
       "      <td>2014-10-15</td>\n",
       "      <td>3</td>\n",
       "      <td>1.00</td>\n",
       "      <td>1780</td>\n",
       "      <td>7800</td>\n",
       "      <td>1.0</td>\n",
       "      <td>0</td>\n",
       "      <td>0</td>\n",
       "      <td>2</td>\n",
       "      <td>7</td>\n",
       "      <td>1060</td>\n",
       "      <td>720.0</td>\n",
       "      <td>1957</td>\n",
       "      <td>0.0</td>\n",
       "      <td>98178</td>\n",
       "      <td>47.4932</td>\n",
       "      <td>-122.263</td>\n",
       "      <td>1450</td>\n",
       "      <td>7800</td>\n",
       "    </tr>\n",
       "    <tr>\n",
       "      <th>2767601311</th>\n",
       "      <td>2014-10-24</td>\n",
       "      <td>3</td>\n",
       "      <td>2.50</td>\n",
       "      <td>1260</td>\n",
       "      <td>1102</td>\n",
       "      <td>3.0</td>\n",
       "      <td>0</td>\n",
       "      <td>0</td>\n",
       "      <td>2</td>\n",
       "      <td>8</td>\n",
       "      <td>1260</td>\n",
       "      <td>0.0</td>\n",
       "      <td>2007</td>\n",
       "      <td>0.0</td>\n",
       "      <td>98107</td>\n",
       "      <td>47.6750</td>\n",
       "      <td>-122.387</td>\n",
       "      <td>1320</td>\n",
       "      <td>2500</td>\n",
       "    </tr>\n",
       "    <tr>\n",
       "      <th>7131300063</th>\n",
       "      <td>2015-04-29</td>\n",
       "      <td>4</td>\n",
       "      <td>1.75</td>\n",
       "      <td>2140</td>\n",
       "      <td>4959</td>\n",
       "      <td>1.0</td>\n",
       "      <td>0</td>\n",
       "      <td>0</td>\n",
       "      <td>2</td>\n",
       "      <td>7</td>\n",
       "      <td>1080</td>\n",
       "      <td>1060.0</td>\n",
       "      <td>1965</td>\n",
       "      <td>0.0</td>\n",
       "      <td>98118</td>\n",
       "      <td>47.5166</td>\n",
       "      <td>-122.266</td>\n",
       "      <td>1590</td>\n",
       "      <td>5250</td>\n",
       "    </tr>\n",
       "    <tr>\n",
       "      <th>8910500226</th>\n",
       "      <td>2015-04-09</td>\n",
       "      <td>3</td>\n",
       "      <td>3.50</td>\n",
       "      <td>1340</td>\n",
       "      <td>1168</td>\n",
       "      <td>2.0</td>\n",
       "      <td>0</td>\n",
       "      <td>2</td>\n",
       "      <td>2</td>\n",
       "      <td>8</td>\n",
       "      <td>1080</td>\n",
       "      <td>260.0</td>\n",
       "      <td>2002</td>\n",
       "      <td>0.0</td>\n",
       "      <td>98133</td>\n",
       "      <td>47.7110</td>\n",
       "      <td>-122.356</td>\n",
       "      <td>1650</td>\n",
       "      <td>1378</td>\n",
       "    </tr>\n",
       "    <tr>\n",
       "      <th>5230300210</th>\n",
       "      <td>2014-12-10</td>\n",
       "      <td>3</td>\n",
       "      <td>1.00</td>\n",
       "      <td>1040</td>\n",
       "      <td>9514</td>\n",
       "      <td>1.0</td>\n",
       "      <td>0</td>\n",
       "      <td>0</td>\n",
       "      <td>3</td>\n",
       "      <td>7</td>\n",
       "      <td>1040</td>\n",
       "      <td>0.0</td>\n",
       "      <td>1969</td>\n",
       "      <td>0.0</td>\n",
       "      <td>98059</td>\n",
       "      <td>47.4936</td>\n",
       "      <td>-122.102</td>\n",
       "      <td>1040</td>\n",
       "      <td>9514</td>\n",
       "    </tr>\n",
       "  </tbody>\n",
       "</table>\n",
       "</div>"
      ],
      "text/plain": [
       "                 date  bedrooms  bathrooms  sqft_living  sqft_lot  floors  \\\n",
       "id                                                                          \n",
       "185000161  2014-10-15         3       1.00         1780      7800     1.0   \n",
       "2767601311 2014-10-24         3       2.50         1260      1102     3.0   \n",
       "7131300063 2015-04-29         4       1.75         2140      4959     1.0   \n",
       "8910500226 2015-04-09         3       3.50         1340      1168     2.0   \n",
       "5230300210 2014-12-10         3       1.00         1040      9514     1.0   \n",
       "\n",
       "            waterfront  view  condition  grade  sqft_above sqft_basement  \\\n",
       "id                                                                         \n",
       "185000161            0     0          2      7        1060         720.0   \n",
       "2767601311           0     0          2      8        1260           0.0   \n",
       "7131300063           0     0          2      7        1080        1060.0   \n",
       "8910500226           0     2          2      8        1080         260.0   \n",
       "5230300210           0     0          3      7        1040           0.0   \n",
       "\n",
       "            yr_built  yr_renovated  zipcode      lat     long  sqft_living15  \\\n",
       "id                                                                             \n",
       "185000161       1957           0.0    98178  47.4932 -122.263           1450   \n",
       "2767601311      2007           0.0    98107  47.6750 -122.387           1320   \n",
       "7131300063      1965           0.0    98118  47.5166 -122.266           1590   \n",
       "8910500226      2002           0.0    98133  47.7110 -122.356           1650   \n",
       "5230300210      1969           0.0    98059  47.4936 -122.102           1040   \n",
       "\n",
       "            sqft_lot15  \n",
       "id                      \n",
       "185000161         7800  \n",
       "2767601311        2500  \n",
       "7131300063        5250  \n",
       "8910500226        1378  \n",
       "5230300210        9514  "
      ]
     },
     "execution_count": 93,
     "metadata": {},
     "output_type": "execute_result"
    }
   ],
   "source": [
    "X_train.loc[:, 'date'] = pd.to_datetime(X_train.loc[:, 'date'])\n",
    "X_train.head()"
   ]
  },
  {
   "cell_type": "code",
   "execution_count": 94,
   "metadata": {
    "execution": {
     "iopub.execute_input": "2022-01-06T03:49:55.353354Z",
     "iopub.status.busy": "2022-01-06T03:49:55.353076Z",
     "iopub.status.idle": "2022-01-06T03:49:55.406490Z",
     "shell.execute_reply": "2022-01-06T03:49:55.405129Z",
     "shell.execute_reply.started": "2022-01-06T03:49:55.353324Z"
    }
   },
   "outputs": [
    {
     "name": "stderr",
     "output_type": "stream",
     "text": [
      "/home/matt/anaconda3/envs/learn-env/lib/python3.8/site-packages/pandas/core/indexing.py:1745: SettingWithCopyWarning: \n",
      "A value is trying to be set on a copy of a slice from a DataFrame.\n",
      "Try using .loc[row_indexer,col_indexer] = value instead\n",
      "\n",
      "See the caveats in the documentation: https://pandas.pydata.org/pandas-docs/stable/user_guide/indexing.html#returning-a-view-versus-a-copy\n",
      "  isetter(ilocs[0], value)\n"
     ]
    }
   ],
   "source": [
    "X_test.loc[:, 'date'] = pd.to_datetime(X_test.loc[:, 'date'])"
   ]
  },
  {
   "cell_type": "code",
   "execution_count": 95,
   "metadata": {
    "execution": {
     "iopub.execute_input": "2022-01-06T03:49:55.539753Z",
     "iopub.status.busy": "2022-01-06T03:49:55.539461Z",
     "iopub.status.idle": "2022-01-06T03:49:55.548415Z",
     "shell.execute_reply": "2022-01-06T03:49:55.547239Z",
     "shell.execute_reply.started": "2022-01-06T03:49:55.539712Z"
    }
   },
   "outputs": [
    {
     "name": "stderr",
     "output_type": "stream",
     "text": [
      "<ipython-input-95-f4bd2db61849>:1: SettingWithCopyWarning: \n",
      "A value is trying to be set on a copy of a slice from a DataFrame.\n",
      "Try using .loc[row_indexer,col_indexer] = value instead\n",
      "\n",
      "See the caveats in the documentation: https://pandas.pydata.org/pandas-docs/stable/user_guide/indexing.html#returning-a-view-versus-a-copy\n",
      "  X_train['sqft_basement'] = X_train['sqft_basement'].astype(float)\n",
      "<ipython-input-95-f4bd2db61849>:2: SettingWithCopyWarning: \n",
      "A value is trying to be set on a copy of a slice from a DataFrame.\n",
      "Try using .loc[row_indexer,col_indexer] = value instead\n",
      "\n",
      "See the caveats in the documentation: https://pandas.pydata.org/pandas-docs/stable/user_guide/indexing.html#returning-a-view-versus-a-copy\n",
      "  X_train['grade'] = X_train['grade'].astype(int)\n"
     ]
    }
   ],
   "source": [
    "X_train['sqft_basement'] = X_train['sqft_basement'].astype(float)\n",
    "X_train['grade'] = X_train['grade'].astype(int)"
   ]
  },
  {
   "cell_type": "code",
   "execution_count": 96,
   "metadata": {
    "execution": {
     "iopub.execute_input": "2022-01-06T03:49:55.751964Z",
     "iopub.status.busy": "2022-01-06T03:49:55.751552Z",
     "iopub.status.idle": "2022-01-06T03:49:55.765881Z",
     "shell.execute_reply": "2022-01-06T03:49:55.763241Z",
     "shell.execute_reply.started": "2022-01-06T03:49:55.751918Z"
    }
   },
   "outputs": [
    {
     "name": "stderr",
     "output_type": "stream",
     "text": [
      "<ipython-input-96-1c989db8b192>:1: SettingWithCopyWarning: \n",
      "A value is trying to be set on a copy of a slice from a DataFrame.\n",
      "Try using .loc[row_indexer,col_indexer] = value instead\n",
      "\n",
      "See the caveats in the documentation: https://pandas.pydata.org/pandas-docs/stable/user_guide/indexing.html#returning-a-view-versus-a-copy\n",
      "  X_test['sqft_basement'] = X_test['sqft_basement'].astype(float)\n",
      "<ipython-input-96-1c989db8b192>:2: SettingWithCopyWarning: \n",
      "A value is trying to be set on a copy of a slice from a DataFrame.\n",
      "Try using .loc[row_indexer,col_indexer] = value instead\n",
      "\n",
      "See the caveats in the documentation: https://pandas.pydata.org/pandas-docs/stable/user_guide/indexing.html#returning-a-view-versus-a-copy\n",
      "  X_test['grade'] = X_test['grade'].astype(int)\n"
     ]
    }
   ],
   "source": [
    "X_test['sqft_basement'] = X_test['sqft_basement'].astype(float)\n",
    "X_test['grade'] = X_test['grade'].astype(int)"
   ]
  },
  {
   "cell_type": "code",
   "execution_count": 97,
   "metadata": {
    "execution": {
     "iopub.execute_input": "2022-01-06T03:49:55.965875Z",
     "iopub.status.busy": "2022-01-06T03:49:55.965540Z",
     "iopub.status.idle": "2022-01-06T03:49:55.982411Z",
     "shell.execute_reply": "2022-01-06T03:49:55.980690Z",
     "shell.execute_reply.started": "2022-01-06T03:49:55.965828Z"
    }
   },
   "outputs": [
    {
     "name": "stdout",
     "output_type": "stream",
     "text": [
      "<class 'pandas.core.frame.DataFrame'>\n",
      "Int64Index: 17277 entries, 185000161 to 1762600320\n",
      "Data columns (total 19 columns):\n",
      " #   Column         Non-Null Count  Dtype         \n",
      "---  ------         --------------  -----         \n",
      " 0   date           17277 non-null  datetime64[ns]\n",
      " 1   bedrooms       17277 non-null  int64         \n",
      " 2   bathrooms      17277 non-null  float64       \n",
      " 3   sqft_living    17277 non-null  int64         \n",
      " 4   sqft_lot       17277 non-null  int64         \n",
      " 5   floors         17277 non-null  float64       \n",
      " 6   waterfront     17277 non-null  int64         \n",
      " 7   view           17277 non-null  int64         \n",
      " 8   condition      17277 non-null  int64         \n",
      " 9   grade          17277 non-null  int64         \n",
      " 10  sqft_above     17277 non-null  int64         \n",
      " 11  sqft_basement  17277 non-null  float64       \n",
      " 12  yr_built       17277 non-null  int64         \n",
      " 13  yr_renovated   17277 non-null  float64       \n",
      " 14  zipcode        17277 non-null  int64         \n",
      " 15  lat            17277 non-null  float64       \n",
      " 16  long           17277 non-null  float64       \n",
      " 17  sqft_living15  17277 non-null  int64         \n",
      " 18  sqft_lot15     17277 non-null  int64         \n",
      "dtypes: datetime64[ns](1), float64(6), int64(12)\n",
      "memory usage: 2.6 MB\n"
     ]
    }
   ],
   "source": [
    "X_train.info()"
   ]
  },
  {
   "cell_type": "markdown",
   "metadata": {},
   "source": [
    "### Now we'll train a model using all the columns, except for date."
   ]
  },
  {
   "cell_type": "code",
   "execution_count": 98,
   "metadata": {
    "execution": {
     "iopub.execute_input": "2022-01-06T03:49:56.442605Z",
     "iopub.status.busy": "2022-01-06T03:49:56.439891Z",
     "iopub.status.idle": "2022-01-06T03:49:56.488809Z",
     "shell.execute_reply": "2022-01-06T03:49:56.481597Z",
     "shell.execute_reply.started": "2022-01-06T03:49:56.442413Z"
    }
   },
   "outputs": [],
   "source": [
    "X_mod = X_train.drop(['date'], axis=1)\n",
    "y_mod = y_train"
   ]
  },
  {
   "cell_type": "code",
   "execution_count": 99,
   "metadata": {
    "execution": {
     "iopub.execute_input": "2022-01-06T03:49:56.707816Z",
     "iopub.status.busy": "2022-01-06T03:49:56.704658Z",
     "iopub.status.idle": "2022-01-06T03:49:56.762439Z",
     "shell.execute_reply": "2022-01-06T03:49:56.761382Z",
     "shell.execute_reply.started": "2022-01-06T03:49:56.707552Z"
    }
   },
   "outputs": [
    {
     "name": "stdout",
     "output_type": "stream",
     "text": [
      "RMSE = 207965 \n",
      "R^2 = 0.683\n"
     ]
    }
   ],
   "source": [
    "regression = LinearRegression()\n",
    "regression.fit(X_mod, y_mod)\n",
    "\n",
    "y_hat = regression.predict(X_mod)\n",
    "rmse = np.sqrt(mean_squared_error(y_mod, y_hat))\n",
    "r2 = regression.score(X_mod, y_mod)\n",
    "\n",
    "print(f'RMSE = {int(round(rmse))} \\nR^2 = {round(r2, 3)}')"
   ]
  },
  {
   "cell_type": "code",
   "execution_count": 100,
   "metadata": {
    "execution": {
     "iopub.execute_input": "2022-01-06T03:49:56.906258Z",
     "iopub.status.busy": "2022-01-06T03:49:56.905996Z",
     "iopub.status.idle": "2022-01-06T03:49:56.926377Z",
     "shell.execute_reply": "2022-01-06T03:49:56.924751Z",
     "shell.execute_reply.started": "2022-01-06T03:49:56.906229Z"
    }
   },
   "outputs": [
    {
     "data": {
      "text/plain": [
       "0.6943674653840344"
      ]
     },
     "execution_count": 100,
     "metadata": {},
     "output_type": "execute_result"
    }
   ],
   "source": [
    "regression.score(X_test.drop(['date'], axis=1), y_test)"
   ]
  },
  {
   "cell_type": "code",
   "execution_count": 101,
   "metadata": {
    "execution": {
     "iopub.execute_input": "2022-01-06T03:49:57.239087Z",
     "iopub.status.busy": "2022-01-06T03:49:57.236986Z",
     "iopub.status.idle": "2022-01-06T03:49:57.415042Z",
     "shell.execute_reply": "2022-01-06T03:49:57.413777Z",
     "shell.execute_reply.started": "2022-01-06T03:49:57.238908Z"
    }
   },
   "outputs": [
    {
     "data": {
      "text/html": [
       "<table class=\"simpletable\">\n",
       "<caption>OLS Regression Results</caption>\n",
       "<tr>\n",
       "  <th>Dep. Variable:</th>          <td>price</td>      <th>  R-squared:         </th>  <td>   0.683</td>  \n",
       "</tr>\n",
       "<tr>\n",
       "  <th>Model:</th>                   <td>OLS</td>       <th>  Adj. R-squared:    </th>  <td>   0.683</td>  \n",
       "</tr>\n",
       "<tr>\n",
       "  <th>Method:</th>             <td>Least Squares</td>  <th>  F-statistic:       </th>  <td>   2068.</td>  \n",
       "</tr>\n",
       "<tr>\n",
       "  <th>Date:</th>             <td>Wed, 05 Jan 2022</td> <th>  Prob (F-statistic):</th>   <td>  0.00</td>   \n",
       "</tr>\n",
       "<tr>\n",
       "  <th>Time:</th>                 <td>22:49:57</td>     <th>  Log-Likelihood:    </th> <td>-2.3607e+05</td>\n",
       "</tr>\n",
       "<tr>\n",
       "  <th>No. Observations:</th>      <td> 17277</td>      <th>  AIC:               </th>  <td>4.722e+05</td> \n",
       "</tr>\n",
       "<tr>\n",
       "  <th>Df Residuals:</th>          <td> 17258</td>      <th>  BIC:               </th>  <td>4.723e+05</td> \n",
       "</tr>\n",
       "<tr>\n",
       "  <th>Df Model:</th>              <td>    18</td>      <th>                     </th>      <td> </td>     \n",
       "</tr>\n",
       "<tr>\n",
       "  <th>Covariance Type:</th>      <td>nonrobust</td>    <th>                     </th>      <td> </td>     \n",
       "</tr>\n",
       "</table>\n",
       "<table class=\"simpletable\">\n",
       "<tr>\n",
       "        <td></td>           <th>coef</th>     <th>std err</th>      <th>t</th>      <th>P>|t|</th>  <th>[0.025</th>    <th>0.975]</th>  \n",
       "</tr>\n",
       "<tr>\n",
       "  <th>const</th>         <td>-1.364e+06</td> <td> 3.37e+06</td> <td>   -0.405</td> <td> 0.685</td> <td>-7.96e+06</td> <td> 5.24e+06</td>\n",
       "</tr>\n",
       "<tr>\n",
       "  <th>bedrooms</th>      <td>-4.439e+04</td> <td> 2299.013</td> <td>  -19.306</td> <td> 0.000</td> <td>-4.89e+04</td> <td>-3.99e+04</td>\n",
       "</tr>\n",
       "<tr>\n",
       "  <th>bathrooms</th>     <td> 5.287e+04</td> <td> 3750.408</td> <td>   14.098</td> <td> 0.000</td> <td> 4.55e+04</td> <td> 6.02e+04</td>\n",
       "</tr>\n",
       "<tr>\n",
       "  <th>sqft_living</th>   <td>  146.0670</td> <td>   22.516</td> <td>    6.487</td> <td> 0.000</td> <td>  101.934</td> <td>  190.200</td>\n",
       "</tr>\n",
       "<tr>\n",
       "  <th>sqft_lot</th>      <td>    0.1260</td> <td>    0.054</td> <td>    2.318</td> <td> 0.020</td> <td>    0.019</td> <td>    0.233</td>\n",
       "</tr>\n",
       "<tr>\n",
       "  <th>floors</th>        <td> 3.232e+04</td> <td> 4170.916</td> <td>    7.750</td> <td> 0.000</td> <td> 2.41e+04</td> <td> 4.05e+04</td>\n",
       "</tr>\n",
       "<tr>\n",
       "  <th>waterfront</th>    <td> 6.024e+05</td> <td> 2.09e+04</td> <td>   28.812</td> <td> 0.000</td> <td> 5.61e+05</td> <td> 6.43e+05</td>\n",
       "</tr>\n",
       "<tr>\n",
       "  <th>view</th>          <td> 5.936e+04</td> <td> 2430.499</td> <td>   24.425</td> <td> 0.000</td> <td> 5.46e+04</td> <td> 6.41e+04</td>\n",
       "</tr>\n",
       "<tr>\n",
       "  <th>condition</th>     <td> 3.158e+04</td> <td> 2710.764</td> <td>   11.649</td> <td> 0.000</td> <td> 2.63e+04</td> <td> 3.69e+04</td>\n",
       "</tr>\n",
       "<tr>\n",
       "  <th>grade</th>         <td>-2.229e+04</td> <td>  893.313</td> <td>  -24.950</td> <td> 0.000</td> <td> -2.4e+04</td> <td>-2.05e+04</td>\n",
       "</tr>\n",
       "<tr>\n",
       "  <th>sqft_above</th>    <td>   84.8629</td> <td>   22.450</td> <td>    3.780</td> <td> 0.000</td> <td>   40.859</td> <td>  128.867</td>\n",
       "</tr>\n",
       "<tr>\n",
       "  <th>sqft_basement</th> <td>   41.7527</td> <td>   22.293</td> <td>    1.873</td> <td> 0.061</td> <td>   -1.945</td> <td>   85.450</td>\n",
       "</tr>\n",
       "<tr>\n",
       "  <th>yr_built</th>      <td>-1754.2940</td> <td>   81.478</td> <td>  -21.531</td> <td> 0.000</td> <td>-1914.000</td> <td>-1594.588</td>\n",
       "</tr>\n",
       "<tr>\n",
       "  <th>yr_renovated</th>  <td>   36.7210</td> <td>    4.612</td> <td>    7.963</td> <td> 0.000</td> <td>   27.682</td> <td>   45.760</td>\n",
       "</tr>\n",
       "<tr>\n",
       "  <th>zipcode</th>       <td> -660.7730</td> <td>   37.952</td> <td>  -17.411</td> <td> 0.000</td> <td> -735.164</td> <td> -586.382</td>\n",
       "</tr>\n",
       "<tr>\n",
       "  <th>lat</th>           <td> 6.774e+05</td> <td> 1.22e+04</td> <td>   55.566</td> <td> 0.000</td> <td> 6.54e+05</td> <td> 7.01e+05</td>\n",
       "</tr>\n",
       "<tr>\n",
       "  <th>long</th>          <td>-3.062e+05</td> <td> 1.51e+04</td> <td>  -20.292</td> <td> 0.000</td> <td>-3.36e+05</td> <td>-2.77e+05</td>\n",
       "</tr>\n",
       "<tr>\n",
       "  <th>sqft_living15</th> <td>   58.6668</td> <td>    3.827</td> <td>   15.328</td> <td> 0.000</td> <td>   51.165</td> <td>   66.169</td>\n",
       "</tr>\n",
       "<tr>\n",
       "  <th>sqft_lot15</th>    <td>   -0.4814</td> <td>    0.082</td> <td>   -5.883</td> <td> 0.000</td> <td>   -0.642</td> <td>   -0.321</td>\n",
       "</tr>\n",
       "</table>\n",
       "<table class=\"simpletable\">\n",
       "<tr>\n",
       "  <th>Omnibus:</th>       <td>13438.452</td> <th>  Durbin-Watson:     </th>  <td>   2.001</td>  \n",
       "</tr>\n",
       "<tr>\n",
       "  <th>Prob(Omnibus):</th>  <td> 0.000</td>   <th>  Jarque-Bera (JB):  </th> <td>1076477.788</td>\n",
       "</tr>\n",
       "<tr>\n",
       "  <th>Skew:</th>           <td> 3.143</td>   <th>  Prob(JB):          </th>  <td>    0.00</td>  \n",
       "</tr>\n",
       "<tr>\n",
       "  <th>Kurtosis:</th>       <td>41.156</td>   <th>  Cond. No.          </th>  <td>2.14e+08</td>  \n",
       "</tr>\n",
       "</table><br/><br/>Notes:<br/>[1] Standard Errors assume that the covariance matrix of the errors is correctly specified.<br/>[2] The condition number is large, 2.14e+08. This might indicate that there are<br/>strong multicollinearity or other numerical problems."
      ],
      "text/plain": [
       "<class 'statsmodels.iolib.summary.Summary'>\n",
       "\"\"\"\n",
       "                            OLS Regression Results                            \n",
       "==============================================================================\n",
       "Dep. Variable:                  price   R-squared:                       0.683\n",
       "Model:                            OLS   Adj. R-squared:                  0.683\n",
       "Method:                 Least Squares   F-statistic:                     2068.\n",
       "Date:                Wed, 05 Jan 2022   Prob (F-statistic):               0.00\n",
       "Time:                        22:49:57   Log-Likelihood:            -2.3607e+05\n",
       "No. Observations:               17277   AIC:                         4.722e+05\n",
       "Df Residuals:                   17258   BIC:                         4.723e+05\n",
       "Df Model:                          18                                         \n",
       "Covariance Type:            nonrobust                                         \n",
       "=================================================================================\n",
       "                    coef    std err          t      P>|t|      [0.025      0.975]\n",
       "---------------------------------------------------------------------------------\n",
       "const         -1.364e+06   3.37e+06     -0.405      0.685   -7.96e+06    5.24e+06\n",
       "bedrooms      -4.439e+04   2299.013    -19.306      0.000   -4.89e+04   -3.99e+04\n",
       "bathrooms      5.287e+04   3750.408     14.098      0.000    4.55e+04    6.02e+04\n",
       "sqft_living     146.0670     22.516      6.487      0.000     101.934     190.200\n",
       "sqft_lot          0.1260      0.054      2.318      0.020       0.019       0.233\n",
       "floors         3.232e+04   4170.916      7.750      0.000    2.41e+04    4.05e+04\n",
       "waterfront     6.024e+05   2.09e+04     28.812      0.000    5.61e+05    6.43e+05\n",
       "view           5.936e+04   2430.499     24.425      0.000    5.46e+04    6.41e+04\n",
       "condition      3.158e+04   2710.764     11.649      0.000    2.63e+04    3.69e+04\n",
       "grade         -2.229e+04    893.313    -24.950      0.000    -2.4e+04   -2.05e+04\n",
       "sqft_above       84.8629     22.450      3.780      0.000      40.859     128.867\n",
       "sqft_basement    41.7527     22.293      1.873      0.061      -1.945      85.450\n",
       "yr_built      -1754.2940     81.478    -21.531      0.000   -1914.000   -1594.588\n",
       "yr_renovated     36.7210      4.612      7.963      0.000      27.682      45.760\n",
       "zipcode        -660.7730     37.952    -17.411      0.000    -735.164    -586.382\n",
       "lat            6.774e+05   1.22e+04     55.566      0.000    6.54e+05    7.01e+05\n",
       "long          -3.062e+05   1.51e+04    -20.292      0.000   -3.36e+05   -2.77e+05\n",
       "sqft_living15    58.6668      3.827     15.328      0.000      51.165      66.169\n",
       "sqft_lot15       -0.4814      0.082     -5.883      0.000      -0.642      -0.321\n",
       "==============================================================================\n",
       "Omnibus:                    13438.452   Durbin-Watson:                   2.001\n",
       "Prob(Omnibus):                  0.000   Jarque-Bera (JB):          1076477.788\n",
       "Skew:                           3.143   Prob(JB):                         0.00\n",
       "Kurtosis:                      41.156   Cond. No.                     2.14e+08\n",
       "==============================================================================\n",
       "\n",
       "Notes:\n",
       "[1] Standard Errors assume that the covariance matrix of the errors is correctly specified.\n",
       "[2] The condition number is large, 2.14e+08. This might indicate that there are\n",
       "strong multicollinearity or other numerical problems.\n",
       "\"\"\""
      ]
     },
     "execution_count": 101,
     "metadata": {},
     "output_type": "execute_result"
    }
   ],
   "source": [
    "sm.OLS(y_mod, sm.add_constant(X_mod)).fit().summary()"
   ]
  },
  {
   "cell_type": "markdown",
   "metadata": {},
   "source": [
    "### Implementing cross validation and dummy variables"
   ]
  },
  {
   "cell_type": "code",
   "execution_count": 102,
   "metadata": {
    "execution": {
     "iopub.execute_input": "2022-01-06T03:49:57.938870Z",
     "iopub.status.busy": "2022-01-06T03:49:57.936484Z",
     "iopub.status.idle": "2022-01-06T03:49:57.974179Z",
     "shell.execute_reply": "2022-01-06T03:49:57.970292Z",
     "shell.execute_reply.started": "2022-01-06T03:49:57.938585Z"
    }
   },
   "outputs": [],
   "source": [
    "X_mod = X_train.drop(['date'], axis=1)\n",
    "y_mod = y_train"
   ]
  },
  {
   "cell_type": "code",
   "execution_count": 103,
   "metadata": {
    "execution": {
     "iopub.execute_input": "2022-01-06T03:49:58.191372Z",
     "iopub.status.busy": "2022-01-06T03:49:58.188295Z",
     "iopub.status.idle": "2022-01-06T03:49:58.768236Z",
     "shell.execute_reply": "2022-01-06T03:49:58.766979Z",
     "shell.execute_reply.started": "2022-01-06T03:49:58.191181Z"
    }
   },
   "outputs": [
    {
     "name": "stdout",
     "output_type": "stream",
     "text": [
      "Current Model\n",
      "Train RMSE:       207856\n",
      "Train R^2:        0.683\n",
      "Validation score: 208408\n",
      "Validation score: 0.68\n"
     ]
    }
   ],
   "source": [
    "regression = LinearRegression()\n",
    "\n",
    "scores = cross_validate(\n",
    "    estimator=regression,\n",
    "    X=X_mod,\n",
    "    y=y_mod,\n",
    "    scoring=['neg_mean_squared_error', 'r2'],\n",
    "    return_train_score=True,\n",
    "    cv=None\n",
    ")\n",
    "\n",
    "print(\"Current Model\")\n",
    "print(\"Train RMSE:      \", int(round(np.sqrt(scores[\"train_neg_mean_squared_error\"]*-1).mean())))\n",
    "print(\"Train R^2:       \", round(scores[\"train_r2\"].mean(), 3))\n",
    "print(\"Validation score:\", int(round(np.sqrt(scores[\"test_neg_mean_squared_error\"]*-1).mean())))\n",
    "print(\"Validation score:\", round(scores[\"test_r2\"].mean(), 3))"
   ]
  },
  {
   "cell_type": "code",
   "execution_count": 104,
   "metadata": {
    "execution": {
     "iopub.execute_input": "2022-01-06T03:49:58.771552Z",
     "iopub.status.busy": "2022-01-06T03:49:58.770520Z",
     "iopub.status.idle": "2022-01-06T03:49:58.863504Z",
     "shell.execute_reply": "2022-01-06T03:49:58.859577Z",
     "shell.execute_reply.started": "2022-01-06T03:49:58.771493Z"
    }
   },
   "outputs": [
    {
     "name": "stdout",
     "output_type": "stream",
     "text": [
      "RMSE = 207965 \n",
      "R^2 = 0.683\n"
     ]
    },
    {
     "data": {
      "text/plain": [
       "0.6943674653840344"
      ]
     },
     "execution_count": 104,
     "metadata": {},
     "output_type": "execute_result"
    }
   ],
   "source": [
    "regression = LinearRegression()\n",
    "regression.fit(X_mod, y_mod)\n",
    "\n",
    "y_hat = regression.predict(X_mod)\n",
    "rmse = np.sqrt(mean_squared_error(y_mod, y_hat))\n",
    "r2 = regression.score(X_mod, y_mod)\n",
    "\n",
    "print(f'RMSE = {int(round(rmse))} \\nR^2 = {round(r2, 3)}')\n",
    "\n",
    "regression.score(X_test.drop(['date'], axis=1), y_test)"
   ]
  },
  {
   "cell_type": "code",
   "execution_count": 105,
   "metadata": {
    "execution": {
     "iopub.execute_input": "2022-01-06T03:49:58.869181Z",
     "iopub.status.busy": "2022-01-06T03:49:58.867962Z",
     "iopub.status.idle": "2022-01-06T03:49:58.910184Z",
     "shell.execute_reply": "2022-01-06T03:49:58.908314Z",
     "shell.execute_reply.started": "2022-01-06T03:49:58.869123Z"
    }
   },
   "outputs": [],
   "source": [
    "grade_dummies = pd.get_dummies(X_train['grade'], prefix='grd', drop_first=True)\n",
    "view_dummies = pd.get_dummies(X_train['view'], prefix='view', drop_first=True)\n",
    "condition_dummies = pd.get_dummies(X_train['condition'], prefix='cond', drop_first=True)\n",
    "waterfront_dummies = pd.get_dummies(X_train['waterfront'], prefix='wtrfrnt', drop_first=True)"
   ]
  },
  {
   "cell_type": "code",
   "execution_count": 106,
   "metadata": {
    "execution": {
     "iopub.execute_input": "2022-01-06T03:49:58.913325Z",
     "iopub.status.busy": "2022-01-06T03:49:58.912133Z",
     "iopub.status.idle": "2022-01-06T03:49:58.968814Z",
     "shell.execute_reply": "2022-01-06T03:49:58.967501Z",
     "shell.execute_reply.started": "2022-01-06T03:49:58.913262Z"
    }
   },
   "outputs": [
    {
     "data": {
      "text/html": [
       "<div>\n",
       "<style scoped>\n",
       "    .dataframe tbody tr th:only-of-type {\n",
       "        vertical-align: middle;\n",
       "    }\n",
       "\n",
       "    .dataframe tbody tr th {\n",
       "        vertical-align: top;\n",
       "    }\n",
       "\n",
       "    .dataframe thead th {\n",
       "        text-align: right;\n",
       "    }\n",
       "</style>\n",
       "<table border=\"1\" class=\"dataframe\">\n",
       "  <thead>\n",
       "    <tr style=\"text-align: right;\">\n",
       "      <th></th>\n",
       "      <th>date</th>\n",
       "      <th>bedrooms</th>\n",
       "      <th>bathrooms</th>\n",
       "      <th>sqft_living</th>\n",
       "      <th>sqft_lot</th>\n",
       "      <th>floors</th>\n",
       "      <th>sqft_above</th>\n",
       "      <th>sqft_basement</th>\n",
       "      <th>yr_built</th>\n",
       "      <th>yr_renovated</th>\n",
       "      <th>...</th>\n",
       "      <th>grd_9</th>\n",
       "      <th>view_1</th>\n",
       "      <th>view_2</th>\n",
       "      <th>view_3</th>\n",
       "      <th>view_4</th>\n",
       "      <th>cond_1</th>\n",
       "      <th>cond_2</th>\n",
       "      <th>cond_3</th>\n",
       "      <th>cond_4</th>\n",
       "      <th>wtrfrnt_1</th>\n",
       "    </tr>\n",
       "    <tr>\n",
       "      <th>id</th>\n",
       "      <th></th>\n",
       "      <th></th>\n",
       "      <th></th>\n",
       "      <th></th>\n",
       "      <th></th>\n",
       "      <th></th>\n",
       "      <th></th>\n",
       "      <th></th>\n",
       "      <th></th>\n",
       "      <th></th>\n",
       "      <th></th>\n",
       "      <th></th>\n",
       "      <th></th>\n",
       "      <th></th>\n",
       "      <th></th>\n",
       "      <th></th>\n",
       "      <th></th>\n",
       "      <th></th>\n",
       "      <th></th>\n",
       "      <th></th>\n",
       "      <th></th>\n",
       "    </tr>\n",
       "  </thead>\n",
       "  <tbody>\n",
       "    <tr>\n",
       "      <th>185000161</th>\n",
       "      <td>2014-10-15</td>\n",
       "      <td>3</td>\n",
       "      <td>1.00</td>\n",
       "      <td>1780</td>\n",
       "      <td>7800</td>\n",
       "      <td>1.0</td>\n",
       "      <td>1060</td>\n",
       "      <td>720.0</td>\n",
       "      <td>1957</td>\n",
       "      <td>0.0</td>\n",
       "      <td>...</td>\n",
       "      <td>0</td>\n",
       "      <td>0</td>\n",
       "      <td>0</td>\n",
       "      <td>0</td>\n",
       "      <td>0</td>\n",
       "      <td>0</td>\n",
       "      <td>1</td>\n",
       "      <td>0</td>\n",
       "      <td>0</td>\n",
       "      <td>0</td>\n",
       "    </tr>\n",
       "    <tr>\n",
       "      <th>2767601311</th>\n",
       "      <td>2014-10-24</td>\n",
       "      <td>3</td>\n",
       "      <td>2.50</td>\n",
       "      <td>1260</td>\n",
       "      <td>1102</td>\n",
       "      <td>3.0</td>\n",
       "      <td>1260</td>\n",
       "      <td>0.0</td>\n",
       "      <td>2007</td>\n",
       "      <td>0.0</td>\n",
       "      <td>...</td>\n",
       "      <td>0</td>\n",
       "      <td>0</td>\n",
       "      <td>0</td>\n",
       "      <td>0</td>\n",
       "      <td>0</td>\n",
       "      <td>0</td>\n",
       "      <td>1</td>\n",
       "      <td>0</td>\n",
       "      <td>0</td>\n",
       "      <td>0</td>\n",
       "    </tr>\n",
       "    <tr>\n",
       "      <th>7131300063</th>\n",
       "      <td>2015-04-29</td>\n",
       "      <td>4</td>\n",
       "      <td>1.75</td>\n",
       "      <td>2140</td>\n",
       "      <td>4959</td>\n",
       "      <td>1.0</td>\n",
       "      <td>1080</td>\n",
       "      <td>1060.0</td>\n",
       "      <td>1965</td>\n",
       "      <td>0.0</td>\n",
       "      <td>...</td>\n",
       "      <td>0</td>\n",
       "      <td>0</td>\n",
       "      <td>0</td>\n",
       "      <td>0</td>\n",
       "      <td>0</td>\n",
       "      <td>0</td>\n",
       "      <td>1</td>\n",
       "      <td>0</td>\n",
       "      <td>0</td>\n",
       "      <td>0</td>\n",
       "    </tr>\n",
       "    <tr>\n",
       "      <th>8910500226</th>\n",
       "      <td>2015-04-09</td>\n",
       "      <td>3</td>\n",
       "      <td>3.50</td>\n",
       "      <td>1340</td>\n",
       "      <td>1168</td>\n",
       "      <td>2.0</td>\n",
       "      <td>1080</td>\n",
       "      <td>260.0</td>\n",
       "      <td>2002</td>\n",
       "      <td>0.0</td>\n",
       "      <td>...</td>\n",
       "      <td>0</td>\n",
       "      <td>0</td>\n",
       "      <td>1</td>\n",
       "      <td>0</td>\n",
       "      <td>0</td>\n",
       "      <td>0</td>\n",
       "      <td>1</td>\n",
       "      <td>0</td>\n",
       "      <td>0</td>\n",
       "      <td>0</td>\n",
       "    </tr>\n",
       "    <tr>\n",
       "      <th>5230300210</th>\n",
       "      <td>2014-12-10</td>\n",
       "      <td>3</td>\n",
       "      <td>1.00</td>\n",
       "      <td>1040</td>\n",
       "      <td>9514</td>\n",
       "      <td>1.0</td>\n",
       "      <td>1040</td>\n",
       "      <td>0.0</td>\n",
       "      <td>1969</td>\n",
       "      <td>0.0</td>\n",
       "      <td>...</td>\n",
       "      <td>0</td>\n",
       "      <td>0</td>\n",
       "      <td>0</td>\n",
       "      <td>0</td>\n",
       "      <td>0</td>\n",
       "      <td>0</td>\n",
       "      <td>0</td>\n",
       "      <td>1</td>\n",
       "      <td>0</td>\n",
       "      <td>0</td>\n",
       "    </tr>\n",
       "  </tbody>\n",
       "</table>\n",
       "<p>5 rows × 31 columns</p>\n",
       "</div>"
      ],
      "text/plain": [
       "                 date  bedrooms  bathrooms  sqft_living  sqft_lot  floors  \\\n",
       "id                                                                          \n",
       "185000161  2014-10-15         3       1.00         1780      7800     1.0   \n",
       "2767601311 2014-10-24         3       2.50         1260      1102     3.0   \n",
       "7131300063 2015-04-29         4       1.75         2140      4959     1.0   \n",
       "8910500226 2015-04-09         3       3.50         1340      1168     2.0   \n",
       "5230300210 2014-12-10         3       1.00         1040      9514     1.0   \n",
       "\n",
       "            sqft_above  sqft_basement  yr_built  yr_renovated  ...  grd_9  \\\n",
       "id                                                             ...          \n",
       "185000161         1060          720.0      1957           0.0  ...      0   \n",
       "2767601311        1260            0.0      2007           0.0  ...      0   \n",
       "7131300063        1080         1060.0      1965           0.0  ...      0   \n",
       "8910500226        1080          260.0      2002           0.0  ...      0   \n",
       "5230300210        1040            0.0      1969           0.0  ...      0   \n",
       "\n",
       "            view_1  view_2  view_3  view_4  cond_1  cond_2  cond_3  cond_4  \\\n",
       "id                                                                           \n",
       "185000161        0       0       0       0       0       1       0       0   \n",
       "2767601311       0       0       0       0       0       1       0       0   \n",
       "7131300063       0       0       0       0       0       1       0       0   \n",
       "8910500226       0       1       0       0       0       1       0       0   \n",
       "5230300210       0       0       0       0       0       0       1       0   \n",
       "\n",
       "            wtrfrnt_1  \n",
       "id                     \n",
       "185000161           0  \n",
       "2767601311          0  \n",
       "7131300063          0  \n",
       "8910500226          0  \n",
       "5230300210          0  \n",
       "\n",
       "[5 rows x 31 columns]"
      ]
     },
     "execution_count": 106,
     "metadata": {},
     "output_type": "execute_result"
    }
   ],
   "source": [
    "X_train_dummies = X_train.drop(['grade', 'view', 'condition', 'waterfront'], axis=1)\n",
    "X_train_dummies = pd.concat([X_train_dummies, grade_dummies, view_dummies, condition_dummies, waterfront_dummies], axis=1)\n",
    "X_train_dummies.head()"
   ]
  },
  {
   "cell_type": "code",
   "execution_count": 107,
   "metadata": {
    "execution": {
     "iopub.execute_input": "2022-01-06T03:49:58.970700Z",
     "iopub.status.busy": "2022-01-06T03:49:58.970348Z",
     "iopub.status.idle": "2022-01-06T03:49:58.987070Z",
     "shell.execute_reply": "2022-01-06T03:49:58.983965Z",
     "shell.execute_reply.started": "2022-01-06T03:49:58.970662Z"
    }
   },
   "outputs": [],
   "source": [
    "grade_dummies = pd.get_dummies(X_test['grade'], prefix='grd', drop_first=True)\n",
    "view_dummies = pd.get_dummies(X_test['view'], prefix='view', drop_first=True)\n",
    "condition_dummies = pd.get_dummies(X_test['condition'], prefix='cond', drop_first=True)\n",
    "waterfront_dummies = pd.get_dummies(X_test['waterfront'], prefix='wtrfrnt', drop_first=True)"
   ]
  },
  {
   "cell_type": "code",
   "execution_count": 108,
   "metadata": {
    "execution": {
     "iopub.execute_input": "2022-01-06T03:49:59.189688Z",
     "iopub.status.busy": "2022-01-06T03:49:59.189278Z",
     "iopub.status.idle": "2022-01-06T03:49:59.204376Z",
     "shell.execute_reply": "2022-01-06T03:49:59.203144Z",
     "shell.execute_reply.started": "2022-01-06T03:49:59.189639Z"
    }
   },
   "outputs": [],
   "source": [
    "X_test = X_test.drop(['grade', 'view', 'condition', 'waterfront'], axis=1)\n",
    "X_test = pd.concat([X_test, grade_dummies, view_dummies, condition_dummies, waterfront_dummies], axis=1)"
   ]
  },
  {
   "cell_type": "code",
   "execution_count": 109,
   "metadata": {
    "execution": {
     "iopub.execute_input": "2022-01-06T03:49:59.532817Z",
     "iopub.status.busy": "2022-01-06T03:49:59.531280Z",
     "iopub.status.idle": "2022-01-06T03:49:59.562087Z",
     "shell.execute_reply": "2022-01-06T03:49:59.559907Z",
     "shell.execute_reply.started": "2022-01-06T03:49:59.532598Z"
    }
   },
   "outputs": [],
   "source": [
    "X_mod = X_train_dummies.drop(['date'], axis=1)\n",
    "y_mod = y_train"
   ]
  },
  {
   "cell_type": "code",
   "execution_count": 110,
   "metadata": {
    "execution": {
     "iopub.execute_input": "2022-01-06T03:49:59.851421Z",
     "iopub.status.busy": "2022-01-06T03:49:59.850108Z",
     "iopub.status.idle": "2022-01-06T03:50:00.459566Z",
     "shell.execute_reply": "2022-01-06T03:50:00.458419Z",
     "shell.execute_reply.started": "2022-01-06T03:49:59.851282Z"
    }
   },
   "outputs": [
    {
     "name": "stdout",
     "output_type": "stream",
     "text": [
      "Current Model\n",
      "Train RMSE:       202193\n",
      "Train R^2:        0.7\n",
      "Validation score: 203015\n",
      "Validation score: 0.697\n"
     ]
    }
   ],
   "source": [
    "regression = LinearRegression()\n",
    "\n",
    "scores = cross_validate(\n",
    "    estimator=regression,\n",
    "    X=X_mod,\n",
    "    y=y_mod,\n",
    "    scoring=['neg_mean_squared_error', 'r2'],\n",
    "    return_train_score=True,\n",
    "    cv=None\n",
    ")\n",
    "\n",
    "print(\"Current Model\")\n",
    "print(\"Train RMSE:      \", int(round(np.sqrt(scores[\"train_neg_mean_squared_error\"]*-1).mean())))\n",
    "print(\"Train R^2:       \", round(scores[\"train_r2\"].mean(), 3))\n",
    "print(\"Validation score:\", int(round(np.sqrt(scores[\"test_neg_mean_squared_error\"]*-1).mean())))\n",
    "print(\"Validation score:\", round(scores[\"test_r2\"].mean(), 3))"
   ]
  },
  {
   "cell_type": "code",
   "execution_count": 111,
   "metadata": {
    "execution": {
     "iopub.execute_input": "2022-01-06T03:50:00.466533Z",
     "iopub.status.busy": "2022-01-06T03:50:00.466086Z",
     "iopub.status.idle": "2022-01-06T03:50:00.488407Z",
     "shell.execute_reply": "2022-01-06T03:50:00.487027Z",
     "shell.execute_reply.started": "2022-01-06T03:50:00.466483Z"
    }
   },
   "outputs": [
    {
     "data": {
      "text/plain": [
       "{'grd_3'}"
      ]
     },
     "execution_count": 111,
     "metadata": {},
     "output_type": "execute_result"
    }
   ],
   "source": [
    "set(X_mod.columns) - set(X_test.drop(['date'], axis=1).columns)"
   ]
  },
  {
   "cell_type": "code",
   "execution_count": 112,
   "metadata": {
    "execution": {
     "iopub.execute_input": "2022-01-06T03:50:00.497752Z",
     "iopub.status.busy": "2022-01-06T03:50:00.494599Z",
     "iopub.status.idle": "2022-01-06T03:50:00.514755Z",
     "shell.execute_reply": "2022-01-06T03:50:00.513737Z",
     "shell.execute_reply.started": "2022-01-06T03:50:00.497667Z"
    }
   },
   "outputs": [],
   "source": [
    "missing_columns = set(X_mod.columns) - set(X_test.drop(['date'], axis=1).columns)\n",
    "\n",
    "for column in missing_columns:\n",
    "    X_test[column] = 0"
   ]
  },
  {
   "cell_type": "code",
   "execution_count": 113,
   "metadata": {
    "execution": {
     "iopub.execute_input": "2022-01-06T03:50:00.550112Z",
     "iopub.status.busy": "2022-01-06T03:50:00.549633Z",
     "iopub.status.idle": "2022-01-06T03:50:00.725272Z",
     "shell.execute_reply": "2022-01-06T03:50:00.724192Z",
     "shell.execute_reply.started": "2022-01-06T03:50:00.550063Z"
    }
   },
   "outputs": [
    {
     "name": "stdout",
     "output_type": "stream",
     "text": [
      "RMSE = 202342 \n",
      "R^2 = 0.7\n"
     ]
    },
    {
     "data": {
      "text/plain": [
       "0.6586044146248404"
      ]
     },
     "execution_count": 113,
     "metadata": {},
     "output_type": "execute_result"
    }
   ],
   "source": [
    "regression = LinearRegression()\n",
    "regression.fit(X_mod, y_mod)\n",
    "\n",
    "y_hat = regression.predict(X_mod)\n",
    "rmse = np.sqrt(mean_squared_error(y_mod, y_hat))\n",
    "r2 = regression.score(X_mod, y_mod)\n",
    "\n",
    "print(f'RMSE = {int(round(rmse))} \\nR^2 = {round(r2, 3)}')\n",
    "\n",
    "regression.score(X_test.drop(['date'], axis=1), y_test)"
   ]
  },
  {
   "cell_type": "markdown",
   "metadata": {},
   "source": [
    "### Feature Engineering\n",
    "\n",
    "Here we'll engineer a few features to see if that improves our model's score at all. We'll start with distance to Seattle and distance to Redmond."
   ]
  },
  {
   "cell_type": "code",
   "execution_count": 114,
   "metadata": {
    "execution": {
     "iopub.execute_input": "2022-01-06T03:50:01.099157Z",
     "iopub.status.busy": "2022-01-06T03:50:01.095839Z",
     "iopub.status.idle": "2022-01-06T03:50:01.268068Z",
     "shell.execute_reply": "2022-01-06T03:50:01.267158Z",
     "shell.execute_reply.started": "2022-01-06T03:50:01.098951Z"
    }
   },
   "outputs": [],
   "source": [
    "def get_distance(point1, point2):\n",
    "    R = 6370\n",
    "    lat1 = radians(point1[0])\n",
    "    lon1 = radians(point1[1])\n",
    "    lat2 = radians(point2[0])\n",
    "    lon2 = radians(point2[1])\n",
    "\n",
    "    dlon = lon2 - lon1\n",
    "    dlat = lat2- lat1\n",
    "\n",
    "    a = sin(dlat / 2)**2 + cos(lat1) * cos(lat2) * sin(dlon / 2)**2\n",
    "    c = 2 * atan2(sqrt(a), sqrt(1-a))\n",
    "    distance = R * c\n",
    "    return distance\n",
    "\n",
    "# We will have to points of interest are the Centre of Seattle: (47.60457618602064, -122.32993003068658),\n",
    "# and the centre of Redmond: (47.679328831807894, -122.13055895937767)\n",
    "# For each record, we will calculate the distance from those points of interests and place them in a new column\n",
    "\n",
    "X_train_features = X_train_dummies\n",
    "X_train_features['lat_long'] = list(zip(X_train_features['lat'], X_train_features['long']))\n",
    "X_train_features['Seattle_dist_km'] = X_train_features['lat_long'].apply(lambda x: get_distance(x, (47.60457618602064, -122.32993003068658)))\n",
    "X_train_features['Redmond_dist_km'] = X_train_features['lat_long'].apply(lambda x: get_distance(x, (47.679328831807894, -122.13055895937767)))\n",
    "\n",
    "X_train_features.drop('lat_long', axis=1, inplace=True)"
   ]
  },
  {
   "cell_type": "code",
   "execution_count": 115,
   "metadata": {
    "execution": {
     "iopub.execute_input": "2022-01-06T03:50:01.301572Z",
     "iopub.status.busy": "2022-01-06T03:50:01.301165Z",
     "iopub.status.idle": "2022-01-06T03:50:01.358970Z",
     "shell.execute_reply": "2022-01-06T03:50:01.357865Z",
     "shell.execute_reply.started": "2022-01-06T03:50:01.301523Z"
    }
   },
   "outputs": [],
   "source": [
    "X_test['lat_long'] = list(zip(X_test['lat'], X_test['long']))\n",
    "X_test['Seattle_dist_km'] = X_test['lat_long'].apply(lambda x: get_distance(x, (47.60457618602064, -122.32993003068658)))\n",
    "X_test['Redmond_dist_km'] = X_test['lat_long'].apply(lambda x: get_distance(x, (47.679328831807894, -122.13055895937767)))\n",
    "\n",
    "X_test.drop('lat_long', axis=1, inplace=True)"
   ]
  },
  {
   "cell_type": "code",
   "execution_count": 116,
   "metadata": {
    "execution": {
     "iopub.execute_input": "2022-01-06T03:50:01.675711Z",
     "iopub.status.busy": "2022-01-06T03:50:01.675191Z",
     "iopub.status.idle": "2022-01-06T03:50:01.689200Z",
     "shell.execute_reply": "2022-01-06T03:50:01.687138Z",
     "shell.execute_reply.started": "2022-01-06T03:50:01.675645Z"
    }
   },
   "outputs": [],
   "source": [
    "X_mod = X_train_features.drop(['date'], axis=1)\n",
    "y_mod = y_train"
   ]
  },
  {
   "cell_type": "code",
   "execution_count": 117,
   "metadata": {
    "execution": {
     "iopub.execute_input": "2022-01-06T03:50:02.042618Z",
     "iopub.status.busy": "2022-01-06T03:50:02.042070Z",
     "iopub.status.idle": "2022-01-06T03:50:02.590581Z",
     "shell.execute_reply": "2022-01-06T03:50:02.589007Z",
     "shell.execute_reply.started": "2022-01-06T03:50:02.042556Z"
    }
   },
   "outputs": [
    {
     "name": "stdout",
     "output_type": "stream",
     "text": [
      "Current Model\n",
      "Train RMSE:       190613\n",
      "Train R^2:        0.734\n",
      "Validation score: 191295\n",
      "Validation score: 0.731\n"
     ]
    }
   ],
   "source": [
    "regression = LinearRegression()\n",
    "\n",
    "scores = cross_validate(\n",
    "    estimator=regression,\n",
    "    X=X_mod,\n",
    "    y=y_mod,\n",
    "    scoring=['neg_mean_squared_error', 'r2'],\n",
    "    return_train_score=True,\n",
    "    cv=None\n",
    ")\n",
    "\n",
    "print(\"Current Model\")\n",
    "print(\"Train RMSE:      \", int(round(np.sqrt(scores[\"train_neg_mean_squared_error\"]*-1).mean())))\n",
    "print(\"Train R^2:       \", round(scores[\"train_r2\"].mean(), 3))\n",
    "print(\"Validation score:\", int(round(np.sqrt(scores[\"test_neg_mean_squared_error\"]*-1).mean())))\n",
    "print(\"Validation score:\", round(scores[\"test_r2\"].mean(), 3))"
   ]
  },
  {
   "cell_type": "code",
   "execution_count": 118,
   "metadata": {
    "execution": {
     "iopub.execute_input": "2022-01-06T03:50:02.594563Z",
     "iopub.status.busy": "2022-01-06T03:50:02.592417Z",
     "iopub.status.idle": "2022-01-06T03:50:02.698015Z",
     "shell.execute_reply": "2022-01-06T03:50:02.696720Z",
     "shell.execute_reply.started": "2022-01-06T03:50:02.594503Z"
    }
   },
   "outputs": [
    {
     "name": "stdout",
     "output_type": "stream",
     "text": [
      "RMSE = 190762 \n",
      "R^2 = 0.733\n"
     ]
    },
    {
     "data": {
      "text/plain": [
       "0.6964938470043224"
      ]
     },
     "execution_count": 118,
     "metadata": {},
     "output_type": "execute_result"
    }
   ],
   "source": [
    "regression = LinearRegression()\n",
    "regression.fit(X_mod, y_mod)\n",
    "\n",
    "y_hat = regression.predict(X_mod)\n",
    "rmse = np.sqrt(mean_squared_error(y_mod, y_hat))\n",
    "r2 = regression.score(X_mod, y_mod)\n",
    "\n",
    "print(f'RMSE = {int(round(rmse))} \\nR^2 = {round(r2, 3)}')\n",
    "\n",
    "regression.score(X_test.drop(['date'], axis=1), y_test)"
   ]
  },
  {
   "cell_type": "markdown",
   "metadata": {},
   "source": [
    "# It only gets worse from here..."
   ]
  },
  {
   "cell_type": "code",
   "execution_count": 119,
   "metadata": {
    "execution": {
     "iopub.execute_input": "2022-01-06T03:50:02.823332Z",
     "iopub.status.busy": "2022-01-06T03:50:02.822950Z",
     "iopub.status.idle": "2022-01-06T03:50:02.838071Z",
     "shell.execute_reply": "2022-01-06T03:50:02.835871Z",
     "shell.execute_reply.started": "2022-01-06T03:50:02.823289Z"
    }
   },
   "outputs": [],
   "source": [
    "X_train_features2 = X_train_features\n",
    "\n",
    "# We can also include another feature: \"average room size\"\n",
    "X_train_features2['average_room_size'] = X_train_features2['sqft_living'] / (X_train['bathrooms'] + X_train['bedrooms'])\n",
    "\n",
    "# Another useful metric could be the Floor Area Ratio\n",
    "X_train_features2['floor_area_ratio'] = X_train_features2['sqft_living'] / X_train_features2['sqft_lot']"
   ]
  },
  {
   "cell_type": "code",
   "execution_count": 120,
   "metadata": {
    "execution": {
     "iopub.execute_input": "2022-01-06T03:50:03.378415Z",
     "iopub.status.busy": "2022-01-06T03:50:03.377124Z",
     "iopub.status.idle": "2022-01-06T03:50:03.407465Z",
     "shell.execute_reply": "2022-01-06T03:50:03.405407Z",
     "shell.execute_reply.started": "2022-01-06T03:50:03.378298Z"
    }
   },
   "outputs": [],
   "source": [
    "X_test_mock = X_test\n",
    "\n",
    "# We can also include another feature: \"average room size\"\n",
    "X_test['average_room_size'] = X_test['sqft_living'] / (X_test_mock['bathrooms'] + X_test_mock['bedrooms'])\n",
    "\n",
    "# Another useful metric could be the Floor Area Ratio\n",
    "X_test['floor_area_ratio'] = X_test['sqft_living'] / X_test['sqft_lot']"
   ]
  },
  {
   "cell_type": "code",
   "execution_count": 121,
   "metadata": {
    "execution": {
     "iopub.execute_input": "2022-01-06T03:50:03.853524Z",
     "iopub.status.busy": "2022-01-06T03:50:03.850449Z",
     "iopub.status.idle": "2022-01-06T03:50:03.894147Z",
     "shell.execute_reply": "2022-01-06T03:50:03.890304Z",
     "shell.execute_reply.started": "2022-01-06T03:50:03.853349Z"
    }
   },
   "outputs": [],
   "source": [
    "X_mod = X_train_features2.drop(['date'], axis=1)\n",
    "y_mod = y_train"
   ]
  },
  {
   "cell_type": "code",
   "execution_count": 122,
   "metadata": {
    "execution": {
     "iopub.execute_input": "2022-01-06T03:50:04.306008Z",
     "iopub.status.busy": "2022-01-06T03:50:04.304158Z",
     "iopub.status.idle": "2022-01-06T03:50:04.700445Z",
     "shell.execute_reply": "2022-01-06T03:50:04.699361Z",
     "shell.execute_reply.started": "2022-01-06T03:50:04.305821Z"
    }
   },
   "outputs": [
    {
     "name": "stdout",
     "output_type": "stream",
     "text": [
      "Current Model\n",
      "Train RMSE:       185598\n",
      "Train R^2:        0.748\n",
      "Validation score: 187096\n",
      "Validation score: 0.742\n"
     ]
    }
   ],
   "source": [
    "regression = LinearRegression()\n",
    "\n",
    "scores = cross_validate(\n",
    "    estimator=regression,\n",
    "    X=X_mod,\n",
    "    y=y_mod,\n",
    "    scoring=['neg_mean_squared_error', 'r2'],\n",
    "    return_train_score=True,\n",
    "    cv=None\n",
    ")\n",
    "\n",
    "print(\"Current Model\")\n",
    "print(\"Train RMSE:      \", int(round(np.sqrt(scores[\"train_neg_mean_squared_error\"]*-1).mean())))\n",
    "print(\"Train R^2:       \", round(scores[\"train_r2\"].mean(), 3))\n",
    "print(\"Validation score:\", int(round(np.sqrt(scores[\"test_neg_mean_squared_error\"]*-1).mean())))\n",
    "print(\"Validation score:\", round(scores[\"test_r2\"].mean(), 3))"
   ]
  },
  {
   "cell_type": "code",
   "execution_count": 123,
   "metadata": {
    "execution": {
     "iopub.execute_input": "2022-01-06T03:50:05.341112Z",
     "iopub.status.busy": "2022-01-06T03:50:05.340690Z",
     "iopub.status.idle": "2022-01-06T03:50:05.469976Z",
     "shell.execute_reply": "2022-01-06T03:50:05.466231Z",
     "shell.execute_reply.started": "2022-01-06T03:50:05.341040Z"
    }
   },
   "outputs": [
    {
     "name": "stdout",
     "output_type": "stream",
     "text": [
      "RMSE = 185793 \n",
      "R^2 = 0.747\n"
     ]
    },
    {
     "data": {
      "text/plain": [
       "0.6813716397813199"
      ]
     },
     "execution_count": 123,
     "metadata": {},
     "output_type": "execute_result"
    }
   ],
   "source": [
    "regression = LinearRegression()\n",
    "regression.fit(X_mod, y_mod)\n",
    "\n",
    "y_hat = regression.predict(X_mod)\n",
    "rmse = np.sqrt(mean_squared_error(y_mod, y_hat))\n",
    "r2 = regression.score(X_mod, y_mod)\n",
    "\n",
    "print(f'RMSE = {int(round(rmse))} \\nR^2 = {round(r2, 3)}')\n",
    "\n",
    "regression.score(X_test.drop(['date'], axis=1), y_test)"
   ]
  },
  {
   "cell_type": "markdown",
   "metadata": {},
   "source": [
    "### Log Transformations\n",
    "\n",
    "We'll try a few log transformations in order to normalize some of our data. We can't log transform any categorical variables because they're all in one-hot encoding, the other continuous variables are worth examining."
   ]
  },
  {
   "cell_type": "code",
   "execution_count": 124,
   "metadata": {
    "execution": {
     "iopub.execute_input": "2022-01-06T03:50:07.095972Z",
     "iopub.status.busy": "2022-01-06T03:50:07.095594Z",
     "iopub.status.idle": "2022-01-06T03:50:09.575803Z",
     "shell.execute_reply": "2022-01-06T03:50:09.574840Z",
     "shell.execute_reply.started": "2022-01-06T03:50:07.095930Z"
    }
   },
   "outputs": [
    {
     "data": {
      "image/png": "[encoded data removed]",
      "text/plain": [
       "<Figure size 1080x720 with 20 Axes>"
      ]
     },
     "metadata": {
      "needs_background": "light"
     },
     "output_type": "display_data"
    }
   ],
   "source": [
    "X_train.hist(figsize=(15,10));"
   ]
  },
  {
   "cell_type": "code",
   "execution_count": 125,
   "metadata": {
    "execution": {
     "iopub.execute_input": "2022-01-06T03:50:09.578102Z",
     "iopub.status.busy": "2022-01-06T03:50:09.577637Z",
     "iopub.status.idle": "2022-01-06T03:50:09.773158Z",
     "shell.execute_reply": "2022-01-06T03:50:09.772350Z",
     "shell.execute_reply.started": "2022-01-06T03:50:09.577943Z"
    }
   },
   "outputs": [],
   "source": [
    "X_train_log = X_train_features2\n",
    "\n",
    "non_normal = ['sqft_living', 'sqft_lot', 'sqft_above', 'sqft_living15', 'sqft_lot15']\n",
    "for feat in non_normal:\n",
    "    X_train_log[f'log{feat}'] = X_train_log[feat].map(lambda x: np.log(x))"
   ]
  },
  {
   "cell_type": "code",
   "execution_count": 126,
   "metadata": {
    "execution": {
     "iopub.execute_input": "2022-01-06T03:50:10.002530Z",
     "iopub.status.busy": "2022-01-06T03:50:10.002200Z",
     "iopub.status.idle": "2022-01-06T03:50:10.094891Z",
     "shell.execute_reply": "2022-01-06T03:50:10.093925Z",
     "shell.execute_reply.started": "2022-01-06T03:50:10.002489Z"
    }
   },
   "outputs": [],
   "source": [
    "non_normal = ['sqft_living', 'sqft_lot', 'sqft_above', 'sqft_living15', 'sqft_lot15']\n",
    "for feat in non_normal:\n",
    "    X_test[f'log{feat}'] = X_test[feat].map(lambda x: np.log(x))"
   ]
  },
  {
   "cell_type": "code",
   "execution_count": 127,
   "metadata": {
    "execution": {
     "iopub.execute_input": "2022-01-06T03:50:10.576245Z",
     "iopub.status.busy": "2022-01-06T03:50:10.575063Z",
     "iopub.status.idle": "2022-01-06T03:50:10.596108Z",
     "shell.execute_reply": "2022-01-06T03:50:10.594301Z",
     "shell.execute_reply.started": "2022-01-06T03:50:10.576131Z"
    }
   },
   "outputs": [],
   "source": [
    "X_mod = X_train_log.drop(['date'], axis=1)\n",
    "y_mod = y_train"
   ]
  },
  {
   "cell_type": "code",
   "execution_count": 128,
   "metadata": {
    "execution": {
     "iopub.execute_input": "2022-01-06T03:50:11.016290Z",
     "iopub.status.busy": "2022-01-06T03:50:11.015508Z",
     "iopub.status.idle": "2022-01-06T03:50:11.611013Z",
     "shell.execute_reply": "2022-01-06T03:50:11.609692Z",
     "shell.execute_reply.started": "2022-01-06T03:50:11.016162Z"
    }
   },
   "outputs": [
    {
     "name": "stdout",
     "output_type": "stream",
     "text": [
      "Current Model\n",
      "Train RMSE:       183639\n",
      "Train R^2:        0.753\n",
      "Validation score: 185305\n",
      "Validation score: 0.747\n"
     ]
    }
   ],
   "source": [
    "regression = LinearRegression()\n",
    "\n",
    "scores = cross_validate(\n",
    "    estimator=regression,\n",
    "    X=X_mod,\n",
    "    y=y_mod,\n",
    "    scoring=['neg_mean_squared_error', 'r2'],\n",
    "    return_train_score=True,\n",
    "    cv=None\n",
    ")\n",
    "\n",
    "print(\"Current Model\")\n",
    "print(\"Train RMSE:      \", int(round(np.sqrt(scores[\"train_neg_mean_squared_error\"]*-1).mean())))\n",
    "print(\"Train R^2:       \", round(scores[\"train_r2\"].mean(), 3))\n",
    "print(\"Validation score:\", int(round(np.sqrt(scores[\"test_neg_mean_squared_error\"]*-1).mean())))\n",
    "print(\"Validation score:\", round(scores[\"test_r2\"].mean(), 3))"
   ]
  },
  {
   "cell_type": "code",
   "execution_count": 129,
   "metadata": {
    "execution": {
     "iopub.execute_input": "2022-01-06T03:50:11.697614Z",
     "iopub.status.busy": "2022-01-06T03:50:11.697336Z",
     "iopub.status.idle": "2022-01-06T03:50:11.941051Z",
     "shell.execute_reply": "2022-01-06T03:50:11.939976Z",
     "shell.execute_reply.started": "2022-01-06T03:50:11.697585Z"
    }
   },
   "outputs": [
    {
     "name": "stdout",
     "output_type": "stream",
     "text": [
      "RMSE = 183847 \n",
      "R^2 = 0.752\n"
     ]
    },
    {
     "data": {
      "text/plain": [
       "0.6598765742172856"
      ]
     },
     "execution_count": 129,
     "metadata": {},
     "output_type": "execute_result"
    }
   ],
   "source": [
    "regression = LinearRegression()\n",
    "regression.fit(X_mod, y_mod)\n",
    "\n",
    "y_hat = regression.predict(X_mod)\n",
    "rmse = np.sqrt(mean_squared_error(y_mod, y_hat))\n",
    "r2 = regression.score(X_mod, y_mod)\n",
    "\n",
    "print(f'RMSE = {int(round(rmse))} \\nR^2 = {round(r2, 3)}')\n",
    "\n",
    "regression.score(X_test.drop(['date'], axis=1), y_test)"
   ]
  },
  {
   "cell_type": "code",
   "execution_count": 130,
   "metadata": {
    "execution": {
     "iopub.execute_input": "2022-01-06T03:50:12.980142Z",
     "iopub.status.busy": "2022-01-06T03:50:12.978111Z",
     "iopub.status.idle": "2022-01-06T03:50:13.219493Z",
     "shell.execute_reply": "2022-01-06T03:50:13.218130Z",
     "shell.execute_reply.started": "2022-01-06T03:50:12.980021Z"
    }
   },
   "outputs": [
    {
     "data": {
      "text/html": [
       "<table class=\"simpletable\">\n",
       "<caption>OLS Regression Results</caption>\n",
       "<tr>\n",
       "  <th>Dep. Variable:</th>          <td>price</td>      <th>  R-squared:         </th>  <td>   0.752</td>  \n",
       "</tr>\n",
       "<tr>\n",
       "  <th>Model:</th>                   <td>OLS</td>       <th>  Adj. R-squared:    </th>  <td>   0.752</td>  \n",
       "</tr>\n",
       "<tr>\n",
       "  <th>Method:</th>             <td>Least Squares</td>  <th>  F-statistic:       </th>  <td>   1343.</td>  \n",
       "</tr>\n",
       "<tr>\n",
       "  <th>Date:</th>             <td>Wed, 05 Jan 2022</td> <th>  Prob (F-statistic):</th>   <td>  0.00</td>   \n",
       "</tr>\n",
       "<tr>\n",
       "  <th>Time:</th>                 <td>22:50:13</td>     <th>  Log-Likelihood:    </th> <td>-2.3394e+05</td>\n",
       "</tr>\n",
       "<tr>\n",
       "  <th>No. Observations:</th>      <td> 17277</td>      <th>  AIC:               </th>  <td>4.680e+05</td> \n",
       "</tr>\n",
       "<tr>\n",
       "  <th>Df Residuals:</th>          <td> 17237</td>      <th>  BIC:               </th>  <td>4.683e+05</td> \n",
       "</tr>\n",
       "<tr>\n",
       "  <th>Df Model:</th>              <td>    39</td>      <th>                     </th>      <td> </td>     \n",
       "</tr>\n",
       "<tr>\n",
       "  <th>Covariance Type:</th>      <td>nonrobust</td>    <th>                     </th>      <td> </td>     \n",
       "</tr>\n",
       "</table>\n",
       "<table class=\"simpletable\">\n",
       "<tr>\n",
       "          <td></td>             <th>coef</th>     <th>std err</th>      <th>t</th>      <th>P>|t|</th>  <th>[0.025</th>    <th>0.975]</th>  \n",
       "</tr>\n",
       "<tr>\n",
       "  <th>const</th>             <td> 1.219e+08</td> <td> 4.24e+06</td> <td>   28.784</td> <td> 0.000</td> <td> 1.14e+08</td> <td>  1.3e+08</td>\n",
       "</tr>\n",
       "<tr>\n",
       "  <th>bedrooms</th>          <td> -6.23e+04</td> <td> 5389.514</td> <td>  -11.560</td> <td> 0.000</td> <td>-7.29e+04</td> <td>-5.17e+04</td>\n",
       "</tr>\n",
       "<tr>\n",
       "  <th>bathrooms</th>         <td> -901.1534</td> <td> 5963.415</td> <td>   -0.151</td> <td> 0.880</td> <td>-1.26e+04</td> <td> 1.08e+04</td>\n",
       "</tr>\n",
       "<tr>\n",
       "  <th>sqft_living</th>       <td>  402.8849</td> <td>   22.886</td> <td>   17.604</td> <td> 0.000</td> <td>  358.026</td> <td>  447.744</td>\n",
       "</tr>\n",
       "<tr>\n",
       "  <th>sqft_lot</th>          <td>    0.0651</td> <td>    0.061</td> <td>    1.065</td> <td> 0.287</td> <td>   -0.055</td> <td>    0.185</td>\n",
       "</tr>\n",
       "<tr>\n",
       "  <th>floors</th>            <td> -1.71e+04</td> <td> 4525.746</td> <td>   -3.779</td> <td> 0.000</td> <td> -2.6e+04</td> <td>-8231.840</td>\n",
       "</tr>\n",
       "<tr>\n",
       "  <th>sqft_above</th>        <td>   34.9260</td> <td>   22.644</td> <td>    1.542</td> <td> 0.123</td> <td>   -9.458</td> <td>   79.310</td>\n",
       "</tr>\n",
       "<tr>\n",
       "  <th>sqft_basement</th>     <td>   30.6745</td> <td>   19.741</td> <td>    1.554</td> <td> 0.120</td> <td>   -8.019</td> <td>   69.368</td>\n",
       "</tr>\n",
       "<tr>\n",
       "  <th>yr_built</th>          <td>-1386.1013</td> <td>   81.378</td> <td>  -17.033</td> <td> 0.000</td> <td>-1545.610</td> <td>-1226.593</td>\n",
       "</tr>\n",
       "<tr>\n",
       "  <th>yr_renovated</th>      <td>   36.3201</td> <td>    4.109</td> <td>    8.840</td> <td> 0.000</td> <td>   28.267</td> <td>   44.373</td>\n",
       "</tr>\n",
       "<tr>\n",
       "  <th>zipcode</th>           <td> -984.8370</td> <td>   37.725</td> <td>  -26.106</td> <td> 0.000</td> <td>-1058.782</td> <td> -910.892</td>\n",
       "</tr>\n",
       "<tr>\n",
       "  <th>lat</th>               <td> 5.876e+05</td> <td> 2.89e+04</td> <td>   20.352</td> <td> 0.000</td> <td> 5.31e+05</td> <td> 6.44e+05</td>\n",
       "</tr>\n",
       "<tr>\n",
       "  <th>long</th>              <td> 3.949e+05</td> <td> 2.31e+04</td> <td>   17.061</td> <td> 0.000</td> <td>  3.5e+05</td> <td>  4.4e+05</td>\n",
       "</tr>\n",
       "<tr>\n",
       "  <th>sqft_living15</th>     <td>    6.9594</td> <td>   12.158</td> <td>    0.572</td> <td> 0.567</td> <td>  -16.871</td> <td>   30.789</td>\n",
       "</tr>\n",
       "<tr>\n",
       "  <th>sqft_lot15</th>        <td>   -0.2456</td> <td>    0.095</td> <td>   -2.573</td> <td> 0.010</td> <td>   -0.433</td> <td>   -0.058</td>\n",
       "</tr>\n",
       "<tr>\n",
       "  <th>grd_3</th>             <td>-2.129e+05</td> <td> 1.85e+05</td> <td>   -1.152</td> <td> 0.250</td> <td>-5.75e+05</td> <td>  1.5e+05</td>\n",
       "</tr>\n",
       "<tr>\n",
       "  <th>grd_4</th>             <td> -4.91e+05</td> <td> 4.22e+04</td> <td>  -11.641</td> <td> 0.000</td> <td>-5.74e+05</td> <td>-4.08e+05</td>\n",
       "</tr>\n",
       "<tr>\n",
       "  <th>grd_5</th>             <td>-4.016e+05</td> <td> 1.67e+04</td> <td>  -24.026</td> <td> 0.000</td> <td>-4.34e+05</td> <td>-3.69e+05</td>\n",
       "</tr>\n",
       "<tr>\n",
       "  <th>grd_6</th>             <td>-3.384e+05</td> <td> 1.06e+04</td> <td>  -31.991</td> <td> 0.000</td> <td>-3.59e+05</td> <td>-3.18e+05</td>\n",
       "</tr>\n",
       "<tr>\n",
       "  <th>grd_7</th>             <td>-2.596e+05</td> <td> 8769.555</td> <td>  -29.598</td> <td> 0.000</td> <td>-2.77e+05</td> <td>-2.42e+05</td>\n",
       "</tr>\n",
       "<tr>\n",
       "  <th>grd_8</th>             <td> -2.14e+05</td> <td> 7949.423</td> <td>  -26.920</td> <td> 0.000</td> <td> -2.3e+05</td> <td>-1.98e+05</td>\n",
       "</tr>\n",
       "<tr>\n",
       "  <th>grd_9</th>             <td>-1.446e+05</td> <td> 7373.804</td> <td>  -19.613</td> <td> 0.000</td> <td>-1.59e+05</td> <td> -1.3e+05</td>\n",
       "</tr>\n",
       "<tr>\n",
       "  <th>view_1</th>            <td> 1.048e+05</td> <td> 1.13e+04</td> <td>    9.259</td> <td> 0.000</td> <td> 8.26e+04</td> <td> 1.27e+05</td>\n",
       "</tr>\n",
       "<tr>\n",
       "  <th>view_2</th>            <td>  6.73e+04</td> <td> 7006.381</td> <td>    9.605</td> <td> 0.000</td> <td> 5.36e+04</td> <td>  8.1e+04</td>\n",
       "</tr>\n",
       "<tr>\n",
       "  <th>view_3</th>            <td> 1.273e+05</td> <td> 9682.281</td> <td>   13.145</td> <td> 0.000</td> <td> 1.08e+05</td> <td> 1.46e+05</td>\n",
       "</tr>\n",
       "<tr>\n",
       "  <th>view_4</th>            <td> 3.118e+05</td> <td> 1.45e+04</td> <td>   21.524</td> <td> 0.000</td> <td> 2.83e+05</td> <td>  3.4e+05</td>\n",
       "</tr>\n",
       "<tr>\n",
       "  <th>cond_1</th>            <td> 8.019e+04</td> <td> 4.36e+04</td> <td>    1.839</td> <td> 0.066</td> <td>-5294.965</td> <td> 1.66e+05</td>\n",
       "</tr>\n",
       "<tr>\n",
       "  <th>cond_2</th>            <td>  9.94e+04</td> <td> 4.07e+04</td> <td>    2.440</td> <td> 0.015</td> <td> 1.95e+04</td> <td> 1.79e+05</td>\n",
       "</tr>\n",
       "<tr>\n",
       "  <th>cond_3</th>            <td> 1.362e+05</td> <td> 4.08e+04</td> <td>    3.341</td> <td> 0.001</td> <td> 5.63e+04</td> <td> 2.16e+05</td>\n",
       "</tr>\n",
       "<tr>\n",
       "  <th>cond_4</th>            <td> 1.701e+05</td> <td>  4.1e+04</td> <td>    4.151</td> <td> 0.000</td> <td> 8.98e+04</td> <td>  2.5e+05</td>\n",
       "</tr>\n",
       "<tr>\n",
       "  <th>wtrfrnt_1</th>         <td> 5.574e+05</td> <td> 2.07e+04</td> <td>   26.930</td> <td> 0.000</td> <td> 5.17e+05</td> <td> 5.98e+05</td>\n",
       "</tr>\n",
       "<tr>\n",
       "  <th>Seattle_dist_km</th>   <td>-1.587e+04</td> <td>  463.623</td> <td>  -34.239</td> <td> 0.000</td> <td>-1.68e+04</td> <td> -1.5e+04</td>\n",
       "</tr>\n",
       "<tr>\n",
       "  <th>Redmond_dist_km</th>   <td> 7076.9482</td> <td>  515.662</td> <td>   13.724</td> <td> 0.000</td> <td> 6066.199</td> <td> 8087.698</td>\n",
       "</tr>\n",
       "<tr>\n",
       "  <th>average_room_size</th> <td> -657.7113</td> <td>   70.912</td> <td>   -9.275</td> <td> 0.000</td> <td> -796.706</td> <td> -518.716</td>\n",
       "</tr>\n",
       "<tr>\n",
       "  <th>floor_area_ratio</th>  <td> 5.701e+04</td> <td> 1.28e+04</td> <td>    4.458</td> <td> 0.000</td> <td> 3.19e+04</td> <td> 8.21e+04</td>\n",
       "</tr>\n",
       "<tr>\n",
       "  <th>logsqft_living</th>    <td>-4.418e+05</td> <td> 2.48e+04</td> <td>  -17.842</td> <td> 0.000</td> <td> -4.9e+05</td> <td>-3.93e+05</td>\n",
       "</tr>\n",
       "<tr>\n",
       "  <th>logsqft_lot</th>       <td>  1.79e+04</td> <td> 5908.213</td> <td>    3.030</td> <td> 0.002</td> <td> 6320.644</td> <td> 2.95e+04</td>\n",
       "</tr>\n",
       "<tr>\n",
       "  <th>logsqft_above</th>     <td> 9.771e+04</td> <td> 2.11e+04</td> <td>    4.622</td> <td> 0.000</td> <td> 5.63e+04</td> <td> 1.39e+05</td>\n",
       "</tr>\n",
       "<tr>\n",
       "  <th>logsqft_living15</th>  <td> 6.396e+04</td> <td> 2.48e+04</td> <td>    2.580</td> <td> 0.010</td> <td> 1.54e+04</td> <td> 1.13e+05</td>\n",
       "</tr>\n",
       "<tr>\n",
       "  <th>logsqft_lot15</th>     <td>  331.4215</td> <td> 5485.975</td> <td>    0.060</td> <td> 0.952</td> <td>-1.04e+04</td> <td> 1.11e+04</td>\n",
       "</tr>\n",
       "</table>\n",
       "<table class=\"simpletable\">\n",
       "<tr>\n",
       "  <th>Omnibus:</th>       <td>11975.584</td> <th>  Durbin-Watson:     </th>  <td>   1.980</td> \n",
       "</tr>\n",
       "<tr>\n",
       "  <th>Prob(Omnibus):</th>  <td> 0.000</td>   <th>  Jarque-Bera (JB):  </th> <td>774290.440</td>\n",
       "</tr>\n",
       "<tr>\n",
       "  <th>Skew:</th>           <td> 2.671</td>   <th>  Prob(JB):          </th>  <td>    0.00</td> \n",
       "</tr>\n",
       "<tr>\n",
       "  <th>Kurtosis:</th>       <td>35.358</td>   <th>  Cond. No.          </th>  <td>3.05e+08</td> \n",
       "</tr>\n",
       "</table><br/><br/>Notes:<br/>[1] Standard Errors assume that the covariance matrix of the errors is correctly specified.<br/>[2] The condition number is large, 3.05e+08. This might indicate that there are<br/>strong multicollinearity or other numerical problems."
      ],
      "text/plain": [
       "<class 'statsmodels.iolib.summary.Summary'>\n",
       "\"\"\"\n",
       "                            OLS Regression Results                            \n",
       "==============================================================================\n",
       "Dep. Variable:                  price   R-squared:                       0.752\n",
       "Model:                            OLS   Adj. R-squared:                  0.752\n",
       "Method:                 Least Squares   F-statistic:                     1343.\n",
       "Date:                Wed, 05 Jan 2022   Prob (F-statistic):               0.00\n",
       "Time:                        22:50:13   Log-Likelihood:            -2.3394e+05\n",
       "No. Observations:               17277   AIC:                         4.680e+05\n",
       "Df Residuals:                   17237   BIC:                         4.683e+05\n",
       "Df Model:                          39                                         \n",
       "Covariance Type:            nonrobust                                         \n",
       "=====================================================================================\n",
       "                        coef    std err          t      P>|t|      [0.025      0.975]\n",
       "-------------------------------------------------------------------------------------\n",
       "const              1.219e+08   4.24e+06     28.784      0.000    1.14e+08     1.3e+08\n",
       "bedrooms           -6.23e+04   5389.514    -11.560      0.000   -7.29e+04   -5.17e+04\n",
       "bathrooms          -901.1534   5963.415     -0.151      0.880   -1.26e+04    1.08e+04\n",
       "sqft_living         402.8849     22.886     17.604      0.000     358.026     447.744\n",
       "sqft_lot              0.0651      0.061      1.065      0.287      -0.055       0.185\n",
       "floors             -1.71e+04   4525.746     -3.779      0.000    -2.6e+04   -8231.840\n",
       "sqft_above           34.9260     22.644      1.542      0.123      -9.458      79.310\n",
       "sqft_basement        30.6745     19.741      1.554      0.120      -8.019      69.368\n",
       "yr_built          -1386.1013     81.378    -17.033      0.000   -1545.610   -1226.593\n",
       "yr_renovated         36.3201      4.109      8.840      0.000      28.267      44.373\n",
       "zipcode            -984.8370     37.725    -26.106      0.000   -1058.782    -910.892\n",
       "lat                5.876e+05   2.89e+04     20.352      0.000    5.31e+05    6.44e+05\n",
       "long               3.949e+05   2.31e+04     17.061      0.000     3.5e+05     4.4e+05\n",
       "sqft_living15         6.9594     12.158      0.572      0.567     -16.871      30.789\n",
       "sqft_lot15           -0.2456      0.095     -2.573      0.010      -0.433      -0.058\n",
       "grd_3             -2.129e+05   1.85e+05     -1.152      0.250   -5.75e+05     1.5e+05\n",
       "grd_4              -4.91e+05   4.22e+04    -11.641      0.000   -5.74e+05   -4.08e+05\n",
       "grd_5             -4.016e+05   1.67e+04    -24.026      0.000   -4.34e+05   -3.69e+05\n",
       "grd_6             -3.384e+05   1.06e+04    -31.991      0.000   -3.59e+05   -3.18e+05\n",
       "grd_7             -2.596e+05   8769.555    -29.598      0.000   -2.77e+05   -2.42e+05\n",
       "grd_8              -2.14e+05   7949.423    -26.920      0.000    -2.3e+05   -1.98e+05\n",
       "grd_9             -1.446e+05   7373.804    -19.613      0.000   -1.59e+05    -1.3e+05\n",
       "view_1             1.048e+05   1.13e+04      9.259      0.000    8.26e+04    1.27e+05\n",
       "view_2              6.73e+04   7006.381      9.605      0.000    5.36e+04     8.1e+04\n",
       "view_3             1.273e+05   9682.281     13.145      0.000    1.08e+05    1.46e+05\n",
       "view_4             3.118e+05   1.45e+04     21.524      0.000    2.83e+05     3.4e+05\n",
       "cond_1             8.019e+04   4.36e+04      1.839      0.066   -5294.965    1.66e+05\n",
       "cond_2              9.94e+04   4.07e+04      2.440      0.015    1.95e+04    1.79e+05\n",
       "cond_3             1.362e+05   4.08e+04      3.341      0.001    5.63e+04    2.16e+05\n",
       "cond_4             1.701e+05    4.1e+04      4.151      0.000    8.98e+04     2.5e+05\n",
       "wtrfrnt_1          5.574e+05   2.07e+04     26.930      0.000    5.17e+05    5.98e+05\n",
       "Seattle_dist_km   -1.587e+04    463.623    -34.239      0.000   -1.68e+04    -1.5e+04\n",
       "Redmond_dist_km    7076.9482    515.662     13.724      0.000    6066.199    8087.698\n",
       "average_room_size  -657.7113     70.912     -9.275      0.000    -796.706    -518.716\n",
       "floor_area_ratio   5.701e+04   1.28e+04      4.458      0.000    3.19e+04    8.21e+04\n",
       "logsqft_living    -4.418e+05   2.48e+04    -17.842      0.000    -4.9e+05   -3.93e+05\n",
       "logsqft_lot         1.79e+04   5908.213      3.030      0.002    6320.644    2.95e+04\n",
       "logsqft_above      9.771e+04   2.11e+04      4.622      0.000    5.63e+04    1.39e+05\n",
       "logsqft_living15   6.396e+04   2.48e+04      2.580      0.010    1.54e+04    1.13e+05\n",
       "logsqft_lot15       331.4215   5485.975      0.060      0.952   -1.04e+04    1.11e+04\n",
       "==============================================================================\n",
       "Omnibus:                    11975.584   Durbin-Watson:                   1.980\n",
       "Prob(Omnibus):                  0.000   Jarque-Bera (JB):           774290.440\n",
       "Skew:                           2.671   Prob(JB):                         0.00\n",
       "Kurtosis:                      35.358   Cond. No.                     3.05e+08\n",
       "==============================================================================\n",
       "\n",
       "Notes:\n",
       "[1] Standard Errors assume that the covariance matrix of the errors is correctly specified.\n",
       "[2] The condition number is large, 3.05e+08. This might indicate that there are\n",
       "strong multicollinearity or other numerical problems.\n",
       "\"\"\""
      ]
     },
     "execution_count": 130,
     "metadata": {},
     "output_type": "execute_result"
    }
   ],
   "source": [
    "sm.OLS(y_mod, sm.add_constant(X_mod)).fit().summary()"
   ]
  },
  {
   "cell_type": "code",
   "execution_count": 131,
   "metadata": {
    "execution": {
     "iopub.execute_input": "2022-01-06T03:50:14.086256Z",
     "iopub.status.busy": "2022-01-06T03:50:14.085756Z",
     "iopub.status.idle": "2022-01-06T03:50:14.097130Z",
     "shell.execute_reply": "2022-01-06T03:50:14.095760Z",
     "shell.execute_reply.started": "2022-01-06T03:50:14.086196Z"
    }
   },
   "outputs": [],
   "source": [
    "X_mod = X_train_log.drop(['date', 'bathrooms', 'sqft_lot', 'sqft_above', 'sqft_basement', 'sqft_living15', 'logsqft_lot15'], axis=1)\n",
    "y_mod = y_train"
   ]
  },
  {
   "cell_type": "code",
   "execution_count": 132,
   "metadata": {
    "execution": {
     "iopub.execute_input": "2022-01-06T03:50:14.860194Z",
     "iopub.status.busy": "2022-01-06T03:50:14.859737Z",
     "iopub.status.idle": "2022-01-06T03:50:15.233551Z",
     "shell.execute_reply": "2022-01-06T03:50:15.232084Z",
     "shell.execute_reply.started": "2022-01-06T03:50:14.860141Z"
    }
   },
   "outputs": [
    {
     "name": "stdout",
     "output_type": "stream",
     "text": [
      "Current Model\n",
      "Train RMSE:       183689\n",
      "Train R^2:        0.753\n",
      "Validation score: 185089\n",
      "Validation score: 0.747\n"
     ]
    }
   ],
   "source": [
    "regression = LinearRegression()\n",
    "\n",
    "scores = cross_validate(\n",
    "    estimator=regression,\n",
    "    X=X_mod,\n",
    "    y=y_mod,\n",
    "    scoring=['neg_mean_squared_error', 'r2'],\n",
    "    return_train_score=True,\n",
    "    cv=None\n",
    ")\n",
    "\n",
    "print(\"Current Model\")\n",
    "print(\"Train RMSE:      \", int(round(np.sqrt(scores[\"train_neg_mean_squared_error\"]*-1).mean())))\n",
    "print(\"Train R^2:       \", round(scores[\"train_r2\"].mean(), 3))\n",
    "print(\"Validation score:\", int(round(np.sqrt(scores[\"test_neg_mean_squared_error\"]*-1).mean())))\n",
    "print(\"Validation score:\", round(scores[\"test_r2\"].mean(), 3))"
   ]
  },
  {
   "cell_type": "code",
   "execution_count": 133,
   "metadata": {
    "execution": {
     "iopub.execute_input": "2022-01-06T03:50:15.713705Z",
     "iopub.status.busy": "2022-01-06T03:50:15.712204Z",
     "iopub.status.idle": "2022-01-06T03:50:15.867368Z",
     "shell.execute_reply": "2022-01-06T03:50:15.865243Z",
     "shell.execute_reply.started": "2022-01-06T03:50:15.713520Z"
    }
   },
   "outputs": [
    {
     "name": "stdout",
     "output_type": "stream",
     "text": [
      "RMSE = 183869 \n",
      "R^2 = 0.752\n"
     ]
    }
   ],
   "source": [
    "regression = LinearRegression()\n",
    "regression.fit(X_mod, y_mod)\n",
    "\n",
    "y_hat = regression.predict(X_mod)\n",
    "rmse = np.sqrt(mean_squared_error(y_mod, y_hat))\n",
    "r2 = regression.score(X_mod, y_mod)\n",
    "\n",
    "print(f'RMSE = {int(round(rmse))} \\nR^2 = {round(r2, 3)}')"
   ]
  },
  {
   "cell_type": "markdown",
   "metadata": {
    "execution": {
     "iopub.execute_input": "2022-01-06T01:44:24.342691Z",
     "iopub.status.busy": "2022-01-06T01:44:24.342317Z",
     "iopub.status.idle": "2022-01-06T01:44:24.414439Z",
     "shell.execute_reply": "2022-01-06T01:44:24.412836Z",
     "shell.execute_reply.started": "2022-01-06T01:44:24.342643Z"
    }
   },
   "source": [
    "### Scoring Our Model on the Test Data"
   ]
  },
  {
   "cell_type": "code",
   "execution_count": 134,
   "metadata": {
    "execution": {
     "iopub.execute_input": "2022-01-06T03:50:18.781748Z",
     "iopub.status.busy": "2022-01-06T03:50:18.781383Z",
     "iopub.status.idle": "2022-01-06T03:50:18.789049Z",
     "shell.execute_reply": "2022-01-06T03:50:18.788169Z",
     "shell.execute_reply.started": "2022-01-06T03:50:18.781697Z"
    }
   },
   "outputs": [],
   "source": [
    "missing_columns = set(X_mod.columns) - set(X_test.drop(['date', 'bathrooms', 'sqft_lot', 'sqft_above', 'sqft_basement', 'sqft_living15', 'logsqft_lot15'], axis=1).columns)\n",
    "\n",
    "for column in missing_columns:\n",
    "    X_test[column] = 0"
   ]
  },
  {
   "cell_type": "code",
   "execution_count": 135,
   "metadata": {
    "execution": {
     "iopub.execute_input": "2022-01-06T03:50:19.457085Z",
     "iopub.status.busy": "2022-01-06T03:50:19.455920Z",
     "iopub.status.idle": "2022-01-06T03:50:19.511647Z",
     "shell.execute_reply": "2022-01-06T03:50:19.510159Z",
     "shell.execute_reply.started": "2022-01-06T03:50:19.456971Z"
    }
   },
   "outputs": [
    {
     "data": {
      "text/plain": [
       "0.6599340339401081"
      ]
     },
     "execution_count": 135,
     "metadata": {},
     "output_type": "execute_result"
    }
   ],
   "source": [
    "regression.score(X_test.drop(['date', 'bathrooms', 'sqft_lot', 'sqft_above', 'sqft_basement', 'sqft_living15', 'logsqft_lot15'], axis=1), y_test)"
   ]
  },
  {
   "cell_type": "code",
   "execution_count": null,
   "metadata": {},
   "outputs": [],
   "source": []
  },
  {
   "cell_type": "code",
   "execution_count": null,
   "metadata": {},
   "outputs": [],
   "source": []
  },
  {
   "cell_type": "code",
   "execution_count": null,
   "metadata": {},
   "outputs": [],
   "source": []
  },
  {
   "cell_type": "code",
   "execution_count": null,
   "metadata": {},
   "outputs": [],
   "source": []
  },
  {
   "cell_type": "code",
   "execution_count": null,
   "metadata": {},
   "outputs": [],
   "source": []
  },
  {
   "cell_type": "code",
   "execution_count": null,
   "metadata": {},
   "outputs": [],
   "source": []
  },
  {
   "cell_type": "code",
   "execution_count": null,
   "metadata": {},
   "outputs": [],
   "source": []
  },
  {
   "cell_type": "code",
   "execution_count": null,
   "metadata": {},
   "outputs": [],
   "source": []
  },
  {
   "cell_type": "code",
   "execution_count": null,
   "metadata": {},
   "outputs": [],
   "source": []
  },
  {
   "cell_type": "code",
   "execution_count": null,
   "metadata": {},
   "outputs": [],
   "source": []
  },
  {
   "cell_type": "markdown",
   "metadata": {},
   "source": [
    "Convert bedrooms, bathrooms, floors, zipcodes as categorical as well"
   ]
  },
  {
   "cell_type": "code",
   "execution_count": null,
   "metadata": {},
   "outputs": [],
   "source": [
    "bedrooms_dummies = pd.get_dummies(X_train['bedrooms'], prefix='bed', drop_first=True)\n",
    "bathrooms_dummies = pd.get_dummies(X_train['bathrooms'], prefix='bath', drop_first=True)\n",
    "zipcode_dummies = pd.get_dummies(X_train['zipcode'], prefix='zip', drop_first=True)\n",
    "floors_dummies = pd.get_dummies(X_train['floors'], prefix='floor', drop_first=True)"
   ]
  },
  {
   "cell_type": "code",
   "execution_count": null,
   "metadata": {},
   "outputs": [],
   "source": [
    "X_train_dummies2 = X_train_dummies.drop(['bedrooms', 'bathrooms', 'zipcode', 'floors'], axis=1)\n",
    "X_train_dummies2 = pd.concat([X_train_dummies2, bedrooms_dummies, bathrooms_dummies, zipcode_dummies, floors_dummies], axis=1)\n",
    "X_train_dummies2.head()"
   ]
  },
  {
   "cell_type": "code",
   "execution_count": null,
   "metadata": {},
   "outputs": [],
   "source": [
    "bedrooms_dummies = pd.get_dummies(X_test['bedrooms'], prefix='bed', drop_first=True)\n",
    "bathrooms_dummies = pd.get_dummies(X_test['bathrooms'], prefix='bath', drop_first=True)\n",
    "zipcode_dummies = pd.get_dummies(X_test['zipcode'], prefix='zip', drop_first=True)\n",
    "floors_dummies = pd.get_dummies(X_test['floors'], prefix='floor', drop_first=True)"
   ]
  },
  {
   "cell_type": "code",
   "execution_count": null,
   "metadata": {},
   "outputs": [],
   "source": [
    "X_test_mock = X_test\n",
    "\n",
    "X_test = X_test.drop(['bedrooms', 'bathrooms', 'zipcode', 'floors'], axis=1)\n",
    "X_test = pd.concat([X_test, bedrooms_dummies, bathrooms_dummies, zipcode_dummies, floors_dummies], axis=1)"
   ]
  },
  {
   "cell_type": "code",
   "execution_count": null,
   "metadata": {},
   "outputs": [],
   "source": [
    "X_mod = X_train_dummies2.drop(['date'], axis=1)\n",
    "y_mod = y_train"
   ]
  },
  {
   "cell_type": "code",
   "execution_count": null,
   "metadata": {},
   "outputs": [],
   "source": [
    "regression = LinearRegression()\n",
    "\n",
    "scores = cross_validate(\n",
    "    estimator=regression,\n",
    "    X=X_mod,\n",
    "    y=y_mod,\n",
    "    scoring=['neg_mean_squared_error', 'r2'],\n",
    "    return_train_score=True,\n",
    "    cv=None\n",
    ")\n",
    "\n",
    "print(\"Current Model\")\n",
    "print(\"Train RMSE:      \", int(round(np.sqrt(scores[\"train_neg_mean_squared_error\"]*-1).mean())))\n",
    "print(\"Train R^2:       \", round(scores[\"train_r2\"].mean(), 3))\n",
    "print(\"Validation score:\", int(round(np.sqrt(scores[\"test_neg_mean_squared_error\"]*-1).mean())))\n",
    "print(\"Validation score:\", round(scores[\"test_r2\"].mean(), 3))"
   ]
  },
  {
   "cell_type": "code",
   "execution_count": null,
   "metadata": {},
   "outputs": [],
   "source": [
    "set(X_mod.columns) - set(X_test.drop(['date'], axis=1).columns)"
   ]
  },
  {
   "cell_type": "code",
   "execution_count": null,
   "metadata": {},
   "outputs": [],
   "source": [
    "missing_columns = set(X_mod.columns) - set(X_test.drop(['date'], axis=1).columns)\n",
    "\n",
    "for column in missing_columns:\n",
    "    X_test[column] = 0"
   ]
  },
  {
   "cell_type": "code",
   "execution_count": null,
   "metadata": {},
   "outputs": [],
   "source": [
    "regression = LinearRegression()\n",
    "regression.fit(X_mod, y_mod)\n",
    "\n",
    "y_hat = regression.predict(X_mod)\n",
    "rmse = np.sqrt(mean_squared_error(y_mod, y_hat))\n",
    "r2 = regression.score(X_mod, y_mod)\n",
    "\n",
    "print(f'RMSE = {int(round(rmse))} \\nR^2 = {round(r2, 3)}')\n",
    "\n",
    "regression.score(X_test.drop(['date'], axis=1), y_test)"
   ]
  }
 ],
 "metadata": {
  "kernelspec": {
   "display_name": "Python (learn-env)",
   "language": "python",
   "name": "learn-env"
  },
  "language_info": {
   "codemirror_mode": {
    "name": "ipython",
    "version": 3
   },
   "file_extension": ".py",
   "mimetype": "text/x-python",
   "name": "python",
   "nbconvert_exporter": "python",
   "pygments_lexer": "ipython3",
   "version": "3.8.5"
  }
 },
 "nbformat": 4,
 "nbformat_minor": 4
}
